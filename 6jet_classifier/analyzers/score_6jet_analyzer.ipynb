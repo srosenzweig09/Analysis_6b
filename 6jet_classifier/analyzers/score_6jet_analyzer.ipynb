{
 "cells": [
  {
   "cell_type": "code",
   "execution_count": null,
   "metadata": {},
   "outputs": [],
   "source": [
    "from trsm import TRSM, combos"
   ]
  },
  {
   "cell_type": "code",
   "execution_count": null,
   "metadata": {},
   "outputs": [],
   "source": [
    "filename = f'../../signal/skimmed/NMSSM_XYH_YToHH_6b_MX_700_MY_400_testing_set_skimmed.root'\n",
    "trsm = TRSM(filename=filename)"
   ]
  },
  {
   "cell_type": "code",
   "execution_count": null,
   "metadata": {},
   "outputs": [],
   "source": [
    "combos7 = combos(trsm, 7)"
   ]
  },
  {
   "cell_type": "code",
   "execution_count": null,
   "metadata": {},
   "outputs": [],
   "source": [
    "from keras.models import model_from_json\n",
    "from pickle import load"
   ]
  },
  {
   "cell_type": "code",
   "execution_count": null,
   "metadata": {},
   "outputs": [],
   "source": [
    "tag = 'lr_0pt0001_beta1_0pt1_beta2_0pt5'"
   ]
  },
  {
   "cell_type": "code",
   "execution_count": null,
   "metadata": {},
   "outputs": [],
   "source": [
    "json_file = open(f'../models/{tag}/model/model_1.json', 'r')\n",
    "loaded_model_json = json_file.read()\n",
    "json_file.close()\n",
    "loaded_model = model_from_json(loaded_model_json)\n",
    "loaded_model.load_weights(f'../models/{tag}/model/model_1.h5')\n",
    "scaler = load(open(f'../models/{tag}/model/scaler_1.pkl', 'rb'))"
   ]
  },
  {
   "cell_type": "code",
   "execution_count": null,
   "metadata": {},
   "outputs": [],
   "source": [
    "test_features_7 = scaler.transform(combos7.combo_features)\n",
    "scores_7 = loaded_model.predict(test_features_7)[:,0]\n",
    "scores_7.shape"
   ]
  },
  {
   "cell_type": "code",
   "execution_count": null,
   "metadata": {},
   "outputs": [],
   "source": [
    "import awkward as ak\n",
    "import numpy as np"
   ]
  },
  {
   "cell_type": "code",
   "execution_count": null,
   "metadata": {},
   "outputs": [],
   "source": [
    "import matplotlib.pyplot as plt\n",
    "from consistent_plots import hist, hist2d"
   ]
  },
  {
   "cell_type": "code",
   "execution_count": null,
   "metadata": {},
   "outputs": [],
   "source": [
    "def norm_hist(arr, bins=100):\n",
    "    n, b = np.histogram(arr, bins=bins)\n",
    "    x = (b[:-1] + b[1:]) / 2\n",
    "    \n",
    "    return n/n.max(), b, x"
   ]
  },
  {
   "cell_type": "code",
   "execution_count": null,
   "metadata": {},
   "outputs": [],
   "source": [
    "fig, axs = plt.subplots(nrows=1, ncols=2, figsize=(10,3))\n",
    "\n",
    "ax = axs[0]\n",
    "ax.set_title(r\"$^7C_6$ Combinations Normalized\")\n",
    "\n",
    "n_7, b_7, x_7 = norm_hist(scores_7)\n",
    "c_n_7, b_7, x_7 = norm_hist(scores_7[combos7.sgnl_mask])\n",
    "w_n_7, b_7, x_7 = norm_hist(scores_7[~combos7.sgnl_mask])\n",
    "\n",
    "hist(ax, x_7, weights=n_7, bins=b_7, label='All 6-jet combos')\n",
    "hist(ax, x_7, weights=c_n_7, bins=b_7, label='Correct 6-jet combo')\n",
    "hist(ax, x_7, weights=w_n_7, bins=b_7, label='Incorrect 6-jet combo')\n",
    "ax.legend(fontsize='small', loc=9)\n",
    "\n",
    "ax.set_xlabel('Assigned Score')\n",
    "ax.set_ylabel('AU')\n",
    "\n",
    "textstr = f'Entries = {len(scores_7)}'\n",
    "props = dict(boxstyle='round', facecolor='white', alpha=1)\n",
    "ax.text(0.8, 1.02, textstr, transform=ax.transAxes, fontsize=9,\n",
    "        verticalalignment='top', bbox=props)\n",
    "\n",
    "ax = axs[1]\n",
    "ax.set_title(r\"$^7C_6$ Combinations\")\n",
    "\n",
    "n_7, b_7 = np.histogram(scores_7, bins=100)\n",
    "c_n_7, b_7 = np.histogram(scores_7[combos7.sgnl_mask], bins=100)\n",
    "w_n_7, b_7 = np.histogram(scores_7[~combos7.sgnl_mask], bins=100)\n",
    "\n",
    "x_7 = (b_7[1:] + b_7[:-1]) / 2\n",
    "\n",
    "hist(ax, x_7, weights=n_7, bins=b_7, label='All 6-jet combos')\n",
    "hist(ax, x_7, weights=c_n_7, bins=b_7, label='Correct 6-jet combo')\n",
    "hist(ax, x_7, weights=w_n_7, bins=b_7, label='Incorrect 6-jet combo')\n",
    "ax.legend(fontsize='small', loc=9)\n",
    "\n",
    "ax.set_xlabel('Assigned Score')\n",
    "ax.set_ylabel('Number of Combinations Per Bin')\n",
    "\n",
    "textstr = f'Entries = {len(scores_7)}'\n",
    "props = dict(boxstyle='round', facecolor='white', alpha=1)\n",
    "ax.text(0.8, 1.02, textstr, transform=ax.transAxes, fontsize=9,\n",
    "        verticalalignment='top', bbox=props)\n",
    "\n",
    "plt.tight_layout()\n",
    "plt.show()"
   ]
  },
  {
   "cell_type": "code",
   "execution_count": null,
   "metadata": {},
   "outputs": [],
   "source": [
    "pt_7  = combos7.combo_features[:,0:6]\n",
    "eta_7 = combos7.combo_features[:,6:12]\n",
    "phi_7 = combos7.combo_features[:,12:18]\n",
    "m_7   = np.ones(pt_7.shape)*4"
   ]
  },
  {
   "cell_type": "code",
   "execution_count": null,
   "metadata": {},
   "outputs": [],
   "source": [
    "import vector"
   ]
  },
  {
   "cell_type": "code",
   "execution_count": null,
   "metadata": {},
   "outputs": [],
   "source": [
    "p4_7_0 = vector.obj(pt=pt_7[:,0], eta=eta_7[:,0], phi=phi_7[:,0], mass=m_7[:,0])\n",
    "p4_7_1 = vector.obj(pt=pt_7[:,1], eta=eta_7[:,1], phi=phi_7[:,1], mass=m_7[:,1])\n",
    "p4_7_2 = vector.obj(pt=pt_7[:,2], eta=eta_7[:,2], phi=phi_7[:,2], mass=m_7[:,2])\n",
    "p4_7_3 = vector.obj(pt=pt_7[:,3], eta=eta_7[:,3], phi=phi_7[:,3], mass=m_7[:,3])\n",
    "p4_7_4 = vector.obj(pt=pt_7[:,4], eta=eta_7[:,4], phi=phi_7[:,4], mass=m_7[:,4])\n",
    "p4_7_5 = vector.obj(pt=pt_7[:,5], eta=eta_7[:,5], phi=phi_7[:,5], mass=m_7[:,5])"
   ]
  },
  {
   "cell_type": "code",
   "execution_count": null,
   "metadata": {},
   "outputs": [],
   "source": [
    "p4_7 = p4_7_0 + p4_7_1 + p4_7_2 + p4_7_3 + p4_7_4 + p4_7_5"
   ]
  },
  {
   "cell_type": "code",
   "execution_count": null,
   "metadata": {},
   "outputs": [],
   "source": [
    "fig, ax = plt.subplots(nrows=1, ncols=2, figsize=(10,4))\n",
    "\n",
    "ax[0].set_title(\"Signal 7 Combos\")\n",
    "ax[1].set_title(\"Background 7 Combos\")\n",
    "\n",
    "n, xedges, yedges, ims = hist2d(ax[0], p4_7.mass[combos7.sgnl_mask], scores_7[combos7.sgnl_mask], xbins=np.linspace(400,900,100))\n",
    "n, xedges, yedges, imb = hist2d(ax[1], p4_7.mass[~combos7.sgnl_mask], scores_7[~combos7.sgnl_mask], xbins=np.linspace(0,2000,100))\n",
    "\n",
    "plt.colorbar(ims, ax=ax[0])\n",
    "plt.colorbar(imb, ax=ax[1])\n",
    "\n",
    "ax[0].set_xlabel('Invariant Mass of 6-jet System [GeV]')\n",
    "ax[1].set_xlabel('Invariant Mass of 6-jet System [GeV]')\n",
    "ax[0].set_ylabel('Assigned Score')\n",
    "ax[1].set_ylabel('Assigned Score')\n",
    "\n",
    "plt.show()"
   ]
  },
  {
   "cell_type": "code",
   "execution_count": null,
   "metadata": {},
   "outputs": [],
   "source": [
    "score_bins = np.arange(0,1.01,0.01)"
   ]
  },
  {
   "cell_type": "code",
   "execution_count": null,
   "metadata": {},
   "outputs": [],
   "source": [
    "eff_7 = np.array(())\n",
    "for i in score_bins:\n",
    "    eff_7 = np.append(eff_7, int(np.sum(scores_7[combos7.sgnl_mask] > i)/len(scores_7[combos7.sgnl_mask])*100))"
   ]
  },
  {
   "cell_type": "code",
   "execution_count": null,
   "metadata": {},
   "outputs": [],
   "source": [
    "mistag_7 = np.array(())\n",
    "for i in score_bins:\n",
    "    mistag_7 = np.append(mistag_7, int(np.sum(scores_7[~combos7.sgnl_mask] > i)/len(scores_7[~combos7.sgnl_mask])*100))"
   ]
  },
  {
   "cell_type": "code",
   "execution_count": null,
   "metadata": {},
   "outputs": [],
   "source": [
    "dx = mistag_7[:-1] - mistag_7[1:]"
   ]
  },
  {
   "cell_type": "code",
   "execution_count": null,
   "metadata": {},
   "outputs": [],
   "source": [
    "height = eff_7[:-1] + eff_7[1:]"
   ]
  },
  {
   "cell_type": "code",
   "execution_count": null,
   "metadata": {},
   "outputs": [],
   "source": [
    "area_trapezoid = height / 2 * dx"
   ]
  },
  {
   "cell_type": "code",
   "execution_count": null,
   "metadata": {},
   "outputs": [],
   "source": [
    "auc = np.sum(area_trapezoid) / 100**2"
   ]
  },
  {
   "cell_type": "code",
   "execution_count": null,
   "metadata": {},
   "outputs": [],
   "source": [
    "fig, ax = plt.subplots()\n",
    "ax.set_title(r\"$^7C_6$ Combinations Efficiency Curve\")\n",
    "\n",
    "ax.plot(score_bins, eff_7)\n",
    "ax.set_ylabel('% Passing Signal')\n",
    "ax.set_xlabel('Assigned Score Cut')"
   ]
  },
  {
   "cell_type": "code",
   "execution_count": null,
   "metadata": {},
   "outputs": [],
   "source": [
    "fig, ax = plt.subplots()\n",
    "ax.set_title(r\"$^7C_6$ Combinations Mistag Curve\")\n",
    "\n",
    "ax.plot(score_bins, mistag_7)\n",
    "ax.set_ylabel('% Passing Background')\n",
    "ax.set_xlabel('Assigned Score Cut')"
   ]
  },
  {
   "cell_type": "code",
   "execution_count": null,
   "metadata": {},
   "outputs": [],
   "source": [
    "fig, ax = plt.subplots()\n",
    "ax.set_title(r\"$^7C_6$ Combinations ROC\")\n",
    "\n",
    "ax.plot(mistag_7, eff_7)\n",
    "ax.set_ylabel('True Positives %')\n",
    "ax.set_xlabel('False Positives %')\n",
    "\n",
    "props = dict(boxstyle='round', facecolor='white', alpha=0.5)\n",
    "ax.text(0.75, 0.1, f\"auc = {auc}\", transform=ax.transAxes, bbox=props)"
   ]
  },
  {
   "cell_type": "code",
   "execution_count": null,
   "metadata": {},
   "outputs": [],
   "source": []
  },
  {
   "cell_type": "code",
   "execution_count": null,
   "metadata": {},
   "outputs": [],
   "source": []
  },
  {
   "cell_type": "code",
   "execution_count": null,
   "metadata": {},
   "outputs": [],
   "source": []
  },
  {
   "cell_type": "code",
   "execution_count": null,
   "metadata": {},
   "outputs": [],
   "source": []
  }
 ],
 "metadata": {
  "interpreter": {
   "hash": "1b7750746940cad55290eceb0294b409311577204cbc8d296288c7b6047f6ec1"
  },
  "kernelspec": {
   "display_name": "Python 3",
   "language": "python",
   "name": "python3"
  },
  "language_info": {
   "codemirror_mode": {
    "name": "ipython",
    "version": 3
   },
   "file_extension": ".py",
   "mimetype": "text/x-python",
   "name": "python",
   "nbconvert_exporter": "python",
   "pygments_lexer": "ipython3",
   "version": "3.8.10"
  },
  "widgets": {
   "application/vnd.jupyter.widget-state+json": {
    "state": {},
    "version_major": 2,
    "version_minor": 0
   }
  }
 },
 "nbformat": 4,
 "nbformat_minor": 4
}
