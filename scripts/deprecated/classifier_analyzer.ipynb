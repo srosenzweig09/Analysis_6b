{
 "cells": [
  {
   "cell_type": "code",
   "execution_count": 1,
   "id": "0d0f8498",
   "metadata": {
    "ExecuteTime": {
     "end_time": "2021-03-11T21:12:19.892482Z",
     "start_time": "2021-03-11T21:12:19.866020Z"
    }
   },
   "outputs": [
    {
     "name": "stdout",
     "output_type": "stream",
     "text": [
      "Loading...\n"
     ]
    }
   ],
   "source": [
    "print(\"Loading...\")\n",
    "\n",
    "import numpy as np\n",
    "\n",
    "import matplotlib\n",
    "matplotlib.rc('xtick', labelsize=10) \n",
    "matplotlib.rc('ytick', labelsize=10) \n",
    "from matplotlib.gridspec import GridSpec\n",
    "import matplotlib.pyplot as plt\n",
    "%matplotlib widget\n",
    "from matplotlib.offsetbox import OffsetImage, AnnotationBbox\n",
    "from matplotlib import rcParams\n",
    "rcParams['font.family'] = 'serif'\n",
    "rcParams['font.sans-serif'] = ['Times New Roman']\n",
    "import matplotlib.cm as cm\n",
    "from matplotlib.colors import LogNorm\n",
    "import matplotlib.patches as mpatches\n",
    "from matplotlib.collections import PatchCollection\n",
    "\n",
    "from ipywidgets import interact, widgets, FloatSlider, Dropdown, Checkbox, VBox\n",
    "from IPython.display import display, clear_output\n",
    "\n",
    "from PIL import Image\n",
    "\n",
    "from pandas import DataFrame\n",
    "\n",
    "import warnings\n",
    "warnings.filterwarnings(\"ignore\")\n",
    "\n",
    "from keras.models import model_from_json\n",
    "\n",
    "from tqdm import tqdm\n",
    "\n",
    "from uproot3_methods import TLorentzVectorArray\n",
    "from consistent_plots import hist"
   ]
  },
  {
   "cell_type": "code",
   "execution_count": 2,
   "id": "71a713eb",
   "metadata": {},
   "outputs": [],
   "source": [
    "## LOAD MODEL\n",
    "model_dir = f'../models/classifier/reco/model/'\n",
    "json_file = open(model_dir + f'model_1.json', 'r')\n",
    "loaded_model_json = json_file.read()\n",
    "json_file.close()\n",
    "model = model_from_json(loaded_model_json)\n",
    "model.load_weights(model_dir + f'model_1.h5')\n",
    "\n",
    "## LOAD INPUTS\n",
    "file = np.load(\"../inputs/reco/nn_input_MX700_MY400_classifier.npz\")\n",
    "nevents = len(np.concatenate((file['test'], file['train'], file['val'])))"
   ]
  },
  {
   "cell_type": "code",
   "execution_count": 3,
   "id": "375e26ec",
   "metadata": {},
   "outputs": [],
   "source": [
    "x_test = file['x_test'] # normalized test examples\n",
    "X_test = file['X_test'] # unmodified test examples\n",
    "ntest = len(file['test'])\n",
    "\n",
    "scores = model.predict(x_test)\n",
    "scores = scores[:,0]\n",
    "rscores = np.around(scores, decimals=3)\n",
    "\n",
    "thresholds = np.arange(0.0,1.01,0.01)"
   ]
  },
  {
   "cell_type": "code",
   "execution_count": 4,
   "id": "3d3f9dc7",
   "metadata": {},
   "outputs": [],
   "source": [
    "# invariant mass of all pairings\n",
    "pair_inv1 = TLorentzVectorArray.from_ptetaphim(X_test[:,0], X_test[:,1], X_test[:,2], np.repeat(4e-9,len(X_test)))\n",
    "pair_inv2 = TLorentzVectorArray.from_ptetaphim(X_test[:,3], X_test[:,4], X_test[:,5], np.repeat(4e-9,len(X_test)))\n",
    "pair_inv = pair_inv1 + pair_inv2\n",
    "\n",
    "pair_p4 = np.reshape(pair_inv, (5039,15))\n",
    "\n",
    "pair_mass = np.reshape(pair_inv.mass, (5039, 15))\n",
    "true_Y = pair_p4[:,1] + pair_p4[:,2]\n",
    "true_X = pair_p4[:,1] + pair_p4[:,2] +  pair_p4[:,0]\n",
    "\n",
    "true_Y_m = np.array(())\n",
    "true_X_m = np.array(())\n",
    "\n",
    "for X, Y in zip(true_X, true_Y):\n",
    "    true_Y_m = np.append(true_Y_m, Y.mass)\n",
    "    true_X_m = np.append(true_X_m, X.mass)"
   ]
  },
  {
   "cell_type": "code",
   "execution_count": 5,
   "id": "51de036b",
   "metadata": {},
   "outputs": [],
   "source": [
    "## APPLY MODEL TO INPUTS\n",
    "# pscores = scores binned by pair\n",
    "pscores = []\n",
    "pinvmass = []\n",
    "for i in range(15):\n",
    "    pscores.append(scores[np.arange(i, ntest*15, 15)])\n",
    "    pinvmass.append(pair_inv[np.arange(i, ntest*15, 15)])\n",
    "pair_scores = np.array((pscores))\n",
    "pair_mass = np.array((pinvmass))\n",
    "    \n",
    "# escores = scores binned by event\n",
    "escores = []\n",
    "einvmass = []\n",
    "for i in range(0, ntest*15, 15):\n",
    "    escores.append(scores[i:i+15])\n",
    "    einvmass.append(pair_inv[i:i+15])\n",
    "event_scores = np.array((escores))\n",
    "event_mass = np.array((einvmass))"
   ]
  },
  {
   "cell_type": "code",
   "execution_count": 34,
   "id": "b5497917",
   "metadata": {},
   "outputs": [
    {
     "data": {
      "application/vnd.jupyter.widget-view+json": {
       "model_id": "2a5d50343bf44b3fa0e20f08ed4b6141",
       "version_major": 2,
       "version_minor": 0
      },
      "text/plain": [
       "Canvas(toolbar=Toolbar(toolitems=[('Home', 'Reset original view', 'home', 'home'), ('Back', 'Back to previous …"
      ]
     },
     "metadata": {},
     "output_type": "display_data"
    }
   ],
   "source": [
    "fig, ax = plt.subplots(nrows=1, ncols=2, figsize=(6,3))\n",
    "_ = hist(ax[0], true_Y_m, bins=np.linspace(200,600,60))\n",
    "ax[0].set_xlabel(r'Reco $m_Y$  [GeV]')\n",
    "_ = hist(ax[1], true_X_m, bins=np.linspace(400,900,60))\n",
    "ax[1].set_xlabel(r'Reco $m_X$  [GeV]')\n",
    "plt.tight_layout()"
   ]
  },
  {
   "cell_type": "code",
   "execution_count": 7,
   "id": "0f1251ae",
   "metadata": {},
   "outputs": [],
   "source": [
    "HX_score = pscores[0]\n",
    "H1_score = pscores[1]\n",
    "H2_score = pscores[2]"
   ]
  },
  {
   "cell_type": "code",
   "execution_count": 8,
   "id": "823784b2",
   "metadata": {},
   "outputs": [],
   "source": [
    "def get_any_all_eff(cut):\n",
    "    any_bool = np.any(np.column_stack((pscores[0], pscores[1], pscores[2]) > cut), axis=1)\n",
    "    any_eff = np.sum(any_bool)/len(any_bool)\n",
    "    all_bool = np.all(np.column_stack((pscores[0], pscores[1], pscores[2]) > cut), axis=1)\n",
    "    all_eff = np.sum(all_bool)/len(all_bool)\n",
    "    return any_eff, all_eff"
   ]
  },
  {
   "cell_type": "code",
   "execution_count": 9,
   "id": "e2a0f807",
   "metadata": {},
   "outputs": [],
   "source": [
    "HX_eff = [np.sum(HX_score > cut)/len(HX_score) for cut in thresholds]\n",
    "H1_eff = [np.sum(H1_score > cut)/len(HX_score) for cut in thresholds]\n",
    "H2_eff = [np.sum(H2_score > cut)/len(HX_score) for cut in thresholds]\n",
    "nonH_eff = [[np.sum(nH_score > cut)/len(nH_score) for cut in thresholds] for nH_score in pscores[3:]]\n",
    "any_eff = [get_any_all_eff(cut)[0] for cut in thresholds]\n",
    "all_eff = [get_any_all_eff(cut)[1] for cut in thresholds]"
   ]
  },
  {
   "cell_type": "code",
   "execution_count": 10,
   "id": "9f768ad2",
   "metadata": {},
   "outputs": [],
   "source": [
    "from matplotlib.ticker import MultipleLocator"
   ]
  },
  {
   "cell_type": "code",
   "execution_count": 11,
   "id": "429e38f5",
   "metadata": {},
   "outputs": [
    {
     "data": {
      "application/vnd.jupyter.widget-view+json": {
       "model_id": "d96c68a044d44c02a16c73b6d2daba4a",
       "version_major": 2,
       "version_minor": 0
      },
      "text/plain": [
       "Canvas(toolbar=Toolbar(toolitems=[('Home', 'Reset original view', 'home', 'home'), ('Back', 'Back to previous …"
      ]
     },
     "metadata": {},
     "output_type": "display_data"
    }
   ],
   "source": [
    "fig = plt.figure(figsize=(10,9))\n",
    "grid = GridSpec(nrows=3, ncols=3, hspace=0.25, wspace=0.5)\n",
    "\n",
    "ax = fig.add_subplot(grid[0,0])\n",
    "ax.plot(thresholds, HX_eff, label='HX')\n",
    "ax.legend()\n",
    "ax.set_ylabel('Efficiency')\n",
    "ax.set_xlabel('Score Cut')\n",
    "\n",
    "ax = fig.add_subplot(grid[0,1])\n",
    "ax.plot(thresholds, H1_eff, label='H1', color='C1')\n",
    "ax.legend()\n",
    "ax.set_ylabel('Efficiency')\n",
    "ax.set_xlabel('Score Cut')\n",
    "\n",
    "ax = fig.add_subplot(grid[0,2])\n",
    "ax.plot(thresholds, H2_eff, label='H2', color='C2')\n",
    "ax.legend()\n",
    "ax.set_ylabel('Efficiency')\n",
    "ax.set_xlabel('Score Cut')\n",
    "\n",
    "ax = fig.add_subplot(grid[1,:2])\n",
    "ax.plot(thresholds, any_eff, label='any')\n",
    "ax.legend()\n",
    "ax.set_ylabel('Efficiency')\n",
    "ax.set_xlabel('Score Cut')\n",
    "ax.set_aspect(1)\n",
    "ax.yaxis.set_major_locator(MultipleLocator(0.2))\n",
    "\n",
    "ax = fig.add_subplot(grid[1,1:])\n",
    "ax.plot(thresholds, all_eff, label='all')\n",
    "ax.legend()\n",
    "ax.set_ylabel('Efficiency')\n",
    "ax.set_xlabel('Score Cut')\n",
    "ax.set_aspect(1)\n",
    "ax.yaxis.set_major_locator(MultipleLocator(0.2))\n",
    "\n",
    "ax = fig.add_subplot(grid[2,1])\n",
    "ax.plot(thresholds, HX_eff, label='HX')\n",
    "ax.plot(thresholds, H1_eff, label='H1', color='C1')\n",
    "ax.plot(thresholds, H2_eff, label='H2', color='C2')\n",
    "ax.legend()\n",
    "ax.set_ylabel('Efficiency')\n",
    "ax.set_xlabel('Score Cut')\n",
    "\n",
    "plt.tight_layout()"
   ]
  },
  {
   "cell_type": "code",
   "execution_count": 12,
   "id": "f86a863c",
   "metadata": {},
   "outputs": [
    {
     "data": {
      "application/vnd.jupyter.widget-view+json": {
       "model_id": "4107890b524e4067a4b5df022b368ff8",
       "version_major": 2,
       "version_minor": 0
      },
      "text/plain": [
       "Canvas(toolbar=Toolbar(toolitems=[('Home', 'Reset original view', 'home', 'home'), ('Back', 'Back to previous …"
      ]
     },
     "metadata": {},
     "output_type": "display_data"
    },
    {
     "name": "stderr",
     "output_type": "stream",
     "text": [
      "No handles with labels found to put in legend.\n"
     ]
    }
   ],
   "source": [
    "fig, ax = plt.subplots(nrows=3, ncols=2, figsize=(8,8))\n",
    "\n",
    "ax[0][0].plot(thresholds, HX_eff, label='HX')\n",
    "ax[0][1].plot(thresholds, H1_eff, label='H1')\n",
    "ax[1][0].plot(thresholds, H2_eff, label='H2')\n",
    "ax[1][1].plot(thresholds, any_eff, label='any')\n",
    "ax[1][1].plot(thresholds, all_eff, label='all')\n",
    "ax[2][0].plot(thresholds, HX_eff, label='HX')\n",
    "ax[2][0].plot(thresholds, H1_eff, label='H1')\n",
    "ax[2][0].plot(thresholds, H2_eff, label='H2')\n",
    "\n",
    "for axis in ax.flat:\n",
    "    axis.legend()\n",
    "    axis.set_xlabel('Score Cut')\n",
    "    axis.set_ylabel('Efficiency')\n",
    "    axis.set_ylim(0, 1.05)\n",
    "    \n",
    "plt.tight_layout()"
   ]
  },
  {
   "cell_type": "code",
   "execution_count": 13,
   "id": "67275100",
   "metadata": {},
   "outputs": [],
   "source": [
    "labels = ['HX b1, H1 b1',\n",
    " 'HX b1, H1 b2',\n",
    " 'HX b1, H2 b1',\n",
    " 'HX b1, H2 b2',\n",
    " 'HX b2, H1 b1',\n",
    " 'HX b2, H1 b2',\n",
    " 'HX b2, H2 b1',\n",
    " 'HX b2, H2 b2',\n",
    " 'H1 b1, H2 b1',\n",
    " 'H1 b1, H2 b2',\n",
    " 'H1 b2, H2 b1',\n",
    " 'H1 b2, H2 b2']"
   ]
  },
  {
   "cell_type": "code",
   "execution_count": 14,
   "id": "85b006ba",
   "metadata": {},
   "outputs": [
    {
     "data": {
      "application/vnd.jupyter.widget-view+json": {
       "model_id": "de6c8d0b8d47416dad636784169f04bc",
       "version_major": 2,
       "version_minor": 0
      },
      "text/plain": [
       "Canvas(toolbar=Toolbar(toolitems=[('Home', 'Reset original view', 'home', 'home'), ('Back', 'Back to previous …"
      ]
     },
     "metadata": {},
     "output_type": "display_data"
    }
   ],
   "source": [
    "fig, axs = plt.subplots(nrows=4, ncols=3, figsize=(10,10))\n",
    "for ax,eff,lab in zip(axs.flat, nonH_eff, labels):\n",
    "    eff = np.ones_like(eff) - eff\n",
    "    ax.plot(thresholds, eff, label=lab)\n",
    "    ax.legend()"
   ]
  },
  {
   "cell_type": "code",
   "execution_count": 15,
   "id": "92c31c55",
   "metadata": {},
   "outputs": [],
   "source": [
    "#fig, axs =  plt.subplots(nrows=5, ncols=3, figsize=(10,12))\n",
    "#for i,ax in enumerate(axs.flat):\n",
    "#    hist(ax, pair_mass[:,i], bins=np.linspace(0,300,100))"
   ]
  },
  {
   "cell_type": "code",
   "execution_count": 16,
   "id": "3076a0af",
   "metadata": {},
   "outputs": [
    {
     "name": "stdout",
     "output_type": "stream",
     "text": [
      "Efficiency of all three Higgs obtaining three highest scores: 14.6%\n",
      "Efficiency of two Higgs obtaining one of three highest scores: 75.1%\n",
      "Efficiency of one Higgs obtaining one of three highest scores: 98.1%\n"
     ]
    }
   ],
   "source": [
    "events_sorted_pairs = np.argsort(event_scores, axis=1)[:,::-1]\n",
    "top_three_scoring_pairs = events_sorted_pairs[:,:3]\n",
    "higgs_mask_top_scoring = top_three_scoring_pairs < 3\n",
    "\n",
    "hx_mask = higgs_mask_top_scoring[:,0]\n",
    "h1_mask = higgs_mask_top_scoring[:,1]\n",
    "h2_mask = higgs_mask_top_scoring[:,2]\n",
    "\n",
    "higgs_event_top_3mask = hx_mask & h1_mask & h2_mask\n",
    "higgs_event_top_2mask = (hx_mask & h1_mask) | (hx_mask & h2_mask) | (h1_mask & h2_mask)\n",
    "higgs_event_top_1mask = hx_mask | h1_mask | h2_mask\n",
    "\n",
    "higgs3 = np.sum(higgs_event_top_3mask)/len(higgs_event_top_3mask)\n",
    "higgs2 = np.sum(higgs_event_top_2mask)/len(higgs_event_top_2mask)\n",
    "higgs1 = np.sum(higgs_event_top_1mask)/len(higgs_event_top_1mask)\n",
    "\n",
    "print(f\"Efficiency of all three Higgs obtaining three highest scores: {higgs3*100:.1f}%\")\n",
    "print(f\"Efficiency of two Higgs obtaining one of three highest scores: {higgs2*100:.1f}%\")\n",
    "print(f\"Efficiency of one Higgs obtaining one of three highest scores: {higgs1*100:.1f}%\")"
   ]
  },
  {
   "cell_type": "code",
   "execution_count": 17,
   "id": "e3c89df5",
   "metadata": {},
   "outputs": [],
   "source": [
    "sbe = scores.reshape(5039,15) # scores by event\n",
    "\n",
    "def get_passing_pairs(cut):\n",
    "    \"\"\"Returns how many pairs pass the cut for each event, as well as indices of passing pairs.\"\"\"\n",
    "    pass_pairs = []\n",
    "    pairs_mask = np.array((), dtype=bool)\n",
    "    n = np.array(())\n",
    "    higgs = np.array((), dtype=bool)\n",
    "    for evt in sbe:\n",
    "        evt_pass = [i for i,s in enumerate(evt) if s > cut]\n",
    "        pass_pairs.append(evt_pass)\n",
    "        pairs_mask =  np.append(pairs_mask, evt > cut)\n",
    "        n  = np.append(n, len(evt_pass))\n",
    "        higgs  = np.append(higgs, evt[0] > cut and evt[1] > cut and evt[2] > cut)\n",
    "    return pass_pairs, higgs, n, pairs_mask"
   ]
  },
  {
   "cell_type": "code",
   "execution_count": 18,
   "id": "51878d18",
   "metadata": {},
   "outputs": [
    {
     "name": "stderr",
     "output_type": "stream",
     "text": [
      "100%|██████████| 101/101 [00:30<00:00,  3.33it/s]\n"
     ]
    }
   ],
   "source": [
    "passing_pairs = []\n",
    "higgs_passing = []\n",
    "num_passing = []\n",
    "pass_mask = []\n",
    "for cut in tqdm(thresholds):\n",
    "    pass_pairs, higgs, n,  pair_mask = get_passing_pairs(cut)\n",
    "    passing_pairs.append(pass_pairs)\n",
    "    pass_mask.append(pair_mask)\n",
    "    num_passing.append(n)\n",
    "    higgs_passing.append(higgs)"
   ]
  },
  {
   "cell_type": "code",
   "execution_count": 19,
   "id": "41e1fbcd",
   "metadata": {},
   "outputs": [],
   "source": [
    "for i,masks in enumerate(pass_mask):\n",
    "    pass_mask[i] = masks.reshape(5039,15)"
   ]
  },
  {
   "cell_type": "code",
   "execution_count": 20,
   "id": "ca2d53fc",
   "metadata": {},
   "outputs": [
    {
     "name": "stdout",
     "output_type": "stream",
     "text": [
      "0\n",
      "1000\n",
      "2000\n",
      "3000\n",
      "4000\n",
      "5000\n"
     ]
    }
   ],
   "source": [
    "index = 20\n",
    "\n",
    "sanity_check = np.array(())\n",
    "inv_Y_H = np.array(())\n",
    "inv_X_H = np.array(())\n",
    "inv_Y_cand = np.array(())\n",
    "inv_X_cand = np.array(())\n",
    "counter = 0\n",
    "for p4, row in zip(pair_p4, pass_mask[index]):\n",
    "    if counter%1000 == 0: print(counter)\n",
    "    counter+=1\n",
    "    sanity_check = np.append(sanity_check, (p4[0] + p4[1]).mass)\n",
    "    if np.all(row[:3]):\n",
    "            inv_Y_H = np.append(inv_Y_H, (p4[0] + p4[1]).mass)\n",
    "            inv_X_H = np.append(inv_X_H, (p4[0] + p4[1] + p4[2]).mass)\n",
    "    for i,pair1 in enumerate(p4[row][:-1]):\n",
    "        for j,pair2 in enumerate(p4[row][i:]):\n",
    "            m = (pair1 + pair2).mass\n",
    "            inv_Y_cand  = np.append(inv_Y_cand, m)\n",
    "            for pair3 in p4[row][j:]:\n",
    "                m = (pair1 + pair2 + pair3).mass\n",
    "                inv_X_cand = np.append(inv_X_cand, m)"
   ]
  },
  {
   "cell_type": "code",
   "execution_count": 21,
   "id": "30362d73",
   "metadata": {},
   "outputs": [],
   "source": [
    "binsY = np.linspace(0,600,100)\n",
    "n_nY, _ = np.histogram(inv_Y_cand, binsY)\n",
    "n_Y, _ = np.histogram(inv_Y_H, binsY)\n",
    "n_SC, _ = np.histogram(sanity_check, binsY)\n",
    "\n",
    "binsX = np.linspace(0,1000,100)\n",
    "n_nX, _ = np.histogram(inv_X_cand, binsX)\n",
    "n_X, _ = np.histogram(inv_X_H, binsX)"
   ]
  },
  {
   "cell_type": "code",
   "execution_count": 22,
   "id": "6d79838c",
   "metadata": {},
   "outputs": [
    {
     "data": {
      "application/vnd.jupyter.widget-view+json": {
       "model_id": "97526ed014364264af2442a7dc8d474c",
       "version_major": 2,
       "version_minor": 0
      },
      "text/plain": [
       "Canvas(toolbar=Toolbar(toolitems=[('Home', 'Reset original view', 'home', 'home'), ('Back', 'Back to previous …"
      ]
     },
     "metadata": {},
     "output_type": "display_data"
    }
   ],
   "source": [
    "fig, axs = plt.subplots(nrows=2, figsize=(8,8))\n",
    "x = (binsY[:-1] +  binsY[1:])/2\n",
    "hist(axs[0], x, weights=n_nY/np.max(n_nY), bins=binsY, label='0.200, non-Y')\n",
    "hist(axs[0], x, weights=n_Y/np.max(n_Y), bins=binsY, label='0.200, Y')\n",
    "hist(axs[0], x, weights=n_SC/np.max(n_SC), bins=binsY, label='No cut, true Y')\n",
    "axs[0].legend()\n",
    "axs[0].set_xlabel(r'$m_\\mathrm{inv}$ [GeV]')\n",
    "axs[0].ticklabel_format(style='plain')\n",
    "x = (binsX[:-1] +  binsX[1:])/2\n",
    "hist(axs[1], x, weights=n_nX, bins=binsX, label='0.200, non-X')\n",
    "hist(axs[1], x, weights=n_X, bins=binsX, label='0.200, X')\n",
    "axs[1].legend()\n",
    "axs[1].set_xlabel(r'$m_\\mathrm{inv}$ [GeV]')\n",
    "axs[1].ticklabel_format(style='plain')"
   ]
  },
  {
   "cell_type": "code",
   "execution_count": 23,
   "id": "6b842410",
   "metadata": {},
   "outputs": [
    {
     "name": "stderr",
     "output_type": "stream",
     "text": [
      "  0%|          | 0/5 [00:00<?, ?it/s]"
     ]
    },
    {
     "name": "stdout",
     "output_type": "stream",
     "text": [
      "0\n",
      "1000\n",
      "2000\n",
      "3000\n",
      "4000\n",
      "5000\n"
     ]
    },
    {
     "name": "stderr",
     "output_type": "stream",
     "text": [
      " 20%|██        | 1/5 [01:05<04:20, 65.10s/it]"
     ]
    },
    {
     "name": "stdout",
     "output_type": "stream",
     "text": [
      "0\n",
      "1000\n",
      "2000\n",
      "3000\n",
      "4000\n",
      "5000\n"
     ]
    },
    {
     "name": "stderr",
     "output_type": "stream",
     "text": [
      " 40%|████      | 2/5 [01:25<01:55, 38.61s/it]"
     ]
    },
    {
     "name": "stdout",
     "output_type": "stream",
     "text": [
      "0\n",
      "1000\n",
      "2000\n",
      "3000\n",
      "4000\n"
     ]
    },
    {
     "name": "stderr",
     "output_type": "stream",
     "text": [
      " 60%|██████    | 3/5 [01:33<00:49, 24.71s/it]"
     ]
    },
    {
     "name": "stdout",
     "output_type": "stream",
     "text": [
      "5000\n",
      "0\n",
      "1000\n",
      "2000\n",
      "3000\n",
      "4000\n"
     ]
    },
    {
     "name": "stderr",
     "output_type": "stream",
     "text": [
      " 80%|████████  | 4/5 [01:37<00:16, 16.62s/it]"
     ]
    },
    {
     "name": "stdout",
     "output_type": "stream",
     "text": [
      "5000\n",
      "0\n",
      "1000\n",
      "2000\n",
      "3000\n",
      "4000\n"
     ]
    },
    {
     "name": "stderr",
     "output_type": "stream",
     "text": [
      "100%|██████████| 5/5 [01:38<00:00, 19.77s/it]"
     ]
    },
    {
     "name": "stdout",
     "output_type": "stream",
     "text": [
      "5000\n"
     ]
    },
    {
     "name": "stderr",
     "output_type": "stream",
     "text": [
      "\n"
     ]
    }
   ],
   "source": [
    "cuts = [50, 75, 85, 90, 95]\n",
    "\n",
    "Y_cands = []\n",
    "X_cands = []\n",
    "cut_count = 0\n",
    "for index in tqdm(cuts):\n",
    "    inv_Y_cand = np.array(())\n",
    "    inv_X_cand = np.array(())\n",
    "    counter = 0\n",
    "    for p4, row in zip(pair_p4, pass_mask[index]):\n",
    "        if counter%1000 == 0: print(counter)\n",
    "        counter+=1\n",
    "        for i,pair1 in enumerate(p4[row][:-1]):\n",
    "            for j,pair2 in enumerate(p4[row][i:]):\n",
    "                m = (pair1 + pair2).mass\n",
    "                inv_Y_cand  = np.append(inv_Y_cand, m)\n",
    "                for pair3 in p4[row][j:]:\n",
    "                    m = (pair1 + pair2 + pair3).mass\n",
    "                    inv_X_cand = np.append(inv_X_cand, m)\n",
    "    Y_cands.append(inv_Y_cand)\n",
    "    X_cands.append(inv_X_cand)"
   ]
  },
  {
   "cell_type": "code",
   "execution_count": 24,
   "id": "d4a24273",
   "metadata": {},
   "outputs": [
    {
     "data": {
      "application/vnd.jupyter.widget-view+json": {
       "model_id": "9f36a9e866fd4c57a3a3902419a82686",
       "version_major": 2,
       "version_minor": 0
      },
      "text/plain": [
       "Canvas(toolbar=Toolbar(toolitems=[('Home', 'Reset original view', 'home', 'home'), ('Back', 'Back to previous …"
      ]
     },
     "metadata": {},
     "output_type": "display_data"
    }
   ],
   "source": [
    "fig, axs = plt.subplots(nrows=2, figsize=(10,6))\n",
    "for i,inv_Y in enumerate(Y_cands):\n",
    "    hist(axs[0], inv_Y, bins=np.linspace(0,1000,100), label=round(thresholds[cuts[i]],3))\n",
    "axs[0].legend()\n",
    "axs[0].set_xlabel(r'$m_\\mathrm{inv}$ [GeV]')\n",
    "axs[0].ticklabel_format(style='plain')\n",
    "for i,inv_X in enumerate(X_cands):\n",
    "    hist(axs[1], inv_X, bins=np.linspace(0,1000,100), label=round(thresholds[cuts[i]],3))\n",
    "axs[1].legend()\n",
    "axs[1].set_xlabel(r'$m_\\mathrm{inv}$ [GeV]')\n",
    "axs[1].ticklabel_format(style='plain')"
   ]
  },
  {
   "cell_type": "code",
   "execution_count": 25,
   "id": "6aac0dda",
   "metadata": {},
   "outputs": [
    {
     "name": "stderr",
     "output_type": "stream",
     "text": [
      "100%|██████████| 101/101 [00:14<00:00,  6.84it/s]\n"
     ]
    }
   ],
   "source": [
    "n_cut = []\n",
    "for cut in tqdm(thresholds):\n",
    "    n = [np.array(()) for _ in range(16)]\n",
    "    for evt in sbe:\n",
    "        n_evt = np.sum(evt > cut)\n",
    "        sorted_evt = np.append(np.sort(evt[:3])[::-1], np.sort(evt[3:])[::-1])\n",
    "        n[n_evt] = np.append(n[n_evt], sorted_evt)\n",
    "    n_cut.append(n)"
   ]
  },
  {
   "cell_type": "code",
   "execution_count": 26,
   "id": "d3b4fbec",
   "metadata": {},
   "outputs": [
    {
     "data": {
      "application/vnd.jupyter.widget-view+json": {
       "model_id": "1df56c6e61c14313b189e2b7d83bea22",
       "version_major": 2,
       "version_minor": 0
      },
      "text/plain": [
       "Canvas(toolbar=Toolbar(toolitems=[('Home', 'Reset original view', 'home', 'home'), ('Back', 'Back to previous …"
      ]
     },
     "metadata": {},
     "output_type": "display_data"
    }
   ],
   "source": [
    "fig, axs = plt.subplots(nrows=6, ncols=3, figsize=(10,10))\n",
    "n_cut[50]\n",
    "for i,ax in enumerate(axs.flat):\n",
    "    ax.set_title(f'{i} passing pairs', fontsize=12)\n",
    "    if i >= 16: continue\n",
    "    if len(n_cut[50]) > 0:\n",
    "        ax.hist(n_cut[50][i], bins=thresholds)\n",
    "        \n",
    "        \n",
    "plt.tight_layout()"
   ]
  },
  {
   "cell_type": "code",
   "execution_count": 27,
   "id": "44858e15",
   "metadata": {},
   "outputs": [],
   "source": [
    "x = thresholds\n",
    "y = []\n",
    "for n in np.arange(16):\n",
    "    y_pair = np.array(())\n",
    "    for i,cut in enumerate(thresholds):\n",
    "        # Select only events with number of passing pairs less than or equal to n\n",
    "        max_pair_mask = num_passing[i] <= n\n",
    "        y_pair = np.append(y_pair, np.sum(higgs_passing[i][max_pair_mask])/np.sum(max_pair_mask))\n",
    "    y.append(y_pair)"
   ]
  },
  {
   "cell_type": "code",
   "execution_count": 28,
   "id": "c389f6cd",
   "metadata": {},
   "outputs": [
    {
     "data": {
      "application/vnd.jupyter.widget-view+json": {
       "model_id": "d73aa55c4b1a41b8b592a812835909be",
       "version_major": 2,
       "version_minor": 0
      },
      "text/plain": [
       "Canvas(toolbar=Toolbar(toolitems=[('Home', 'Reset original view', 'home', 'home'), ('Back', 'Back to previous …"
      ]
     },
     "metadata": {},
     "output_type": "display_data"
    },
    {
     "data": {
      "text/plain": [
       "<matplotlib.legend.Legend at 0x7fdfa5046f10>"
      ]
     },
     "execution_count": 28,
     "metadata": {},
     "output_type": "execute_result"
    }
   ],
   "source": [
    "fig, ax = plt.subplots(figsize=(8,5))\n",
    "for i,y_pair in enumerate(y):\n",
    "    if i < 3: continue\n",
    "    if i < 8: continue\n",
    "    ax.plot(x, y_pair, label=fr'$\\leq${i} passing pairs')\n",
    "ax.set_xlabel('Classifier Score Cut')\n",
    "ax.set_ylabel('Ratio of events with three passing Higgs')\n",
    "ax.set_ylim(0,1)\n",
    "ax.legend(fontsize=8, bbox_to_anchor=(1.05, 1), loc='upper left')"
   ]
  },
  {
   "cell_type": "code",
   "execution_count": 29,
   "id": "f6a2622e",
   "metadata": {},
   "outputs": [],
   "source": [
    "x_dict = {'HX':0,\n",
    " 'HY1':1,\n",
    " 'HY2':2,\n",
    " 'X b1, Y1 b1':3,\n",
    " 'X b1, Y1 b2':4,\n",
    " 'X b1, Y2 b1':5,\n",
    " 'X b1, Y2 b2':6,\n",
    " 'X b2, Y1 b1':7,\n",
    " 'X b2, Y1 b2':8,\n",
    " 'X b2, Y2 b1':9,\n",
    " 'X b2, Y2 b2':10,\n",
    " 'Y1 b1, Y2 b1':11,\n",
    " 'Y1 b1, Y2 b2':12,\n",
    " 'Y1 b2, Y2 b1':13,\n",
    " 'Y1 b2, Y2 b2':14}"
   ]
  },
  {
   "cell_type": "code",
   "execution_count": 30,
   "id": "953aa41c",
   "metadata": {},
   "outputs": [],
   "source": [
    "x_drop = ['HX',\n",
    " 'HY1',\n",
    " 'HY2',\n",
    " 'X b1, Y1 b1',\n",
    " 'X b1, Y1 b2',\n",
    " 'X b1, Y2 b1',\n",
    " 'X b1, Y2 b2',\n",
    " 'X b2, Y1 b1',\n",
    " 'X b2, Y1 b2',\n",
    " 'X b2, Y2 b1',\n",
    " 'X b2, Y2 b2',\n",
    " 'Y1 b1, Y2 b1',\n",
    " 'Y1 b1, Y2 b2',\n",
    " 'Y1 b2, Y2 b1',\n",
    " 'Y1 b2, Y2 b2']"
   ]
  },
  {
   "cell_type": "code",
   "execution_count": null,
   "id": "c52d9b4f",
   "metadata": {},
   "outputs": [],
   "source": []
  },
  {
   "cell_type": "code",
   "execution_count": null,
   "id": "59b15dee",
   "metadata": {},
   "outputs": [],
   "source": []
  },
  {
   "cell_type": "code",
   "execution_count": null,
   "id": "ef9ee07f",
   "metadata": {},
   "outputs": [],
   "source": []
  }
 ],
 "metadata": {
  "kernelspec": {
   "display_name": "Python 3",
   "language": "python",
   "name": "python3"
  },
  "language_info": {
   "codemirror_mode": {
    "name": "ipython",
    "version": 3
   },
   "file_extension": ".py",
   "mimetype": "text/x-python",
   "name": "python",
   "nbconvert_exporter": "python",
   "pygments_lexer": "ipython3",
   "version": "3.8.10"
  },
  "toc-autonumbering": true,
  "toc-showcode": true,
  "toc-showmarkdowntxt": false,
  "toc-showtags": false
 },
 "nbformat": 4,
 "nbformat_minor": 5
}
