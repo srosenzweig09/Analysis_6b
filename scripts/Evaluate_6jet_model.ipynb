{
 "cells": [
  {
   "cell_type": "markdown",
   "id": "4fb94afa",
   "metadata": {},
   "source": [
    "### Import libraries"
   ]
  },
  {
   "cell_type": "code",
   "execution_count": 1,
   "id": "163c4ab7",
   "metadata": {},
   "outputs": [],
   "source": [
    "from consistent_plots import hist, hist2d\n",
    "import matplotlib as mpl\n",
    "mpl.rcParams['font.size'] = 14\n",
    "import matplotlib.pyplot as plt\n",
    "%matplotlib widget\n",
    "import numpy as np\n",
    "from trsm import trsm_combos\n",
    "import vector"
   ]
  },
  {
   "cell_type": "code",
   "execution_count": 5,
   "id": "4cbbc40f",
   "metadata": {
    "tags": []
   },
   "outputs": [],
   "source": [
    "# mpl.rcParams.keys()"
   ]
  },
  {
   "cell_type": "code",
   "execution_count": 22,
   "id": "db3306eb",
   "metadata": {},
   "outputs": [],
   "source": [
    "def norm_hist(arr, bins=100):\n",
    "    n, b = np.histogram(arr, bins=bins)\n",
    "    x = (b[:-1] + b[1:]) / 2\n",
    "    \n",
    "    return n/n.max(), b, x"
   ]
  },
  {
   "cell_type": "markdown",
   "id": "2dfa47fc",
   "metadata": {},
   "source": [
    "### Load model"
   ]
  },
  {
   "cell_type": "code",
   "execution_count": 13,
   "id": "4e129882",
   "metadata": {},
   "outputs": [],
   "source": [
    "from keras.models import model_from_json"
   ]
  },
  {
   "cell_type": "code",
   "execution_count": 15,
   "id": "58591f54",
   "metadata": {},
   "outputs": [],
   "source": [
    "from pickle import load"
   ]
  },
  {
   "cell_type": "code",
   "execution_count": 14,
   "id": "8381d412",
   "metadata": {},
   "outputs": [],
   "source": [
    "json_file = open('../../../models/classifier/reco/in_six-out_two/model/model_1.json', 'r')\n",
    "loaded_model_json = json_file.read()\n",
    "json_file.close()\n",
    "loaded_model = model_from_json(loaded_model_json)\n",
    "loaded_model.load_weights('../../../models/classifier/reco/in_six-out_two/model/model_1.h5')"
   ]
  },
  {
   "cell_type": "code",
   "execution_count": 16,
   "id": "153c5d2f",
   "metadata": {},
   "outputs": [],
   "source": [
    "scaler = load(open('../../../models/classifier/reco/in_six-out_two/model/scaler_1.pkl', 'rb'))"
   ]
  },
  {
   "cell_type": "markdown",
   "id": "0b4bf0ee",
   "metadata": {},
   "source": [
    "### Open ROOT file"
   ]
  },
  {
   "cell_type": "code",
   "execution_count": 8,
   "id": "cdc10599",
   "metadata": {},
   "outputs": [
    {
     "name": "stdout",
     "output_type": "stream",
     "text": [
      "-- [INFO] -- \u001b[0;38;5;229m/eos/user/s/srosenzw/miniconda3/envs/work/lib/python3.8/runpy.py\u001b[0;38;5;255m -- Opening ROOT file ../../../signal/NanoAOD/NMSSM_XYH_YToHH_6b_MX_700_MY_400_reco_test_set.root with columns\n",
      "----------------------------------------------------------------------------------------------------\n",
      "                                            TABLE COLUMNS                                           \n",
      "----------------------------------------------------------------------------------------------------\n",
      "jet_pt                            jet_eta                           jet_phi                           \n",
      "jet_m                             jet_btag                          jet_idx                           \n",
      "HX_b1_recojet_m                   HX_b1_recojet_pt                  HX_b1_recojet_eta                 \n",
      "HX_b1_recojet_phi                 HX_b1_recojet_ptRegressed         HX_b2_recojet_m                   \n",
      "HX_b2_recojet_pt                  HX_b2_recojet_eta                 HX_b2_recojet_phi                 \n",
      "HX_b2_recojet_ptRegressed         HY1_b1_recojet_m                  HY1_b1_recojet_pt                 \n",
      "HY1_b1_recojet_eta                HY1_b1_recojet_phi                HY1_b1_recojet_ptRegressed        \n",
      "HY1_b2_recojet_m                  HY1_b2_recojet_pt                 HY1_b2_recojet_eta                \n",
      "HY1_b2_recojet_phi                HY1_b2_recojet_ptRegressed        HY2_b1_recojet_m                  \n",
      "HY2_b1_recojet_pt                 HY2_b1_recojet_eta                HY2_b1_recojet_phi                \n",
      "HY2_b1_recojet_ptRegressed        HY2_b2_recojet_m                  HY2_b2_recojet_pt                 \n",
      "HY2_b2_recojet_eta                HY2_b2_recojet_phi                HY2_b2_recojet_ptRegressed        \n",
      "----------------------------------------------------------------------------------------------------\n",
      "-- [INFO] -- \u001b[0;38;5;229m/eos/user/s/srosenzw/miniconda3/envs/work/lib/python3.8/runpy.py\u001b[0;38;5;255m -- Looping through events. This may take a few minutes.\n"
     ]
    },
    {
     "name": "stderr",
     "output_type": "stream",
     "text": [
      "100%|██████████| 52891/52891 [00:04<00:00, 12323.50it/s]\n"
     ]
    },
    {
     "data": {
      "text/plain": [
       "52891"
      ]
     },
     "execution_count": 8,
     "metadata": {},
     "output_type": "execute_result"
    }
   ],
   "source": [
    "# filename = f'../../../signal/NanoAOD/NMSSM_XYH_YToHH_6b_MX_700_MY_400_reco_test_set.root'\n",
    "filename = f'../../../signal/skimmed/...'\n",
    "combos = trsm_combos(filename=filename)\n",
    "combos.build_p4()\n",
    "combos.nevents"
   ]
  },
  {
   "cell_type": "markdown",
   "id": "f637576b",
   "metadata": {},
   "source": [
    "### Load combinations of 7 total jets"
   ]
  },
  {
   "cell_type": "code",
   "execution_count": 10,
   "id": "6d551963",
   "metadata": {},
   "outputs": [
    {
     "name": "stdout",
     "output_type": "stream",
     "text": [
      "Input shape = (56525, 30)\n",
      "Total events chosen: 8075\n"
     ]
    }
   ],
   "source": [
    "# 7 choose 6 combinations\n",
    "combos_7, evt_tag_7, combo_features = combos.nCk()"
   ]
  },
  {
   "cell_type": "code",
   "execution_count": null,
   "id": "80760448",
   "metadata": {},
   "outputs": [],
   "source": [
    "test_features_7 = scaler.transform(combo_features)\n",
    "scores_7 = loaded_model.predict(test_features_7)[:,0]\n",
    "scores_7"
   ]
  },
  {
   "cell_type": "code",
   "execution_count": 23,
   "id": "cdf235fa",
   "metadata": {},
   "outputs": [
    {
     "data": {
      "application/vnd.jupyter.widget-view+json": {
       "model_id": "",
       "version_major": 2,
       "version_minor": 0
      },
      "text/plain": [
       "Canvas(toolbar=Toolbar(toolitems=[('Home', 'Reset original view', 'home', 'home'), ('Back', 'Back to previous …"
      ]
     },
     "metadata": {},
     "output_type": "display_data"
    },
    {
     "name": "stdout",
     "output_type": "stream",
     "text": [
      "56525\n",
      "8075\n",
      "48450\n"
     ]
    }
   ],
   "source": [
    "fig, ax = plt.subplots()\n",
    "\n",
    "n_7, b_7, x_7 = norm_hist(scores_7)\n",
    "c_n_7, b_7, x_7 = norm_hist(scores_7[evt_tag_7])\n",
    "w_n_7, b_7, x_7 = norm_hist(scores_7[~evt_tag_7])\n",
    "\n",
    "print(len(scores_7))\n",
    "print(len(scores_7[evt_tag_7]))\n",
    "print(len(scores_7[~evt_tag_7]))\n",
    "\n",
    "hist(ax, x_7, weights=n_7, bins=b_7, label='All combos')\n",
    "hist(ax, x_7, weights=c_n_7, bins=b_7, label='Correct combos')\n",
    "hist(ax, x_7, weights=w_n_7, bins=b_7, label='Incorrect combos')\n",
    "ax.legend(fontsize='small', loc=9)\n",
    "\n",
    "plt.show()"
   ]
  },
  {
   "cell_type": "markdown",
   "id": "4c514317",
   "metadata": {},
   "source": [
    "### Load combinations of 8 total jets"
   ]
  },
  {
   "cell_type": "code",
   "execution_count": 9,
   "id": "89672115",
   "metadata": {},
   "outputs": [
    {
     "name": "stdout",
     "output_type": "stream",
     "text": [
      "Input shape = (105672, 30)\n",
      "Total events chosen: 3774\n"
     ]
    }
   ],
   "source": [
    "combos_8, evt_tag_8, combo_features_8 = combos.nCk(n=8)"
   ]
  },
  {
   "cell_type": "code",
   "execution_count": 17,
   "id": "83dac8c6",
   "metadata": {},
   "outputs": [],
   "source": [
    "test_features_8 = scaler.transform(combo_features_8)\n",
    "scores_8 = loaded_model.predict(test_features_8)[:,0]\n",
    "scores_8"
   ]
  },
  {
   "cell_type": "code",
   "execution_count": 25,
   "id": "8201599b",
   "metadata": {},
   "outputs": [
    {
     "data": {
      "application/vnd.jupyter.widget-view+json": {
       "model_id": "",
       "version_major": 2,
       "version_minor": 0
      },
      "text/plain": [
       "Canvas(toolbar=Toolbar(toolitems=[('Home', 'Reset original view', 'home', 'home'), ('Back', 'Back to previous …"
      ]
     },
     "metadata": {},
     "output_type": "display_data"
    },
    {
     "name": "stdout",
     "output_type": "stream",
     "text": [
      "105672\n",
      "3774\n",
      "101898\n"
     ]
    }
   ],
   "source": [
    "fig, ax = plt.subplots()\n",
    "\n",
    "n_8, b_8, x_8 = norm_hist(scores_8)\n",
    "c_n_8, b_8, x_8 = norm_hist(scores_8[evt_tag_8])\n",
    "w_n_8, b_8, x_8 = norm_hist(scores_8[~evt_tag_8])\n",
    "\n",
    "print(len(scores_8))\n",
    "print(len(scores_8[evt_tag_8]))\n",
    "print(len(scores_8[~evt_tag_8]))\n",
    "\n",
    "hist(ax, x_8, weights=n_8, bins=b_8, label='All combos')\n",
    "hist(ax, x_8, weights=c_n_8, bins=b_8, label='Correct combos')\n",
    "hist(ax, x_8, weights=w_n_8, bins=b_8, label='Incorrect combos')\n",
    "ax.legend(fontsize='small', loc=9)\n",
    "\n",
    "plt.show()"
   ]
  },
  {
   "cell_type": "code",
   "execution_count": null,
   "id": "3944b75e",
   "metadata": {},
   "outputs": [],
   "source": []
  },
  {
   "cell_type": "markdown",
   "id": "c1588128",
   "metadata": {},
   "source": [
    "### Limited background"
   ]
  },
  {
   "cell_type": "code",
   "execution_count": 10,
   "id": "f9633203",
   "metadata": {},
   "outputs": [
    {
     "name": "stdout",
     "output_type": "stream",
     "text": [
      "(16150, 2)\n"
     ]
    }
   ],
   "source": [
    "signal_p4 = combos.sgnl_p4\n",
    "background_p4 = combos.bkgd_p4\n",
    "\n",
    "sgnl_evt_p4 = combos.sgnl_evt_p4\n",
    "bkgd_evt_p4 = combos.bkgd_evt_p4\n",
    "\n",
    "sgnl_node_targets = np.concatenate((np.repeat(1, len(signal_p4)), np.repeat(0, len(background_p4))))\n",
    "bkgd_node_targets = np.where(sgnl_node_targets == 1, 0, 1)\n",
    "targets = np.column_stack((sgnl_node_targets, bkgd_node_targets))\n",
    "print(targets.shape)"
   ]
  },
  {
   "cell_type": "code",
   "execution_count": 11,
   "id": "4c562054",
   "metadata": {
    "collapsed": true,
    "jupyter": {
     "outputs_hidden": true
    },
    "tags": []
   },
   "outputs": [
    {
     "name": "stdout",
     "output_type": "stream",
     "text": [
      "-- [INFO] -- \u001b[0;38;5;229m/eos/user/s/srosenzw/miniconda3/envs/work/lib/python3.8/runpy.py\u001b[0;38;5;255m -- Preparing signal training example inputs.\n"
     ]
    },
    {
     "ename": "KeyboardInterrupt",
     "evalue": "",
     "output_type": "error",
     "traceback": [
      "\u001b[0;31m---------------------------------------------------------------------------\u001b[0m",
      "\u001b[0;31mKeyboardInterrupt\u001b[0m                         Traceback (most recent call last)",
      "\u001b[0;32m<ipython-input-11-5fe38ae2d874>\u001b[0m in \u001b[0;36m<module>\u001b[0;34m\u001b[0m\n\u001b[0;32m----> 1\u001b[0;31m \u001b[0mfeatures\u001b[0m \u001b[0;34m=\u001b[0m \u001b[0mcombos\u001b[0m\u001b[0;34m.\u001b[0m\u001b[0mconstruct_features\u001b[0m\u001b[0;34m(\u001b[0m\u001b[0;34m)\u001b[0m\u001b[0;34m\u001b[0m\u001b[0;34m\u001b[0m\u001b[0m\n\u001b[0m",
      "\u001b[0;32m/eos/home-s/srosenzw/Modules/trsm.py\u001b[0m in \u001b[0;36mconstruct_features\u001b[0;34m(self)\u001b[0m\n\u001b[1;32m    211\u001b[0m         \u001b[0minfo\u001b[0m\u001b[0;34m(\u001b[0m\u001b[0;34m\"Preparing signal training example inputs.\"\u001b[0m\u001b[0;34m)\u001b[0m\u001b[0;34m\u001b[0m\u001b[0;34m\u001b[0m\u001b[0m\n\u001b[1;32m    212\u001b[0m         \u001b[0;32mfor\u001b[0m \u001b[0mp4\u001b[0m\u001b[0;34m,\u001b[0m \u001b[0mbtag\u001b[0m\u001b[0;34m,\u001b[0m \u001b[0mevt_p4\u001b[0m \u001b[0;32min\u001b[0m \u001b[0mzip\u001b[0m\u001b[0;34m(\u001b[0m\u001b[0mself\u001b[0m\u001b[0;34m.\u001b[0m\u001b[0msgnl_p4\u001b[0m\u001b[0;34m,\u001b[0m \u001b[0mself\u001b[0m\u001b[0;34m.\u001b[0m\u001b[0msignal_btag\u001b[0m\u001b[0;34m,\u001b[0m \u001b[0mself\u001b[0m\u001b[0;34m.\u001b[0m\u001b[0msgnl_evt_p4\u001b[0m\u001b[0;34m)\u001b[0m\u001b[0;34m:\u001b[0m\u001b[0;34m\u001b[0m\u001b[0;34m\u001b[0m\u001b[0m\n\u001b[0;32m--> 213\u001b[0;31m             \u001b[0min_arr\u001b[0m \u001b[0;34m=\u001b[0m \u001b[0;34m[\u001b[0m\u001b[0mp4\u001b[0m\u001b[0;34m.\u001b[0m\u001b[0mpt\u001b[0m\u001b[0;34m,\u001b[0m \u001b[0mp4\u001b[0m\u001b[0;34m.\u001b[0m\u001b[0meta\u001b[0m\u001b[0;34m,\u001b[0m \u001b[0mp4\u001b[0m\u001b[0;34m.\u001b[0m\u001b[0mphi\u001b[0m\u001b[0;34m,\u001b[0m \u001b[0mbtag\u001b[0m\u001b[0;34m,\u001b[0m \u001b[0mp4\u001b[0m\u001b[0;34m.\u001b[0m\u001b[0mboost_p4\u001b[0m\u001b[0;34m(\u001b[0m\u001b[0mevt_p4\u001b[0m\u001b[0;34m)\u001b[0m\u001b[0;34m.\u001b[0m\u001b[0mpt\u001b[0m\u001b[0;34m]\u001b[0m\u001b[0;34m\u001b[0m\u001b[0;34m\u001b[0m\u001b[0m\n\u001b[0m\u001b[1;32m    214\u001b[0m             \u001b[0minputs\u001b[0m\u001b[0;34m.\u001b[0m\u001b[0mappend\u001b[0m\u001b[0;34m(\u001b[0m\u001b[0min_arr\u001b[0m\u001b[0;34m)\u001b[0m\u001b[0;34m\u001b[0m\u001b[0;34m\u001b[0m\u001b[0m\n\u001b[1;32m    215\u001b[0m \u001b[0;34m\u001b[0m\u001b[0m\n",
      "\u001b[0;32m/eos/user/s/srosenzw/miniconda3/envs/work/lib/python3.8/site-packages/vector/_methods.py\u001b[0m in \u001b[0;36mboost_p4\u001b[0;34m(self, p4)\u001b[0m\n\u001b[1;32m   2038\u001b[0m         \u001b[0;32mfrom\u001b[0m \u001b[0mvector\u001b[0m\u001b[0;34m.\u001b[0m\u001b[0m_compute\u001b[0m\u001b[0;34m.\u001b[0m\u001b[0mlorentz\u001b[0m \u001b[0;32mimport\u001b[0m \u001b[0mboost_p4\u001b[0m\u001b[0;34m\u001b[0m\u001b[0;34m\u001b[0m\u001b[0m\n\u001b[1;32m   2039\u001b[0m \u001b[0;34m\u001b[0m\u001b[0m\n\u001b[0;32m-> 2040\u001b[0;31m         \u001b[0;32mreturn\u001b[0m \u001b[0mboost_p4\u001b[0m\u001b[0;34m.\u001b[0m\u001b[0mdispatch\u001b[0m\u001b[0;34m(\u001b[0m\u001b[0mself\u001b[0m\u001b[0;34m,\u001b[0m \u001b[0mp4\u001b[0m\u001b[0;34m)\u001b[0m\u001b[0;34m\u001b[0m\u001b[0;34m\u001b[0m\u001b[0m\n\u001b[0m\u001b[1;32m   2041\u001b[0m \u001b[0;34m\u001b[0m\u001b[0m\n\u001b[1;32m   2042\u001b[0m     def boost_beta3(\n",
      "\u001b[0;32m/eos/user/s/srosenzw/miniconda3/envs/work/lib/python3.8/site-packages/vector/_compute/lorentz/boost_p4.py\u001b[0m in \u001b[0;36mdispatch\u001b[0;34m(v1, v2)\u001b[0m\n\u001b[1;32m    782\u001b[0m         return _handler_of(v1, v2)._wrap_result(\n\u001b[1;32m    783\u001b[0m             \u001b[0m_flavor_of\u001b[0m\u001b[0;34m(\u001b[0m\u001b[0mv1\u001b[0m\u001b[0;34m,\u001b[0m \u001b[0mv2\u001b[0m\u001b[0;34m)\u001b[0m\u001b[0;34m,\u001b[0m\u001b[0;34m\u001b[0m\u001b[0;34m\u001b[0m\u001b[0m\n\u001b[0;32m--> 784\u001b[0;31m             function(\n\u001b[0m\u001b[1;32m    785\u001b[0m                 \u001b[0m_lib_of\u001b[0m\u001b[0;34m(\u001b[0m\u001b[0mv1\u001b[0m\u001b[0;34m,\u001b[0m \u001b[0mv2\u001b[0m\u001b[0;34m)\u001b[0m\u001b[0;34m,\u001b[0m\u001b[0;34m\u001b[0m\u001b[0;34m\u001b[0m\u001b[0m\n\u001b[1;32m    786\u001b[0m                 \u001b[0;34m*\u001b[0m\u001b[0mv1\u001b[0m\u001b[0;34m.\u001b[0m\u001b[0mazimuthal\u001b[0m\u001b[0;34m.\u001b[0m\u001b[0melements\u001b[0m\u001b[0;34m,\u001b[0m\u001b[0;34m\u001b[0m\u001b[0;34m\u001b[0m\u001b[0m\n",
      "\u001b[0;32m/eos/user/s/srosenzw/miniconda3/envs/work/lib/python3.8/site-packages/vector/_compute/lorentz/boost_p4.py\u001b[0m in \u001b[0;36mf\u001b[0;34m(lib, coord11, coord12, coord13, coord14, coord21, coord22, coord23, coord24)\u001b[0m\n\u001b[1;32m    729\u001b[0m             \u001b[0mlib\u001b[0m\u001b[0;34m,\u001b[0m \u001b[0mcoord11\u001b[0m\u001b[0;34m,\u001b[0m \u001b[0mcoord12\u001b[0m\u001b[0;34m,\u001b[0m \u001b[0mcoord13\u001b[0m\u001b[0;34m,\u001b[0m \u001b[0mcoord14\u001b[0m\u001b[0;34m,\u001b[0m \u001b[0mcoord21\u001b[0m\u001b[0;34m,\u001b[0m \u001b[0mcoord22\u001b[0m\u001b[0;34m,\u001b[0m \u001b[0mcoord23\u001b[0m\u001b[0;34m,\u001b[0m \u001b[0mcoord24\u001b[0m\u001b[0;34m\u001b[0m\u001b[0;34m\u001b[0m\u001b[0m\n\u001b[1;32m    730\u001b[0m         ):\n\u001b[0;32m--> 731\u001b[0;31m             return cartesian(\n\u001b[0m\u001b[1;32m    732\u001b[0m                 \u001b[0mlib\u001b[0m\u001b[0;34m,\u001b[0m\u001b[0;34m\u001b[0m\u001b[0;34m\u001b[0m\u001b[0m\n\u001b[1;32m    733\u001b[0m                 \u001b[0mto_x\u001b[0m\u001b[0;34m(\u001b[0m\u001b[0mlib\u001b[0m\u001b[0;34m,\u001b[0m \u001b[0mcoord11\u001b[0m\u001b[0;34m,\u001b[0m \u001b[0mcoord12\u001b[0m\u001b[0;34m)\u001b[0m\u001b[0;34m,\u001b[0m\u001b[0;34m\u001b[0m\u001b[0;34m\u001b[0m\u001b[0m\n",
      "\u001b[0;32m/eos/user/s/srosenzw/miniconda3/envs/work/lib/python3.8/site-packages/vector/_compute/lorentz/boost_p4.py\u001b[0m in \u001b[0;36mf\u001b[0;34m(lib, coord11, coord12, coord13, coord14, coord21, coord22, coord23, coord24)\u001b[0m\n\u001b[1;32m    729\u001b[0m             \u001b[0mlib\u001b[0m\u001b[0;34m,\u001b[0m \u001b[0mcoord11\u001b[0m\u001b[0;34m,\u001b[0m \u001b[0mcoord12\u001b[0m\u001b[0;34m,\u001b[0m \u001b[0mcoord13\u001b[0m\u001b[0;34m,\u001b[0m \u001b[0mcoord14\u001b[0m\u001b[0;34m,\u001b[0m \u001b[0mcoord21\u001b[0m\u001b[0;34m,\u001b[0m \u001b[0mcoord22\u001b[0m\u001b[0;34m,\u001b[0m \u001b[0mcoord23\u001b[0m\u001b[0;34m,\u001b[0m \u001b[0mcoord24\u001b[0m\u001b[0;34m\u001b[0m\u001b[0;34m\u001b[0m\u001b[0m\n\u001b[1;32m    730\u001b[0m         ):\n\u001b[0;32m--> 731\u001b[0;31m             return cartesian(\n\u001b[0m\u001b[1;32m    732\u001b[0m                 \u001b[0mlib\u001b[0m\u001b[0;34m,\u001b[0m\u001b[0;34m\u001b[0m\u001b[0;34m\u001b[0m\u001b[0m\n\u001b[1;32m    733\u001b[0m                 \u001b[0mto_x\u001b[0m\u001b[0;34m(\u001b[0m\u001b[0mlib\u001b[0m\u001b[0;34m,\u001b[0m \u001b[0mcoord11\u001b[0m\u001b[0;34m,\u001b[0m \u001b[0mcoord12\u001b[0m\u001b[0;34m)\u001b[0m\u001b[0;34m,\u001b[0m\u001b[0;34m\u001b[0m\u001b[0;34m\u001b[0m\u001b[0m\n",
      "\u001b[0;32m/eos/user/s/srosenzw/miniconda3/envs/work/lib/python3.8/site-packages/vector/_compute/lorentz/boost_p4.py\u001b[0m in \u001b[0;36mcartesian_tau_rhophi_eta_tau\u001b[0;34m(lib, x1, y1, z1, tau1, rho2, phi2, eta2, tau2)\u001b[0m\n\u001b[1;32m    481\u001b[0m     \u001b[0mmass\u001b[0m \u001b[0;34m=\u001b[0m \u001b[0mtau2\u001b[0m\u001b[0;34m\u001b[0m\u001b[0;34m\u001b[0m\u001b[0m\n\u001b[1;32m    482\u001b[0m     \u001b[0mmass2\u001b[0m \u001b[0;34m=\u001b[0m \u001b[0mmass\u001b[0m \u001b[0;34m**\u001b[0m \u001b[0;36m2\u001b[0m\u001b[0;34m\u001b[0m\u001b[0;34m\u001b[0m\u001b[0m\n\u001b[0;32m--> 483\u001b[0;31m     \u001b[0menergy2\u001b[0m \u001b[0;34m=\u001b[0m \u001b[0mmass2\u001b[0m \u001b[0;34m+\u001b[0m \u001b[0mmag2\u001b[0m\u001b[0;34m.\u001b[0m\u001b[0mrhophi_eta\u001b[0m\u001b[0;34m(\u001b[0m\u001b[0mlib\u001b[0m\u001b[0;34m,\u001b[0m \u001b[0mrho2\u001b[0m\u001b[0;34m,\u001b[0m \u001b[0mphi2\u001b[0m\u001b[0;34m,\u001b[0m \u001b[0meta2\u001b[0m\u001b[0;34m)\u001b[0m\u001b[0;34m\u001b[0m\u001b[0;34m\u001b[0m\u001b[0m\n\u001b[0m\u001b[1;32m    484\u001b[0m     \u001b[0menergy\u001b[0m \u001b[0;34m=\u001b[0m \u001b[0mlib\u001b[0m\u001b[0;34m.\u001b[0m\u001b[0msqrt\u001b[0m\u001b[0;34m(\u001b[0m\u001b[0menergy2\u001b[0m\u001b[0;34m)\u001b[0m  \u001b[0;31m# NaN for spacelike boosts propagates everywhere!\u001b[0m\u001b[0;34m\u001b[0m\u001b[0;34m\u001b[0m\u001b[0m\n\u001b[1;32m    485\u001b[0m     return cartesian_tau(\n",
      "\u001b[0;32m/eos/user/s/srosenzw/miniconda3/envs/work/lib/python3.8/site-packages/vector/_compute/spatial/mag2.py\u001b[0m in \u001b[0;36mrhophi_eta\u001b[0;34m(lib, rho, phi, eta)\u001b[0m\n\u001b[1;32m     52\u001b[0m \u001b[0;32mdef\u001b[0m \u001b[0mrhophi_eta\u001b[0m\u001b[0;34m(\u001b[0m\u001b[0mlib\u001b[0m\u001b[0;34m,\u001b[0m \u001b[0mrho\u001b[0m\u001b[0;34m,\u001b[0m \u001b[0mphi\u001b[0m\u001b[0;34m,\u001b[0m \u001b[0meta\u001b[0m\u001b[0;34m)\u001b[0m\u001b[0;34m:\u001b[0m\u001b[0;34m\u001b[0m\u001b[0;34m\u001b[0m\u001b[0m\n\u001b[1;32m     53\u001b[0m     \u001b[0mexpmeta\u001b[0m \u001b[0;34m=\u001b[0m \u001b[0mlib\u001b[0m\u001b[0;34m.\u001b[0m\u001b[0mexp\u001b[0m\u001b[0;34m(\u001b[0m\u001b[0;34m-\u001b[0m\u001b[0meta\u001b[0m\u001b[0;34m)\u001b[0m\u001b[0;34m\u001b[0m\u001b[0;34m\u001b[0m\u001b[0m\n\u001b[0;32m---> 54\u001b[0;31m     \u001b[0minvsintheta\u001b[0m \u001b[0;34m=\u001b[0m \u001b[0;36m0.5\u001b[0m \u001b[0;34m*\u001b[0m \u001b[0;34m(\u001b[0m\u001b[0;36m1\u001b[0m \u001b[0;34m+\u001b[0m \u001b[0mexpmeta\u001b[0m \u001b[0;34m**\u001b[0m \u001b[0;36m2\u001b[0m\u001b[0;34m)\u001b[0m \u001b[0;34m/\u001b[0m \u001b[0mexpmeta\u001b[0m\u001b[0;34m\u001b[0m\u001b[0;34m\u001b[0m\u001b[0m\n\u001b[0m\u001b[1;32m     55\u001b[0m     \u001b[0;32mreturn\u001b[0m \u001b[0mrho\u001b[0m \u001b[0;34m**\u001b[0m \u001b[0;36m2\u001b[0m \u001b[0;34m*\u001b[0m \u001b[0minvsintheta\u001b[0m \u001b[0;34m**\u001b[0m \u001b[0;36m2\u001b[0m\u001b[0;34m\u001b[0m\u001b[0;34m\u001b[0m\u001b[0m\n\u001b[1;32m     56\u001b[0m \u001b[0;34m\u001b[0m\u001b[0m\n",
      "\u001b[0;32m/eos/user/s/srosenzw/miniconda3/envs/work/lib/python3.8/site-packages/numpy/lib/mixins.py\u001b[0m in \u001b[0;36mfunc\u001b[0;34m(self, other)\u001b[0m\n\u001b[1;32m     29\u001b[0m         \u001b[0;32mif\u001b[0m \u001b[0m_disables_array_ufunc\u001b[0m\u001b[0;34m(\u001b[0m\u001b[0mother\u001b[0m\u001b[0;34m)\u001b[0m\u001b[0;34m:\u001b[0m\u001b[0;34m\u001b[0m\u001b[0;34m\u001b[0m\u001b[0m\n\u001b[1;32m     30\u001b[0m             \u001b[0;32mreturn\u001b[0m \u001b[0mNotImplemented\u001b[0m\u001b[0;34m\u001b[0m\u001b[0;34m\u001b[0m\u001b[0m\n\u001b[0;32m---> 31\u001b[0;31m         \u001b[0;32mreturn\u001b[0m \u001b[0mufunc\u001b[0m\u001b[0;34m(\u001b[0m\u001b[0mother\u001b[0m\u001b[0;34m,\u001b[0m \u001b[0mself\u001b[0m\u001b[0;34m)\u001b[0m\u001b[0;34m\u001b[0m\u001b[0;34m\u001b[0m\u001b[0m\n\u001b[0m\u001b[1;32m     32\u001b[0m     \u001b[0mfunc\u001b[0m\u001b[0;34m.\u001b[0m\u001b[0m__name__\u001b[0m \u001b[0;34m=\u001b[0m \u001b[0;34m'__r{}__'\u001b[0m\u001b[0;34m.\u001b[0m\u001b[0mformat\u001b[0m\u001b[0;34m(\u001b[0m\u001b[0mname\u001b[0m\u001b[0;34m)\u001b[0m\u001b[0;34m\u001b[0m\u001b[0;34m\u001b[0m\u001b[0m\n\u001b[1;32m     33\u001b[0m     \u001b[0;32mreturn\u001b[0m \u001b[0mfunc\u001b[0m\u001b[0;34m\u001b[0m\u001b[0;34m\u001b[0m\u001b[0m\n",
      "\u001b[0;32m/eos/user/s/srosenzw/miniconda3/envs/work/lib/python3.8/site-packages/awkward/highlevel.py\u001b[0m in \u001b[0;36m__array_ufunc__\u001b[0;34m(self, ufunc, method, *inputs, **kwargs)\u001b[0m\n\u001b[1;32m   1403\u001b[0m         \u001b[0mSee\u001b[0m \u001b[0malso\u001b[0m \u001b[0;31m#__array_function__.\u001b[0m\u001b[0;34m\u001b[0m\u001b[0;34m\u001b[0m\u001b[0m\n\u001b[1;32m   1404\u001b[0m         \"\"\"\n\u001b[0;32m-> 1405\u001b[0;31m         \u001b[0;32mif\u001b[0m \u001b[0;32mnot\u001b[0m \u001b[0mhasattr\u001b[0m\u001b[0;34m(\u001b[0m\u001b[0mself\u001b[0m\u001b[0;34m,\u001b[0m \u001b[0;34m\"_tracers\"\u001b[0m\u001b[0;34m)\u001b[0m\u001b[0;34m:\u001b[0m\u001b[0;34m\u001b[0m\u001b[0;34m\u001b[0m\u001b[0m\n\u001b[0m\u001b[1;32m   1406\u001b[0m             \u001b[0;32mreturn\u001b[0m \u001b[0mak\u001b[0m\u001b[0;34m.\u001b[0m\u001b[0m_connect\u001b[0m\u001b[0;34m.\u001b[0m\u001b[0m_numpy\u001b[0m\u001b[0;34m.\u001b[0m\u001b[0marray_ufunc\u001b[0m\u001b[0;34m(\u001b[0m\u001b[0mufunc\u001b[0m\u001b[0;34m,\u001b[0m \u001b[0mmethod\u001b[0m\u001b[0;34m,\u001b[0m \u001b[0minputs\u001b[0m\u001b[0;34m,\u001b[0m \u001b[0mkwargs\u001b[0m\u001b[0;34m)\u001b[0m\u001b[0;34m\u001b[0m\u001b[0;34m\u001b[0m\u001b[0m\n\u001b[1;32m   1407\u001b[0m         \u001b[0;32melse\u001b[0m\u001b[0;34m:\u001b[0m\u001b[0;34m\u001b[0m\u001b[0;34m\u001b[0m\u001b[0m\n",
      "\u001b[0;32m/eos/user/s/srosenzw/miniconda3/envs/work/lib/python3.8/site-packages/awkward/highlevel.py\u001b[0m in \u001b[0;36m__getattr__\u001b[0;34m(self, where)\u001b[0m\n\u001b[1;32m   1103\u001b[0m         \u001b[0mto\u001b[0m \u001b[0madd\u001b[0m \u001b[0ma\u001b[0m \u001b[0mfield\u001b[0m\u001b[0;34m.\u001b[0m\u001b[0;34m\u001b[0m\u001b[0;34m\u001b[0m\u001b[0m\n\u001b[1;32m   1104\u001b[0m         \"\"\"\n\u001b[0;32m-> 1105\u001b[0;31m         \u001b[0;32mif\u001b[0m \u001b[0mwhere\u001b[0m \u001b[0;32min\u001b[0m \u001b[0mdir\u001b[0m\u001b[0;34m(\u001b[0m\u001b[0mtype\u001b[0m\u001b[0;34m(\u001b[0m\u001b[0mself\u001b[0m\u001b[0;34m)\u001b[0m\u001b[0;34m)\u001b[0m\u001b[0;34m:\u001b[0m\u001b[0;34m\u001b[0m\u001b[0;34m\u001b[0m\u001b[0m\n\u001b[0m\u001b[1;32m   1106\u001b[0m             \u001b[0;32mreturn\u001b[0m \u001b[0msuper\u001b[0m\u001b[0;34m(\u001b[0m\u001b[0mArray\u001b[0m\u001b[0;34m,\u001b[0m \u001b[0mself\u001b[0m\u001b[0;34m)\u001b[0m\u001b[0;34m.\u001b[0m\u001b[0m__getattribute__\u001b[0m\u001b[0;34m(\u001b[0m\u001b[0mwhere\u001b[0m\u001b[0;34m)\u001b[0m\u001b[0;34m\u001b[0m\u001b[0;34m\u001b[0m\u001b[0m\n\u001b[1;32m   1107\u001b[0m         \u001b[0;32melse\u001b[0m\u001b[0;34m:\u001b[0m\u001b[0;34m\u001b[0m\u001b[0;34m\u001b[0m\u001b[0m\n",
      "\u001b[0;31mKeyboardInterrupt\u001b[0m: "
     ]
    }
   ],
   "source": [
    "features = combos.construct_features()"
   ]
  },
  {
   "cell_type": "code",
   "execution_count": null,
   "id": "1ab40938",
   "metadata": {},
   "outputs": [],
   "source": [
    "combos.n_bkgd"
   ]
  },
  {
   "cell_type": "code",
   "execution_count": null,
   "id": "08b2949b",
   "metadata": {},
   "outputs": [],
   "source": []
  },
  {
   "cell_type": "code",
   "execution_count": null,
   "id": "9c296398",
   "metadata": {},
   "outputs": [],
   "source": []
  },
  {
   "cell_type": "code",
   "execution_count": 12,
   "id": "3a3249a6",
   "metadata": {},
   "outputs": [
    {
     "data": {
      "application/vnd.jupyter.widget-view+json": {
       "model_id": "7fab29790b6f4aec809830f7451478e1",
       "version_major": 2,
       "version_minor": 0
      },
      "text/plain": [
       "Canvas(toolbar=Toolbar(toolitems=[('Home', 'Reset original view', 'home', 'home'), ('Back', 'Back to previous …"
      ]
     },
     "metadata": {},
     "output_type": "display_data"
    }
   ],
   "source": [
    "fig, ax = plt.subplots()\n",
    "ax.set_title('Swapped Jet Distribution')\n",
    "\n",
    "n, b = np.histogram(combos.n_bkgd, bins=np.arange(10))\n",
    "x = (b[:-1] + b[1:])/2\n",
    "\n",
    "hist(ax, x, weights=n/n.max(), bins=np.arange(10))\n",
    "ax.set_xlabel('Number of Swapped Jets')\n",
    "plt.show()"
   ]
  },
  {
   "cell_type": "code",
   "execution_count": 13,
   "id": "a5f2cdf6",
   "metadata": {},
   "outputs": [
    {
     "data": {
      "text/plain": [
       "array([ True,  True, False, ...,  True,  True,  True])"
      ]
     },
     "execution_count": 13,
     "metadata": {},
     "output_type": "execute_result"
    }
   ],
   "source": [
    "combos.n_bkgd == 1"
   ]
  },
  {
   "cell_type": "code",
   "execution_count": 14,
   "id": "ebcfb398",
   "metadata": {},
   "outputs": [
    {
     "data": {
      "application/vnd.jupyter.widget-view+json": {
       "model_id": "091c8ba1db0e49f79cb107a39630a38d",
       "version_major": 2,
       "version_minor": 0
      },
      "text/plain": [
       "Canvas(toolbar=Toolbar(toolitems=[('Home', 'Reset original view', 'home', 'home'), ('Back', 'Back to previous …"
      ]
     },
     "metadata": {},
     "output_type": "display_data"
    }
   ],
   "source": [
    "fig, ax = plt.subplots()\n",
    "ax.set_title('Swapped Jet Distribution')\n",
    "\n",
    "hist(ax, x, weights=n/n.max(), bins=np.arange(10))\n",
    "ax.set_xlabel('Number of Swapped Jets')\n",
    "ax.set_yscale('log')\n",
    "plt.show()"
   ]
  },
  {
   "cell_type": "code",
   "execution_count": null,
   "id": "96d091a7",
   "metadata": {},
   "outputs": [],
   "source": [
    "norm_features = scaler.transform(features)"
   ]
  },
  {
   "cell_type": "code",
   "execution_count": null,
   "id": "1901549a",
   "metadata": {},
   "outputs": [],
   "source": [
    "pt  = features[:,0:6]\n",
    "eta = features[:,6:12]\n",
    "phi = features[:,12:18]\n",
    "m   = np.ones(pt.shape)*4"
   ]
  },
  {
   "cell_type": "code",
   "execution_count": null,
   "id": "c1095a1e",
   "metadata": {},
   "outputs": [],
   "source": [
    "p4_0 = vector.obj(pt=pt[:,0], eta=eta[:,0], phi=phi[:,0], mass=m[:,0])\n",
    "p4_1 = vector.obj(pt=pt[:,1], eta=eta[:,1], phi=phi[:,1], mass=m[:,1])\n",
    "p4_2 = vector.obj(pt=pt[:,2], eta=eta[:,2], phi=phi[:,2], mass=m[:,2])\n",
    "p4_3 = vector.obj(pt=pt[:,3], eta=eta[:,3], phi=phi[:,3], mass=m[:,3])\n",
    "p4_4 = vector.obj(pt=pt[:,4], eta=eta[:,4], phi=phi[:,4], mass=m[:,4])\n",
    "p4_5 = vector.obj(pt=pt[:,5], eta=eta[:,5], phi=phi[:,5], mass=m[:,5])"
   ]
  },
  {
   "cell_type": "code",
   "execution_count": null,
   "id": "b8df270d",
   "metadata": {},
   "outputs": [],
   "source": [
    "p4 = p4_0 + p4_1 + p4_2 + p4_3 + p4_4 + p4_5"
   ]
  },
  {
   "cell_type": "code",
   "execution_count": null,
   "id": "9eabe745",
   "metadata": {},
   "outputs": [],
   "source": [
    "p4.mass"
   ]
  },
  {
   "cell_type": "code",
   "execution_count": null,
   "id": "55dccc1c",
   "metadata": {},
   "outputs": [],
   "source": []
  },
  {
   "cell_type": "code",
   "execution_count": null,
   "id": "b972ca99",
   "metadata": {},
   "outputs": [],
   "source": []
  },
  {
   "cell_type": "code",
   "execution_count": null,
   "id": "2ee3665d",
   "metadata": {},
   "outputs": [],
   "source": []
  },
  {
   "cell_type": "code",
   "execution_count": null,
   "id": "6614fa09",
   "metadata": {},
   "outputs": [],
   "source": []
  },
  {
   "cell_type": "code",
   "execution_count": null,
   "id": "56e97866",
   "metadata": {},
   "outputs": [],
   "source": []
  },
  {
   "cell_type": "code",
   "execution_count": null,
   "id": "7fbe69e7",
   "metadata": {},
   "outputs": [],
   "source": []
  },
  {
   "cell_type": "code",
   "execution_count": 22,
   "id": "38e39462",
   "metadata": {},
   "outputs": [],
   "source": [
    "plt.close('all')"
   ]
  },
  {
   "cell_type": "code",
   "execution_count": 23,
   "id": "9a0ff62a",
   "metadata": {},
   "outputs": [
    {
     "data": {
      "application/vnd.jupyter.widget-view+json": {
       "model_id": "afacad98ee1440d1845c0d28743f9caa",
       "version_major": 2,
       "version_minor": 0
      },
      "text/plain": [
       "Canvas(toolbar=Toolbar(toolitems=[('Home', 'Reset original view', 'home', 'home'), ('Back', 'Back to previous …"
      ]
     },
     "metadata": {},
     "output_type": "display_data"
    },
    {
     "data": {
      "text/plain": [
       "Text(0, 0.5, 'AU')"
      ]
     },
     "execution_count": 23,
     "metadata": {},
     "output_type": "execute_result"
    }
   ],
   "source": [
    "fig, ax = plt.subplots()\n",
    "ax.set_title('Test Examples')\n",
    "\n",
    "sgnl_mass = p4.mass[targets[:,0]==1]\n",
    "bkgd_mass = p4.mass[targets[:,0]==0]\n",
    "\n",
    "bins = np.linspace(300,900,60)\n",
    "\n",
    "n_s, b_s = np.histogram(sgnl_mass, bins=bins)\n",
    "n_b, b_b = np.histogram(bkgd_mass, bins=bins)\n",
    "n, b = np.histogram(np.concatenate((sgnl_mass,bkgd_mass)), bins=bins)\n",
    "\n",
    "x = (b_s[1:] + b_s[:-1])/2\n",
    "\n",
    "_ = hist(ax, x, weights=n_s/n.max(), bins=bins, label='Signal')\n",
    "_ = hist(ax, x, weights=n_b/n.max(), bins=bins, label='Background')\n",
    "# _ = hist(ax, x, weights=n/n.max(), label='All')\n",
    "ax.legend(loc=1, fontsize='small')\n",
    "ax.set_xlabel(r'Invariant Mass [GeV]')\n",
    "ax.set_ylabel('AU')"
   ]
  },
  {
   "cell_type": "code",
   "execution_count": 48,
   "id": "141178cf",
   "metadata": {},
   "outputs": [
    {
     "data": {
      "text/plain": [
       "3"
      ]
     },
     "execution_count": 48,
     "metadata": {},
     "output_type": "execute_result"
    }
   ],
   "source": [
    "np.sum(combos.n_bkgd == 7)"
   ]
  },
  {
   "cell_type": "code",
   "execution_count": 50,
   "id": "d6d3d58b",
   "metadata": {},
   "outputs": [
    {
     "data": {
      "text/plain": [
       "8075"
      ]
     },
     "execution_count": 50,
     "metadata": {},
     "output_type": "execute_result"
    }
   ],
   "source": [
    "len(combos.n_bkgd)"
   ]
  },
  {
   "cell_type": "code",
   "execution_count": null,
   "id": "42d06119",
   "metadata": {},
   "outputs": [],
   "source": []
  },
  {
   "cell_type": "code",
   "execution_count": null,
   "id": "cf1c85a3",
   "metadata": {},
   "outputs": [],
   "source": []
  },
  {
   "cell_type": "code",
   "execution_count": 53,
   "id": "c8509b56",
   "metadata": {},
   "outputs": [
    {
     "data": {
      "application/vnd.jupyter.widget-view+json": {
       "model_id": "496e4d6d550341b3a732f062d59ebe31",
       "version_major": 2,
       "version_minor": 0
      },
      "text/plain": [
       "Canvas(toolbar=Toolbar(toolitems=[('Home', 'Reset original view', 'home', 'home'), ('Back', 'Back to previous …"
      ]
     },
     "metadata": {},
     "output_type": "display_data"
    },
    {
     "data": {
      "text/plain": [
       "Text(0, 0.5, 'AU')"
      ]
     },
     "execution_count": 53,
     "metadata": {},
     "output_type": "execute_result"
    }
   ],
   "source": [
    "fig, ax = plt.subplots()\n",
    "ax.set_title('Test Examples')\n",
    "\n",
    "sgnl_mass = p4.mass[targets[:,0]==1][combos.n_bkgd == 1]\n",
    "bkgd_mass = p4.mass[targets[:,0]==0][combos.n_bkgd == 1]\n",
    "\n",
    "bins = np.linspace(300,900,60)\n",
    "\n",
    "n_s, b_s = np.histogram(sgnl_mass, bins=bins)\n",
    "n_b, b_b = np.histogram(bkgd_mass, bins=bins)\n",
    "n, b = np.histogram(np.concatenate((sgnl_mass,bkgd_mass)), bins=bins)\n",
    "\n",
    "x = (b_s[1:] + b_s[:-1])/2\n",
    "\n",
    "_ = hist(ax, x, weights=n_s/n.max(), bins=bins, label='Signal')\n",
    "_ = hist(ax, x, weights=n_b/n.max(), bins=bins, label='Background')\n",
    "# _ = hist(ax, x, weights=n/n.max(), label='All')\n",
    "ax.legend(loc=1, fontsize='small')\n",
    "ax.set_xlabel(r'Invariant Mass [GeV]')\n",
    "ax.set_ylabel('AU')"
   ]
  },
  {
   "cell_type": "code",
   "execution_count": 24,
   "id": "ce1c0325",
   "metadata": {},
   "outputs": [],
   "source": [
    "b = np.linspace(300,900,60)\n",
    "xdata = (b[1:] + b[:-1]) / 2\n",
    "ydata = n_s / n_s.max()"
   ]
  },
  {
   "cell_type": "code",
   "execution_count": 27,
   "id": "0290498b",
   "metadata": {},
   "outputs": [
    {
     "name": "stdout",
     "output_type": "stream",
     "text": [
      "[[Model]]\n",
      "    Model(gaussian)\n",
      "[[Fit Statistics]]\n",
      "    # fitting method   = leastsq\n",
      "    # function evals   = 46\n",
      "    # data points      = 59\n",
      "    # variables        = 3\n",
      "    chi-square         = 0.04025920\n",
      "    reduced chi-square = 7.1891e-04\n",
      "    Akaike info crit   = -424.107292\n",
      "    Bayesian info crit = -417.874680\n",
      "[[Variables]]\n",
      "    amplitude:  149.456340 +/- 1.52973291 (1.02%) (init = 1)\n",
      "    center:     626.390487 +/- 0.71142335 (0.11%) (init = 700)\n",
      "    sigma:      60.1944372 +/- 0.71142338 (1.18%) (init = 50)\n",
      "    fwhm:       141.747065 +/- 1.67527399 (1.18%) == '2.3548200*sigma'\n",
      "    height:     0.99053100 +/- 0.01013842 (1.02%) == '0.3989423*amplitude/max(1e-15, sigma)'\n",
      "[[Correlations]] (unreported correlations are < 0.100)\n",
      "    C(amplitude, sigma) =  0.577\n"
     ]
    }
   ],
   "source": [
    "# Fit the masses with a Gaussian\n",
    "from lmfit.models import GaussianModel, SkewedGaussianModel\n",
    "\n",
    "model = GaussianModel()\n",
    "\n",
    "# create parameters with initial guesses:\n",
    "params = model.make_params(center=700, amplitude=1, sigma=50)\n",
    "\n",
    "result = model.fit(ydata, params, x=xdata)\n",
    "print(result.fit_report())"
   ]
  },
  {
   "cell_type": "code",
   "execution_count": 28,
   "id": "46aed2f5",
   "metadata": {},
   "outputs": [
    {
     "data": {
      "text/html": [
       "<table><tr><th> name </th><th> value </th><th> standard error </th><th> relative error </th><th> initial value </th><th> min </th><th> max </th><th> vary </th><th> expression </th></tr><tr><td> amplitude </td><td>  149.456340 </td><td>  1.52973291 </td><td> (1.02%) </td><td> 1 </td><td>        -inf </td><td>         inf </td><td> True </td><td>  </td></tr><tr><td> center </td><td>  626.390487 </td><td>  0.71142335 </td><td> (0.11%) </td><td> 700 </td><td>        -inf </td><td>         inf </td><td> True </td><td>  </td></tr><tr><td> sigma </td><td>  60.1944372 </td><td>  0.71142338 </td><td> (1.18%) </td><td> 50 </td><td>  0.00000000 </td><td>         inf </td><td> True </td><td>  </td></tr><tr><td> fwhm </td><td>  141.747065 </td><td>  1.67527399 </td><td> (1.18%) </td><td> 117.74100000000001 </td><td>        -inf </td><td>         inf </td><td> False </td><td> 2.3548200*sigma </td></tr><tr><td> height </td><td>  0.99053100 </td><td>  0.01013842 </td><td> (1.02%) </td><td> 0.007978846000000001 </td><td>        -inf </td><td>         inf </td><td> False </td><td> 0.3989423*amplitude/max(1e-15, sigma) </td></tr></table>"
      ],
      "text/plain": [
       "Parameters([('amplitude',\n",
       "             <Parameter 'amplitude', value=149.45634014691495 +/- 1.53, bounds=[-inf:inf]>),\n",
       "            ('center',\n",
       "             <Parameter 'center', value=626.3904865142864 +/- 0.711, bounds=[-inf:inf]>),\n",
       "            ('sigma',\n",
       "             <Parameter 'sigma', value=60.19443717449696 +/- 0.711, bounds=[0:inf]>),\n",
       "            ('fwhm',\n",
       "             <Parameter 'fwhm', value=141.74706454724895 +/- 1.68, bounds=[-inf:inf], expr='2.3548200*sigma'>),\n",
       "            ('height',\n",
       "             <Parameter 'height', value=0.9905310006462548 +/- 0.0101, bounds=[-inf:inf], expr='0.3989423*amplitude/max(1e-15, sigma)'>)])"
      ]
     },
     "execution_count": 28,
     "metadata": {},
     "output_type": "execute_result"
    }
   ],
   "source": [
    "result.params"
   ]
  },
  {
   "cell_type": "code",
   "execution_count": 29,
   "id": "0c3b6996",
   "metadata": {},
   "outputs": [
    {
     "name": "stdout",
     "output_type": "stream",
     "text": [
      "amplitude 149.45634014691495 1.5297329058158344\n",
      "center 626.3904865142864 0.7114233534251908\n",
      "sigma 60.19443717449696 0.7114233760858145\n",
      "fwhm 141.74706454724895 1.6752739949850302\n",
      "height 0.9905310006462548 0.010138415564615767\n"
     ]
    }
   ],
   "source": [
    "params = {}\n",
    "for name,param in result.params.items():\n",
    "    print(name,param.value, param.stderr)\n",
    "    params[name] = {'value':param.value, 'error':param.stderr}"
   ]
  },
  {
   "cell_type": "code",
   "execution_count": null,
   "id": "4d97c7cd",
   "metadata": {},
   "outputs": [],
   "source": []
  },
  {
   "cell_type": "code",
   "execution_count": 30,
   "id": "f56b3ad0",
   "metadata": {},
   "outputs": [],
   "source": [
    "scores = loaded_model.predict(norm_features)"
   ]
  },
  {
   "cell_type": "code",
   "execution_count": 31,
   "id": "00b2efc7",
   "metadata": {},
   "outputs": [
    {
     "data": {
      "text/plain": [
       "array([[0.88108224, 0.11891768],\n",
       "       [0.90760785, 0.09239213],\n",
       "       [0.8779286 , 0.12207133],\n",
       "       ...,\n",
       "       [0.28498268, 0.7150174 ],\n",
       "       [0.9543243 , 0.04567567],\n",
       "       [0.9742431 , 0.02575688]], dtype=float32)"
      ]
     },
     "execution_count": 31,
     "metadata": {},
     "output_type": "execute_result"
    }
   ],
   "source": [
    "scores"
   ]
  },
  {
   "cell_type": "code",
   "execution_count": 32,
   "id": "0fa84bb4",
   "metadata": {},
   "outputs": [
    {
     "data": {
      "application/vnd.jupyter.widget-view+json": {
       "model_id": "6cd27cd3a8be4210b76cadb32cae6070",
       "version_major": 2,
       "version_minor": 0
      },
      "text/plain": [
       "Canvas(toolbar=Toolbar(toolitems=[('Home', 'Reset original view', 'home', 'home'), ('Back', 'Back to previous …"
      ]
     },
     "metadata": {},
     "output_type": "display_data"
    },
    {
     "data": {
      "text/plain": [
       "Text(0, 0.5, 'AU')"
      ]
     },
     "execution_count": 32,
     "metadata": {},
     "output_type": "execute_result"
    }
   ],
   "source": [
    "fig, ax = plt.subplots()\n",
    "ax.set_title('Test Examples')\n",
    "\n",
    "sgnl_scores = scores[:,0][targets[:,0]==1]\n",
    "bkgd_scores = scores[:,0][targets[:,0]==0]\n",
    "\n",
    "n_s, b_s = np.histogram(sgnl_scores, bins=np.linspace(0,1,101))\n",
    "n_b, b_b = np.histogram(bkgd_scores, bins=np.linspace(0,1,101))\n",
    "\n",
    "x = (b_s[1:] + b_s[:-1])/2\n",
    "\n",
    "_ = hist(ax, x, weights=n_s/n_s.max(), label='Signal')\n",
    "_ = hist(ax, x, weights=n_b/n_b.max(), label='Background')\n",
    "ax.legend(loc=9)\n",
    "ax.set_xlabel('Discriminator Score')\n",
    "ax.set_ylabel('AU')"
   ]
  },
  {
   "cell_type": "code",
   "execution_count": null,
   "id": "b1564fc7",
   "metadata": {},
   "outputs": [],
   "source": []
  },
  {
   "cell_type": "code",
   "execution_count": null,
   "id": "30a1d347",
   "metadata": {},
   "outputs": [],
   "source": []
  },
  {
   "cell_type": "code",
   "execution_count": null,
   "id": "e4ed10b3",
   "metadata": {},
   "outputs": [],
   "source": []
  },
  {
   "cell_type": "code",
   "execution_count": 30,
   "id": "6cc7db27",
   "metadata": {},
   "outputs": [
    {
     "data": {
      "application/vnd.jupyter.widget-view+json": {
       "model_id": "f04f81034e334160a6e5b94b408ba497",
       "version_major": 2,
       "version_minor": 0
      },
      "text/plain": [
       "Canvas(toolbar=Toolbar(toolitems=[('Home', 'Reset original view', 'home', 'home'), ('Back', 'Back to previous …"
      ]
     },
     "metadata": {},
     "output_type": "display_data"
    }
   ],
   "source": [
    "fig, ax = plt.subplots()\n",
    "\n",
    "_ = hist2d(ax, sgnl_mass, sgnl_scores, xbins=np.linspace(500,800,100))"
   ]
  },
  {
   "cell_type": "code",
   "execution_count": 31,
   "id": "44d8d808",
   "metadata": {},
   "outputs": [
    {
     "data": {
      "application/vnd.jupyter.widget-view+json": {
       "model_id": "d8fcc3950a3e4d6e8b411b5553e2d641",
       "version_major": 2,
       "version_minor": 0
      },
      "text/plain": [
       "Canvas(toolbar=Toolbar(toolitems=[('Home', 'Reset original view', 'home', 'home'), ('Back', 'Back to previous …"
      ]
     },
     "metadata": {},
     "output_type": "display_data"
    }
   ],
   "source": [
    "fig, ax = plt.subplots()\n",
    "\n",
    "_ = hist2d(ax, bkgd_mass, bkgd_scores, xbins=np.linspace(0,1000,100))"
   ]
  },
  {
   "cell_type": "code",
   "execution_count": null,
   "id": "a8a5987b",
   "metadata": {},
   "outputs": [],
   "source": []
  },
  {
   "cell_type": "code",
   "execution_count": null,
   "id": "3895503c",
   "metadata": {},
   "outputs": [],
   "source": []
  },
  {
   "cell_type": "code",
   "execution_count": 32,
   "id": "7820325c",
   "metadata": {},
   "outputs": [],
   "source": [
    "score_bins = np.arange(0,1.01,0.01)"
   ]
  },
  {
   "cell_type": "code",
   "execution_count": 33,
   "id": "2fd2a0cd",
   "metadata": {},
   "outputs": [],
   "source": [
    "eff = np.array(())\n",
    "for i in score_bins:\n",
    "    eff = np.append(eff, np.sum(sgnl_scores > i)/len(sgnl_scores))"
   ]
  },
  {
   "cell_type": "code",
   "execution_count": 34,
   "id": "7957e025",
   "metadata": {},
   "outputs": [
    {
     "data": {
      "application/vnd.jupyter.widget-view+json": {
       "model_id": "d3636c4a497d4853a530ee0512d9f182",
       "version_major": 2,
       "version_minor": 0
      },
      "text/plain": [
       "Canvas(toolbar=Toolbar(toolitems=[('Home', 'Reset original view', 'home', 'home'), ('Back', 'Back to previous …"
      ]
     },
     "metadata": {},
     "output_type": "display_data"
    },
    {
     "data": {
      "text/plain": [
       "Text(0.5, 0, 'Discriminator Cut')"
      ]
     },
     "execution_count": 34,
     "metadata": {},
     "output_type": "execute_result"
    }
   ],
   "source": [
    "fig, ax = plt.subplots()\n",
    "ax.set_title('Efficiency Curve')\n",
    "\n",
    "ax.plot(score_bins, eff)\n",
    "ax.set_ylabel('% Passing Signal')\n",
    "ax.set_xlabel('Discriminator Cut')"
   ]
  },
  {
   "cell_type": "code",
   "execution_count": null,
   "id": "7df7f7da",
   "metadata": {},
   "outputs": [],
   "source": []
  },
  {
   "cell_type": "code",
   "execution_count": null,
   "id": "bcfe9b0c",
   "metadata": {},
   "outputs": [],
   "source": []
  },
  {
   "cell_type": "code",
   "execution_count": null,
   "id": "a64b9fc3",
   "metadata": {},
   "outputs": [],
   "source": []
  },
  {
   "cell_type": "code",
   "execution_count": null,
   "id": "99097bc8",
   "metadata": {},
   "outputs": [],
   "source": []
  },
  {
   "cell_type": "code",
   "execution_count": 31,
   "id": "771d4557",
   "metadata": {},
   "outputs": [
    {
     "data": {
      "application/vnd.jupyter.widget-view+json": {
       "model_id": "",
       "version_major": 2,
       "version_minor": 0
      },
      "text/plain": [
       "Canvas(toolbar=Toolbar(toolitems=[('Home', 'Reset original view', 'home', 'home'), ('Back', 'Back to previous …"
      ]
     },
     "metadata": {},
     "output_type": "display_data"
    },
    {
     "data": {
      "text/plain": [
       "Text(0, 0.5, 'AU')"
      ]
     },
     "execution_count": 31,
     "metadata": {},
     "output_type": "execute_result"
    }
   ],
   "source": [
    "# fig, ax = plt.subplots()\n",
    "\n",
    "# sgnl_mass = p4.mass[targets[:,0]==1]\n",
    "# pass_mass = p4.mass[scores[:,0] > 0.5]\n",
    "\n",
    "# n_s, b_s = np.histogram(sgnl_mass, bins=np.linspace(200,1200,101))\n",
    "# n_b, b_b = np.histogram(pass_mass, bins=np.linspace(200,1200,101))\n",
    "# n, b = np.histogram(p4.mass, bins=np.linspace(200,1200,101))\n",
    "\n",
    "# x = (b_s[1:] + b_s[:-1])/2\n",
    "\n",
    "# _ = hist(ax, x, weights=n_s/n.max(), label='Signal')\n",
    "# _ = hist(ax, x, weights=n_b/n.max(), label='Passing Score')\n",
    "# _ = hist(ax, x, weights=n/n.max(), label='All')\n",
    "# ax.legend(loc=1)\n",
    "# ax.set_xlabel('Invariant Mass [GeV]')\n",
    "# ax.set_ylabel('AU')"
   ]
  },
  {
   "cell_type": "code",
   "execution_count": 32,
   "id": "599837d3",
   "metadata": {},
   "outputs": [
    {
     "data": {
      "application/vnd.jupyter.widget-view+json": {
       "model_id": "",
       "version_major": 2,
       "version_minor": 0
      },
      "text/plain": [
       "Canvas(toolbar=Toolbar(toolitems=[('Home', 'Reset original view', 'home', 'home'), ('Back', 'Back to previous …"
      ]
     },
     "metadata": {},
     "output_type": "display_data"
    },
    {
     "data": {
      "text/plain": [
       "Text(0, 0.5, 'AU')"
      ]
     },
     "execution_count": 32,
     "metadata": {},
     "output_type": "execute_result"
    }
   ],
   "source": [
    "# fig, ax = plt.subplots()\n",
    "\n",
    "# sgnl_mass = p4.mass[targets[:,0]==1]\n",
    "# sgnl_pass_mask = (targets[:,0]==1) & (scores[:,0] > 0.5)\n",
    "# sgnl_fail_mask = (targets[:,0]==1) & (scores[:,0] <= 0.5)\n",
    "# fail_mass = p4.mass[sgnl_fail_mask]\n",
    "\n",
    "# n_s, b_s = np.histogram(sgnl_mass, bins=np.linspace(200,1200,101))\n",
    "# n_b, b_b = np.histogram(pass_mass, bins=np.linspace(200,1200,101))\n",
    "# n_f, b_f = np.histogram(fail_mass, bins=np.linspace(200,1200,101))\n",
    "# n, b = np.histogram(p4.mass, bins=np.linspace(200,1200,101))\n",
    "\n",
    "# x = (b_s[1:] + b_s[:-1])/2\n",
    "\n",
    "# _ = hist(ax, x, weights=n_s/n.max(), label='Signal')\n",
    "# _ = hist(ax, x, weights=n_b/n.max(), label='Passing Score')\n",
    "# _ = hist(ax, x, weights=n_f/n.max(), label='Failing Score')\n",
    "# _ = hist(ax, x, weights=n/n.max(), label='All')\n",
    "# ax.legend(loc=1)\n",
    "# ax.set_xlabel('Invariant Mass [GeV]')\n",
    "# ax.set_ylabel('AU')"
   ]
  },
  {
   "cell_type": "code",
   "execution_count": 42,
   "id": "c1e2078c",
   "metadata": {},
   "outputs": [],
   "source": [
    "# fig, ax = plt.subplots()\n",
    "\n",
    "# sgnl_mass = p4.mass[targets[:,0]==1]\n",
    "# bkgd_pass_mask = (targets[:,0]==0) & (scores[:,0] > 0.5)\n",
    "# bkgd_fail_mask = (targets[:,0]==0) & (scores[:,0] <= 0.5)\n",
    "# fail_bkgd = p4.mass[bkgd_fail_mask]\n",
    "# pass_bkgd = p4.mass[bkgd_pass_mask]\n",
    "\n",
    "# n_s, b_s = np.histogram(bkgd_mass, bins=np.linspace(200,1200,101))\n",
    "# n_b, b_b = np.histogram(pass_bkgd, bins=np.linspace(200,1200,101))\n",
    "# n_f, b_f = np.histogram(fail_bkgd, bins=np.linspace(200,1200,101))\n",
    "\n",
    "# x = (b_s[1:] + b_s[:-1])/2\n",
    "\n",
    "# _ = hist(ax, x, weights=n_s/n.max(), label='Signal')\n",
    "# _ = hist(ax, x, weights=n_b/n.max(), label='Passing Score')\n",
    "# _ = hist(ax, x, weights=n_f/n.max(), label='Failing Score')\n",
    "# ax.legend(loc=1)\n",
    "# ax.set_xlabel('Invariant Mass [GeV]')\n",
    "# ax.set_ylabel('AU')"
   ]
  },
  {
   "cell_type": "code",
   "execution_count": 43,
   "id": "e99333d2",
   "metadata": {},
   "outputs": [],
   "source": [
    "# fig, ax = plt.subplots()\n",
    "\n",
    "# sgnl_mass = p4.mass[targets[:,0]==1]\n",
    "# sgnl_pass_mask = (targets[:,0]==1) & (scores[:,0] > 0.5)\n",
    "# sgnl_fail_mask = (targets[:,0]==1) & (scores[:,0] <= 0.5)\n",
    "# bkgd_pass_mask = (targets[:,0]==0) & (scores[:,0] > 0.5)\n",
    "# bkgd_fail_mask = (targets[:,0]==0) & (scores[:,0] <= 0.5)\n",
    "# fail_sgnl = p4.mass[sgnl_fail_mask]\n",
    "# pass_sgnl = p4.mass[sgnl_pass_mask]\n",
    "# fail_bkgd = p4.mass[bkgd_fail_mask]\n",
    "# pass_bkgd = p4.mass[bkgd_pass_mask]\n",
    "\n",
    "# n_s, b_s = np.histogram(sgnl_mass, bins=np.linspace(200,1200,101))\n",
    "# n_b, b_b = np.histogram(pass_sgnl, bins=np.linspace(200,1200,101))\n",
    "# n_f, b_f = np.histogram(fail_sgnl, bins=np.linspace(200,1200,101))\n",
    "\n",
    "# x = (b_s[1:] + b_s[:-1])/2\n",
    "\n",
    "# _ = hist(ax, x, weights=n_s/n.max(), label='Signal')\n",
    "# _ = hist(ax, x, weights=n_b/n.max(), label='Passing Score')\n",
    "# _ = hist(ax, x, weights=n_f/n.max(), label='Failing Score')\n",
    "# ax.legend(loc=1)\n",
    "# ax.set_xlabel('Invariant Mass [GeV]')\n",
    "# ax.set_ylabel('AU')"
   ]
  }
 ],
 "metadata": {
  "kernelspec": {
   "display_name": "Python 3",
   "language": "python",
   "name": "python3"
  },
  "language_info": {
   "codemirror_mode": {
    "name": "ipython",
    "version": 3
   },
   "file_extension": ".py",
   "mimetype": "text/x-python",
   "name": "python",
   "nbconvert_exporter": "python",
   "pygments_lexer": "ipython3",
   "version": "3.8.10"
  }
 },
 "nbformat": 4,
 "nbformat_minor": 5
}
