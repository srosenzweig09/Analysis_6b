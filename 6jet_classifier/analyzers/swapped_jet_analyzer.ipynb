{
 "cells": [
  {
   "cell_type": "markdown",
   "id": "b4ecb636",
   "metadata": {},
   "source": [
    "### Import libraries"
   ]
  },
  {
   "cell_type": "code",
   "execution_count": 1,
   "id": "2bc3a484",
   "metadata": {},
   "outputs": [
    {
     "name": "stdout",
     "output_type": "stream",
     "text": [
      "Starting\n"
     ]
    }
   ],
   "source": [
    "print(\"Starting\")"
   ]
  },
  {
   "cell_type": "code",
   "execution_count": 2,
   "id": "6ac2a8a3",
   "metadata": {},
   "outputs": [],
   "source": [
    "import awkward as ak\n",
    "from consistent_plots import hist, hist2d\n",
    "import matplotlib as mpl\n",
    "mpl.style.use('../../presentation.mplstyle')\n",
    "mpl.rcParams['font.size'] = 14\n",
    "import matplotlib.pyplot as plt\n",
    "%matplotlib widget\n",
    "import numpy as np\n",
    "from trsm import TRSM, combos\n",
    "import vector"
   ]
  },
  {
   "cell_type": "code",
   "execution_count": 11,
   "id": "69b39f34",
   "metadata": {},
   "outputs": [
    {
     "name": "stdout",
     "output_type": "stream",
     "text": [
      "The autoreload extension is already loaded. To reload it, use:\n",
      "  %reload_ext autoreload\n"
     ]
    }
   ],
   "source": [
    "%load_ext autoreload\n",
    "%autoreload 2"
   ]
  },
  {
   "cell_type": "code",
   "execution_count": 2,
   "id": "3186adfb",
   "metadata": {
    "tags": []
   },
   "outputs": [],
   "source": [
    "# mpl.rcParams.keys()"
   ]
  },
  {
   "cell_type": "code",
   "execution_count": 20,
   "id": "b9abb9f5",
   "metadata": {},
   "outputs": [],
   "source": [
    "def norm_hist(arr, bins=100):\n",
    "    n, b = np.histogram(arr, bins=bins)\n",
    "    x = (b[:-1] + b[1:]) / 2\n",
    "    \n",
    "    return n/n.max(), b, x"
   ]
  },
  {
   "cell_type": "markdown",
   "id": "ae2fee0e",
   "metadata": {},
   "source": [
    "### Load model"
   ]
  },
  {
   "cell_type": "code",
   "execution_count": 21,
   "id": "be17a62c",
   "metadata": {},
   "outputs": [],
   "source": [
    "from keras.models import model_from_json"
   ]
  },
  {
   "cell_type": "code",
   "execution_count": 22,
   "id": "bac3bfa5",
   "metadata": {},
   "outputs": [],
   "source": [
    "from pickle import load"
   ]
  },
  {
   "cell_type": "code",
   "execution_count": 23,
   "id": "c7fdfa4a",
   "metadata": {},
   "outputs": [],
   "source": [
    "tag = 'lr_0pt0001_beta1_0pt1_beta2_0pt5'"
   ]
  },
  {
   "cell_type": "code",
   "execution_count": 24,
   "id": "e53eef01",
   "metadata": {},
   "outputs": [],
   "source": [
    "json_file = open(f'../models/{tag}/model/model_1.json', 'r')\n",
    "loaded_model_json = json_file.read()\n",
    "json_file.close()\n",
    "loaded_model = model_from_json(loaded_model_json)\n",
    "loaded_model.load_weights(f'../models/{tag}/model/model_1.h5')"
   ]
  },
  {
   "cell_type": "code",
   "execution_count": 25,
   "id": "8e1657ce",
   "metadata": {},
   "outputs": [],
   "source": [
    "scaler = load(open(f'../models/{tag}/model/scaler_1.pkl', 'rb'))"
   ]
  },
  {
   "cell_type": "markdown",
   "id": "af34b485",
   "metadata": {},
   "source": [
    "### Open ROOT file"
   ]
  },
  {
   "cell_type": "code",
   "execution_count": 3,
   "id": "2217fb66",
   "metadata": {},
   "outputs": [
    {
     "name": "stdout",
     "output_type": "stream",
     "text": [
      "-- [INFO] -- \u001b[0;38;5;229m/eos/user/s/srosenzw/miniconda3/envs/work/lib/python3.8/runpy.py\u001b[0;38;5;255m -- Opening ROOT file ../../signal/skimmed/NMSSM_XYH_YToHH_6b_MX_700_MY_400_testing_set_skimmed.root with columns\n",
      "-- [INFO] -- \u001b[0;38;5;229m/eos/user/s/srosenzw/miniconda3/envs/work/lib/python3.8/runpy.py\u001b[0;38;5;255m -- Tree contains 52891 events.\n",
      "----------------------------------------------------------------------------------------------------\n",
      "                                            TABLE COLUMNS                                           \n",
      "----------------------------------------------------------------------------------------------------\n",
      "jet_pt                            jet_eta                           jet_phi                           \n",
      "jet_m                             jet_btag                          jet_qgl                           \n",
      "jet_idx                           jet_hadronFlav                    jet_partonFlav                    \n",
      "HX_b1_recojet_m                   HX_b1_recojet_pt                  HX_b1_recojet_eta                 \n",
      "HX_b1_recojet_phi                 HX_b1_recojet_ptRegressed         HX_b2_recojet_m                   \n",
      "HX_b2_recojet_pt                  HX_b2_recojet_eta                 HX_b2_recojet_phi                 \n",
      "HX_b2_recojet_ptRegressed         HY1_b1_recojet_m                  HY1_b1_recojet_pt                 \n",
      "HY1_b1_recojet_eta                HY1_b1_recojet_phi                HY1_b1_recojet_ptRegressed        \n",
      "HY1_b2_recojet_m                  HY1_b2_recojet_pt                 HY1_b2_recojet_eta                \n",
      "HY1_b2_recojet_phi                HY1_b2_recojet_ptRegressed        HY2_b1_recojet_m                  \n",
      "HY2_b1_recojet_pt                 HY2_b1_recojet_eta                HY2_b1_recojet_phi                \n",
      "HY2_b1_recojet_ptRegressed        HY2_b2_recojet_m                  HY2_b2_recojet_pt                 \n",
      "HY2_b2_recojet_eta                HY2_b2_recojet_phi                HY2_b2_recojet_ptRegressed        \n",
      "----------------------------------------------------------------------------------------------------\n"
     ]
    }
   ],
   "source": [
    "filename = f'../../signal/skimmed/NMSSM_XYH_YToHH_6b_MX_700_MY_400_testing_set_skimmed.root'\n",
    "trsm = TRSM(filename=filename)"
   ]
  },
  {
   "cell_type": "markdown",
   "id": "c1595e9f",
   "metadata": {},
   "source": [
    "### Load combinations of 7 total jets"
   ]
  },
  {
   "cell_type": "code",
   "execution_count": 18,
   "id": "592ea2e5",
   "metadata": {},
   "outputs": [
    {
     "name": "stderr",
     "output_type": "stream",
     "text": [
      "100%|██████████| 52891/52891 [00:33<00:00, 1582.96it/s]\n"
     ]
    },
    {
     "name": "stdout",
     "output_type": "stream",
     "text": [
      "Total events chosen: 8052\n"
     ]
    }
   ],
   "source": [
    "combos7 = combos(trsm, 7)"
   ]
  },
  {
   "cell_type": "code",
   "execution_count": 26,
   "id": "72fc76df",
   "metadata": {},
   "outputs": [
    {
     "data": {
      "text/plain": [
       "(56364,)"
      ]
     },
     "execution_count": 26,
     "metadata": {},
     "output_type": "execute_result"
    }
   ],
   "source": [
    "test_features_7 = scaler.transform(combos7.combo_features)\n",
    "scores_7 = loaded_model.predict(test_features_7)[:,0]\n",
    "scores_7.shape"
   ]
  },
  {
   "cell_type": "code",
   "execution_count": 27,
   "id": "08cd788e",
   "metadata": {},
   "outputs": [],
   "source": [
    "sgnl_scores_7 = scores_7[combos7.sgnl_mask]\n",
    "bkgd_scores_7 = scores_7[~combos7.sgnl_mask]"
   ]
  },
  {
   "cell_type": "code",
   "execution_count": 28,
   "id": "f8b0f2ab",
   "metadata": {},
   "outputs": [],
   "source": [
    "import awkward as ak"
   ]
  },
  {
   "cell_type": "code",
   "execution_count": 29,
   "id": "d92b7517",
   "metadata": {},
   "outputs": [],
   "source": [
    "bkgd_parton_id = np.array((ak.flatten(combos7.bkgd_dict['partonFlav'])))\n",
    "bkgd_hadron_id = np.array((ak.flatten(combos7.bkgd_dict['hadronFlav'])))"
   ]
  },
  {
   "cell_type": "code",
   "execution_count": 30,
   "id": "99449560",
   "metadata": {},
   "outputs": [],
   "source": [
    "swap_sgnl_idx = np.array((ak.flatten(combos7.bkgd_dict['ind'])))"
   ]
  },
  {
   "cell_type": "code",
   "execution_count": 31,
   "id": "6a55c2e6",
   "metadata": {},
   "outputs": [
    {
     "data": {
      "text/plain": [
       "array([6, 6, 6, ..., 9, 9, 9])"
      ]
     },
     "execution_count": 31,
     "metadata": {},
     "output_type": "execute_result"
    }
   ],
   "source": [
    "swap_sgnl_idx"
   ]
  },
  {
   "cell_type": "code",
   "execution_count": 32,
   "id": "06be1aad",
   "metadata": {},
   "outputs": [],
   "source": [
    "bkgd_pt = combos7.swapped_bkgd_pt\n",
    "bkgd_pt = ak.to_numpy(bkgd_pt)"
   ]
  },
  {
   "cell_type": "code",
   "execution_count": 33,
   "id": "b0991038",
   "metadata": {},
   "outputs": [],
   "source": [
    "sgnl_pt = ak.to_numpy(combos7.swapped_sgnl_pt)"
   ]
  },
  {
   "cell_type": "code",
   "execution_count": 34,
   "id": "a45ac253",
   "metadata": {},
   "outputs": [],
   "source": [
    "bkgd_pt = bkgd_pt.reshape(bkgd_pt.shape[0])\n",
    "sgnl_pt = sgnl_pt.reshape(sgnl_pt.shape[0])"
   ]
  },
  {
   "cell_type": "code",
   "execution_count": 35,
   "id": "87b0fb54",
   "metadata": {},
   "outputs": [],
   "source": [
    "sgnl_p4 = combos7.incorrect_sgnl_p4\n",
    "bkgd_p4 = combos7.incorrect_bkgd_p4"
   ]
  },
  {
   "cell_type": "code",
   "execution_count": 36,
   "id": "7aabed6e",
   "metadata": {},
   "outputs": [],
   "source": [
    "dR_incorrect = ak.to_numpy(combos7.incorrect_sgnl_p4.deltaR(combos7.incorrect_bkgd_p4))\n",
    "dR_incorrect = dR_incorrect.reshape(dR_incorrect.shape[0])"
   ]
  },
  {
   "cell_type": "code",
   "execution_count": 45,
   "id": "a9c3f360",
   "metadata": {},
   "outputs": [
    {
     "data": {
      "application/vnd.jupyter.widget-view+json": {
       "model_id": "2b78ae6b4b0447e0812e40c1687fbf5f",
       "version_major": 2,
       "version_minor": 0
      },
      "text/plain": [
       "Canvas(toolbar=Toolbar(toolitems=[('Home', 'Reset original view', 'home', 'home'), ('Back', 'Back to previous …"
      ]
     },
     "metadata": {},
     "output_type": "display_data"
    },
    {
     "data": {
      "text/plain": [
       "Text(0.5, 0, '$\\\\Delta R$ Between Swapped Jets')"
      ]
     },
     "execution_count": 45,
     "metadata": {},
     "output_type": "execute_result"
    }
   ],
   "source": [
    "fig, ax = plt.subplots()\n",
    "\n",
    "n, b, x = hist(ax, dR_incorrect)\n",
    "ax.set_xlabel(r'$\\Delta R$ Between Swapped Jets')"
   ]
  },
  {
   "cell_type": "code",
   "execution_count": 44,
   "id": "728bb8fe",
   "metadata": {},
   "outputs": [
    {
     "data": {
      "application/vnd.jupyter.widget-view+json": {
       "model_id": "bc59df4fe9884970a487276a3d89bb15",
       "version_major": 2,
       "version_minor": 0
      },
      "text/plain": [
       "Canvas(toolbar=Toolbar(toolitems=[('Home', 'Reset original view', 'home', 'home'), ('Back', 'Back to previous …"
      ]
     },
     "metadata": {},
     "output_type": "display_data"
    }
   ],
   "source": [
    "fig, ax = plt.subplots()\n",
    "\n",
    "n, x, y, im = hist2d(ax, dR_incorrect, scores_7[~combos7.sgnl_mask], xbins=np.linspace(0,6,100), ybins=np.linspace(0,1.01,100))\n",
    "ax.set_xlim(0,5.5)\n",
    "plt.colorbar(im, ax=ax)\n",
    "\n",
    "ax.set_xlabel(r\"$\\Delta R$ Between Swapped Jets\")\n",
    "ax.set_ylabel(\"Assigned Score\")\n",
    "\n",
    "plt.show()"
   ]
  },
  {
   "cell_type": "code",
   "execution_count": 46,
   "id": "c2dc5c50",
   "metadata": {},
   "outputs": [
    {
     "data": {
      "application/vnd.jupyter.widget-view+json": {
       "model_id": "07f9ad4d3a4d4901aaf4d23654f4148d",
       "version_major": 2,
       "version_minor": 0
      },
      "text/plain": [
       "Canvas(toolbar=Toolbar(toolitems=[('Home', 'Reset original view', 'home', 'home'), ('Back', 'Back to previous …"
      ]
     },
     "metadata": {},
     "output_type": "display_data"
    }
   ],
   "source": [
    "fig, ax = plt.subplots()\n",
    "\n",
    "n, xedges, yedges, im = hist2d(ax, sgnl_pt, bkgd_pt, xbins=np.arange(30,200), ybins=np.arange(30,200))\n",
    "plt.colorbar(im, ax=ax)\n",
    "ax.set_xlabel(r\"Signal jet $p_T$ [GeV]\")\n",
    "ax.set_ylabel(r\"Swapped jet $p_T$ [GeV]\")\n",
    "\n",
    "plt.tight_layout()\n",
    "plt.show()"
   ]
  },
  {
   "cell_type": "code",
   "execution_count": 60,
   "id": "327fd748",
   "metadata": {},
   "outputs": [
    {
     "data": {
      "application/vnd.jupyter.widget-view+json": {
       "model_id": "9cd5575289224969b446ea541915cd0e",
       "version_major": 2,
       "version_minor": 0
      },
      "text/plain": [
       "Canvas(toolbar=Toolbar(toolitems=[('Home', 'Reset original view', 'home', 'home'), ('Back', 'Back to previous …"
      ]
     },
     "metadata": {},
     "output_type": "display_data"
    }
   ],
   "source": [
    "fig, ax = plt.subplots()\n",
    "\n",
    "sc = ax.scatter(sgnl_pt, bkgd_pt, c=bkgd_scores_7, cmap='rainbow', alpha=0.75, s=1, vmin=0.0, vmax=1.0)\n",
    "plt.colorbar(sc)\n",
    "ax.set_xlabel(r\"Signal jet $p_T$ [GeV]\")\n",
    "ax.set_xlim(0,500)\n",
    "ax.set_ylabel(r\"Swapped jet $p_T$ [GeV]\")\n",
    "ax.set_ylim(0,800)\n",
    "\n",
    "plt.tight_layout()\n",
    "plt.show()"
   ]
  },
  {
   "cell_type": "code",
   "execution_count": 57,
   "id": "cfd69fd6",
   "metadata": {},
   "outputs": [
    {
     "data": {
      "application/vnd.jupyter.widget-view+json": {
       "model_id": "0ef68deb1cff4c56831826fd3311efb7",
       "version_major": 2,
       "version_minor": 0
      },
      "text/plain": [
       "Canvas(toolbar=Toolbar(toolitems=[('Home', 'Reset original view', 'home', 'home'), ('Back', 'Back to previous …"
      ]
     },
     "metadata": {},
     "output_type": "display_data"
    }
   ],
   "source": [
    "fig, ax = plt.subplots()\n",
    "\n",
    "high_mask = bkgd_scores_7 > 0.8\n",
    "low_mask = bkgd_scores_7 <= 0.8\n",
    "\n",
    "sc = ax.scatter(sgnl_pt[low_mask], bkgd_pt[low_mask], alpha=0.75, s=1, label=r'score $\\leq$ 0.8')\n",
    "sc = ax.scatter(sgnl_pt[high_mask], bkgd_pt[high_mask], alpha=0.75, s=1, label=r'score $>$ 0.8')\n",
    "ax.set_xlabel(r\"Signal jet $p_T$ [GeV]\")\n",
    "ax.set_xlim(0,500)\n",
    "ax.set_ylabel(r\"Swapped jet $p_T$ [GeV]\")\n",
    "ax.set_ylim(0,800)\n",
    "ax.legend()\n",
    "\n",
    "plt.tight_layout()\n",
    "plt.show()"
   ]
  },
  {
   "cell_type": "code",
   "execution_count": 58,
   "id": "9236a050",
   "metadata": {},
   "outputs": [
    {
     "data": {
      "application/vnd.jupyter.widget-view+json": {
       "model_id": "0483c9bd91524e6fb070e9c2680e211c",
       "version_major": 2,
       "version_minor": 0
      },
      "text/plain": [
       "Canvas(toolbar=Toolbar(toolitems=[('Home', 'Reset original view', 'home', 'home'), ('Back', 'Back to previous …"
      ]
     },
     "metadata": {},
     "output_type": "display_data"
    }
   ],
   "source": [
    "fig, ax = plt.subplots()\n",
    "\n",
    "n, xedges, yedges, im = hist2d(ax, scores_7[~combos7.sgnl_mask], bkgd_pt, ybins=np.arange(30,200))\n",
    "plt.colorbar(im, ax=ax)\n",
    "ax.set_xlabel(\"Assigned Score\")\n",
    "ax.set_ylabel(r\"$p_T [GeV]$ of Incorrect Swapped Jet\")\n",
    "\n",
    "plt.show()"
   ]
  },
  {
   "cell_type": "code",
   "execution_count": 59,
   "id": "7a927e61",
   "metadata": {},
   "outputs": [
    {
     "data": {
      "application/vnd.jupyter.widget-view+json": {
       "model_id": "710aad382f5946c89251520bb0021975",
       "version_major": 2,
       "version_minor": 0
      },
      "text/plain": [
       "Canvas(toolbar=Toolbar(toolitems=[('Home', 'Reset original view', 'home', 'home'), ('Back', 'Back to previous …"
      ]
     },
     "metadata": {},
     "output_type": "display_data"
    }
   ],
   "source": [
    "fig, ax = plt.subplots()\n",
    "\n",
    "ax.set_title(r\"$^7C_6$ Background pT\")\n",
    "\n",
    "n_7, b_7, x_7 = norm_hist(bkgd_pt[scores_7[~combos7.sgnl_mask] > 0.8]   , bins=np.linspace(0,600,100))\n",
    "w_n_7, b_7, x_7 = norm_hist(bkgd_pt[scores_7[~combos7.sgnl_mask] <= 0.8], bins=np.linspace(0,600,100))\n",
    "\n",
    "hist(ax, x_7, weights=n_7, bins=b_7, label='Score > 0.8')\n",
    "hist(ax, x_7, weights=w_n_7, bins=b_7, label='Score <= 0.8')\n",
    "ax.legend(fontsize='small', loc=9)\n",
    "\n",
    "ax.set_xlabel('Swapped bkgd pT')\n",
    "ax.set_ylabel('AU')\n",
    "\n",
    "textstr = f'Entries = {len(scores_7)}'\n",
    "props = dict(boxstyle='round', facecolor='white', alpha=1)\n",
    "ax.text(0.8, 1.02, textstr, transform=ax.transAxes, fontsize=9,\n",
    "        verticalalignment='top', bbox=props)\n",
    "\n",
    "plt.show()"
   ]
  },
  {
   "cell_type": "code",
   "execution_count": null,
   "id": "ce0c0c1d",
   "metadata": {},
   "outputs": [],
   "source": []
  },
  {
   "cell_type": "code",
   "execution_count": 61,
   "id": "9049bbaa",
   "metadata": {},
   "outputs": [
    {
     "data": {
      "application/vnd.jupyter.widget-view+json": {
       "model_id": "aa73d07971f34eaebf78e37c379e5b84",
       "version_major": 2,
       "version_minor": 0
      },
      "text/plain": [
       "Canvas(toolbar=Toolbar(toolitems=[('Home', 'Reset original view', 'home', 'home'), ('Back', 'Back to previous …"
      ]
     },
     "metadata": {},
     "output_type": "display_data"
    }
   ],
   "source": [
    "fig, ax = plt.subplots()\n",
    "\n",
    "n, xedges, yedges, im = hist2d(ax, scores_7[~combos7.sgnl_mask], bkgd_parton_id, ybins=np.arange(-5,22))\n",
    "plt.colorbar(im, ax=ax)\n",
    "ax.set_xlabel(\"Assigned Score\")\n",
    "ax.set_ylabel(\"Parton ID of Incorrect Swapped Jet\")\n",
    "\n",
    "plt.show()"
   ]
  },
  {
   "cell_type": "code",
   "execution_count": 62,
   "id": "278c6b80",
   "metadata": {},
   "outputs": [],
   "source": [
    "d_mask = bkgd_parton_id == 1\n",
    "u_mask = bkgd_parton_id == 2\n",
    "s_mask = bkgd_parton_id == 3\n",
    "c_mask = bkgd_parton_id == 4\n",
    "b_mask = bkgd_parton_id == 5\n",
    "\n",
    "dbar_mask = bkgd_parton_id == -1\n",
    "ubar_mask = bkgd_parton_id == -2\n",
    "sbar_mask = bkgd_parton_id == -3\n",
    "cbar_mask = bkgd_parton_id == -4\n",
    "bbar_mask = bkgd_parton_id == -5\n",
    "\n",
    "g_mask = bkgd_parton_id == 21\n",
    "\n",
    "unknown = bkgd_parton_id == 0"
   ]
  },
  {
   "cell_type": "code",
   "execution_count": 63,
   "id": "1a2e748c",
   "metadata": {},
   "outputs": [
    {
     "data": {
      "application/vnd.jupyter.widget-view+json": {
       "model_id": "3cc93d2fa9204da5a1edd4fd4fd51a16",
       "version_major": 2,
       "version_minor": 0
      },
      "text/plain": [
       "Canvas(toolbar=Toolbar(toolitems=[('Home', 'Reset original view', 'home', 'home'), ('Back', 'Back to previous …"
      ]
     },
     "metadata": {},
     "output_type": "display_data"
    }
   ],
   "source": [
    "fig, axs = plt.subplots(nrows=2, ncols=6, figsize=(15,4))\n",
    "\n",
    "ax = axs[0][0]\n",
    "hist(ax, scores_7[~combos7.sgnl_mask][d_mask])\n",
    "ax.set_title('d')\n",
    "\n",
    "ax = axs[0][1]\n",
    "hist(ax, scores_7[~combos7.sgnl_mask][u_mask])\n",
    "ax.set_title('u')\n",
    "\n",
    "ax = axs[0][2]\n",
    "hist(ax, scores_7[~combos7.sgnl_mask][s_mask])\n",
    "ax.set_title('s')\n",
    "\n",
    "ax = axs[0][3]\n",
    "hist(ax, scores_7[~combos7.sgnl_mask][c_mask])\n",
    "ax.set_title('c')\n",
    "\n",
    "ax = axs[0][4]\n",
    "hist(ax, scores_7[~combos7.sgnl_mask][b_mask])\n",
    "ax.set_title('b')\n",
    "\n",
    "ax = axs[0][5]\n",
    "hist(ax, scores_7[~combos7.sgnl_mask][g_mask])\n",
    "ax.set_title('g')\n",
    "\n",
    "\n",
    "\n",
    "ax = axs[1][0]\n",
    "hist(ax, scores_7[~combos7.sgnl_mask][dbar_mask])\n",
    "ax.set_title('dbar')\n",
    "\n",
    "ax = axs[1][1]\n",
    "hist(ax, scores_7[~combos7.sgnl_mask][ubar_mask])\n",
    "ax.set_title('ubar')\n",
    "\n",
    "ax = axs[1][2]\n",
    "hist(ax, scores_7[~combos7.sgnl_mask][sbar_mask])\n",
    "ax.set_title('sbar')\n",
    "\n",
    "ax = axs[1][3]\n",
    "hist(ax, scores_7[~combos7.sgnl_mask][cbar_mask])\n",
    "ax.set_title('cbar')\n",
    "\n",
    "ax = axs[1][4]\n",
    "hist(ax, scores_7[~combos7.sgnl_mask][bbar_mask])\n",
    "ax.set_title('bbar')\n",
    "\n",
    "ax = axs[1][5]\n",
    "hist(ax, scores_7[~combos7.sgnl_mask][unknown])\n",
    "ax.set_title('unknown')\n",
    "\n",
    "for ax in axs.flat:\n",
    "    ax.set_xlabel(\"Assigned Score\")\n",
    "    ax.set_ylabel(\"Count\")\n",
    "\n",
    "plt.tight_layout()"
   ]
  },
  {
   "cell_type": "code",
   "execution_count": 54,
   "id": "0f6bc8ee",
   "metadata": {},
   "outputs": [
    {
     "name": "stdout",
     "output_type": "stream",
     "text": [
      "0 11\n"
     ]
    }
   ],
   "source": [
    "print(swap_sgnl_idx.min(), swap_sgnl_idx.max())"
   ]
  },
  {
   "cell_type": "code",
   "execution_count": 55,
   "id": "788efe29",
   "metadata": {},
   "outputs": [],
   "source": [
    "plt.close('all')"
   ]
  },
  {
   "cell_type": "code",
   "execution_count": 56,
   "id": "b25f9f84",
   "metadata": {},
   "outputs": [
    {
     "data": {
      "application/vnd.jupyter.widget-view+json": {
       "model_id": "5ce8bfc45d704b2394cc54d8b92e7c6e",
       "version_major": 2,
       "version_minor": 0
      },
      "text/plain": [
       "Canvas(toolbar=Toolbar(toolitems=[('Home', 'Reset original view', 'home', 'home'), ('Back', 'Back to previous …"
      ]
     },
     "metadata": {},
     "output_type": "display_data"
    }
   ],
   "source": [
    "fig, ax = plt.subplots()\n",
    "\n",
    "n, x, y, im = hist2d(ax, swap_sgnl_idx, scores_7[~combos7.sgnl_mask], xbins=np.linspace(0,6,13))\n",
    "ax.set_xlim(0,5.5)\n",
    "plt.colorbar(im, ax=ax)\n",
    "\n",
    "ax.set_ylabel(\"Assigned Score\")\n",
    "\n",
    "plt.show()"
   ]
  },
  {
   "cell_type": "code",
   "execution_count": null,
   "id": "43b216db",
   "metadata": {},
   "outputs": [],
   "source": []
  },
  {
   "cell_type": "code",
   "execution_count": null,
   "id": "7aa3f2c0",
   "metadata": {},
   "outputs": [],
   "source": []
  },
  {
   "cell_type": "code",
   "execution_count": null,
   "id": "67a86a18",
   "metadata": {},
   "outputs": [],
   "source": []
  }
 ],
 "metadata": {
  "kernelspec": {
   "display_name": "Python 3",
   "language": "python",
   "name": "python3"
  },
  "language_info": {
   "codemirror_mode": {
    "name": "ipython",
    "version": 3
   },
   "file_extension": ".py",
   "mimetype": "text/x-python",
   "name": "python",
   "nbconvert_exporter": "python",
   "pygments_lexer": "ipython3",
   "version": "3.8.10"
  },
  "widgets": {
   "application/vnd.jupyter.widget-state+json": {
    "state": {
     "0483c9bd91524e6fb070e9c2680e211c": {
      "model_module": "jupyter-matplotlib",
      "model_module_version": "^0.8.3",
      "model_name": "MPLCanvasModel",
      "state": {
       "_cursor": "default",
       "_figure_label": "Figure 3",
       "_height": 480,
       "_image_mode": "diff",
       "_message": "x=0.601 y=34.0",
       "_width": 640,
       "layout": "IPY_MODEL_7836e60976b84563b5eaeb93743ede48",
       "toolbar": "IPY_MODEL_70de1d79d47a406180359456deb3f9f4",
       "toolbar_position": "left"
      }
     },
     "07df87d79565415a9810dcf23775b757": {
      "model_module": "@jupyter-widgets/base",
      "model_module_version": "1.2.0",
      "model_name": "LayoutModel",
      "state": {}
     },
     "0b4db0c60620484e8b358f3e5246018a": {
      "model_module": "@jupyter-widgets/base",
      "model_module_version": "1.2.0",
      "model_name": "LayoutModel",
      "state": {}
     },
     "0ef68deb1cff4c56831826fd3311efb7": {
      "model_module": "jupyter-matplotlib",
      "model_module_version": "^0.8.3",
      "model_name": "MPLCanvasModel",
      "state": {
       "_cursor": "default",
       "_figure_label": "Figure 2",
       "_height": 480,
       "_image_mode": "diff",
       "_message": "x=250.8 y=212.",
       "_width": 640,
       "layout": "IPY_MODEL_9047af12825340c1b5f93fcb8a772d06",
       "toolbar": "IPY_MODEL_1120b1ac08504b2ca695bb492e2931c6",
       "toolbar_position": "left"
      }
     },
     "1120b1ac08504b2ca695bb492e2931c6": {
      "model_module": "jupyter-matplotlib",
      "model_module_version": "^0.8.3",
      "model_name": "ToolbarModel",
      "state": {
       "layout": "IPY_MODEL_0b4db0c60620484e8b358f3e5246018a",
       "toolitems": [
        [
         "Home",
         "Reset original view",
         "home",
         "home"
        ],
        [
         "Back",
         "Back to previous view",
         "arrow-left",
         "back"
        ],
        [
         "Forward",
         "Forward to next view",
         "arrow-right",
         "forward"
        ],
        [
         "Pan",
         "Left button pans, Right button zooms\nx/y fixes axis, CTRL fixes aspect",
         "arrows",
         "pan"
        ],
        [
         "Zoom",
         "Zoom to rectangle\nx/y fixes axis, CTRL fixes aspect",
         "square-o",
         "zoom"
        ],
        [
         "Download",
         "Download plot",
         "floppy-o",
         "save_figure"
        ]
       ]
      }
     },
     "1bbcf48ad7994e4bb45275d12b03fd37": {
      "model_module": "@jupyter-widgets/base",
      "model_module_version": "1.2.0",
      "model_name": "LayoutModel",
      "state": {}
     },
     "1c5b7844527440819f9cfec8f8fe30f9": {
      "model_module": "@jupyter-widgets/base",
      "model_module_version": "1.2.0",
      "model_name": "LayoutModel",
      "state": {}
     },
     "1cad9030d417426f81461aae809ab34d": {
      "model_module": "@jupyter-widgets/base",
      "model_module_version": "1.2.0",
      "model_name": "LayoutModel",
      "state": {}
     },
     "1d4cd78c655a4d5d978e71a578116d63": {
      "model_module": "jupyter-matplotlib",
      "model_module_version": "^0.8.3",
      "model_name": "ToolbarModel",
      "state": {
       "layout": "IPY_MODEL_c6a033ef4d6e4581914ef6b78d1b300d",
       "toolitems": [
        [
         "Home",
         "Reset original view",
         "home",
         "home"
        ],
        [
         "Back",
         "Back to previous view",
         "arrow-left",
         "back"
        ],
        [
         "Forward",
         "Forward to next view",
         "arrow-right",
         "forward"
        ],
        [
         "Pan",
         "Left button pans, Right button zooms\nx/y fixes axis, CTRL fixes aspect",
         "arrows",
         "pan"
        ],
        [
         "Zoom",
         "Zoom to rectangle\nx/y fixes axis, CTRL fixes aspect",
         "square-o",
         "zoom"
        ],
        [
         "Download",
         "Download plot",
         "floppy-o",
         "save_figure"
        ]
       ]
      }
     },
     "2249acf362cd45c5a461fc8089f30cd3": {
      "model_module": "@jupyter-widgets/base",
      "model_module_version": "1.2.0",
      "model_name": "LayoutModel",
      "state": {}
     },
     "23d6826816b2460d89d2a87d9bc2d350": {
      "model_module": "@jupyter-widgets/base",
      "model_module_version": "1.2.0",
      "model_name": "LayoutModel",
      "state": {}
     },
     "294fb1f5c9874ef68b09d92f53f448b8": {
      "model_module": "@jupyter-widgets/base",
      "model_module_version": "1.2.0",
      "model_name": "LayoutModel",
      "state": {}
     },
     "2fed29fcc12d4677b5cd8a05adc459f0": {
      "model_module": "jupyter-matplotlib",
      "model_module_version": "^0.8.3",
      "model_name": "ToolbarModel",
      "state": {
       "layout": "IPY_MODEL_7165914164994c75ac785a4f87eeed46",
       "toolitems": [
        [
         "Home",
         "Reset original view",
         "home",
         "home"
        ],
        [
         "Back",
         "Back to previous view",
         "arrow-left",
         "back"
        ],
        [
         "Forward",
         "Forward to next view",
         "arrow-right",
         "forward"
        ],
        [
         "Pan",
         "Left button pans, Right button zooms\nx/y fixes axis, CTRL fixes aspect",
         "arrows",
         "pan"
        ],
        [
         "Zoom",
         "Zoom to rectangle\nx/y fixes axis, CTRL fixes aspect",
         "square-o",
         "zoom"
        ],
        [
         "Download",
         "Download plot",
         "floppy-o",
         "save_figure"
        ]
       ]
      }
     },
     "350ced70753946418c433da4379ae615": {
      "model_module": "jupyter-matplotlib",
      "model_module_version": "^0.8.3",
      "model_name": "ToolbarModel",
      "state": {
       "layout": "IPY_MODEL_1bbcf48ad7994e4bb45275d12b03fd37",
       "toolitems": [
        [
         "Home",
         "Reset original view",
         "home",
         "home"
        ],
        [
         "Back",
         "Back to previous view",
         "arrow-left",
         "back"
        ],
        [
         "Forward",
         "Forward to next view",
         "arrow-right",
         "forward"
        ],
        [
         "Pan",
         "Left button pans, Right button zooms\nx/y fixes axis, CTRL fixes aspect",
         "arrows",
         "pan"
        ],
        [
         "Zoom",
         "Zoom to rectangle\nx/y fixes axis, CTRL fixes aspect",
         "square-o",
         "zoom"
        ],
        [
         "Download",
         "Download plot",
         "floppy-o",
         "save_figure"
        ]
       ]
      }
     },
     "3568b3008e9f40fcb7fdbb8cd1945a63": {
      "model_module": "@jupyter-widgets/base",
      "model_module_version": "1.2.0",
      "model_name": "LayoutModel",
      "state": {}
     },
     "3b10b7729ce74476858c952ee017961a": {
      "model_module": "jupyter-matplotlib",
      "model_module_version": "^0.8.3",
      "model_name": "ToolbarModel",
      "state": {
       "layout": "IPY_MODEL_a59396ceee3f4612b7b8edb1e9f03f0d",
       "toolitems": [
        [
         "Home",
         "Reset original view",
         "home",
         "home"
        ],
        [
         "Back",
         "Back to previous view",
         "arrow-left",
         "back"
        ],
        [
         "Forward",
         "Forward to next view",
         "arrow-right",
         "forward"
        ],
        [
         "Pan",
         "Left button pans, Right button zooms\nx/y fixes axis, CTRL fixes aspect",
         "arrows",
         "pan"
        ],
        [
         "Zoom",
         "Zoom to rectangle\nx/y fixes axis, CTRL fixes aspect",
         "square-o",
         "zoom"
        ],
        [
         "Download",
         "Download plot",
         "floppy-o",
         "save_figure"
        ]
       ]
      }
     },
     "3b39f9ecf5bc4a5e8df40640d179388c": {
      "model_module": "@jupyter-widgets/base",
      "model_module_version": "1.2.0",
      "model_name": "LayoutModel",
      "state": {}
     },
     "3cc93d2fa9204da5a1edd4fd4fd51a16": {
      "model_module": "jupyter-matplotlib",
      "model_module_version": "^0.8.3",
      "model_name": "MPLCanvasModel",
      "state": {
       "_cursor": "default",
       "_figure_label": "Figure 7",
       "_height": 400,
       "_width": 1500,
       "layout": "IPY_MODEL_3e6746022d0848479c9e437dbb2b421c",
       "toolbar": "IPY_MODEL_fcb203804ab74b1f8c33439e63f70625",
       "toolbar_position": "left"
      }
     },
     "3d996e6cd7fa450496c9661cfc489ec9": {
      "model_module": "@jupyter-widgets/base",
      "model_module_version": "1.2.0",
      "model_name": "LayoutModel",
      "state": {}
     },
     "3e6746022d0848479c9e437dbb2b421c": {
      "model_module": "@jupyter-widgets/base",
      "model_module_version": "1.2.0",
      "model_name": "LayoutModel",
      "state": {}
     },
     "43a10cb2a2894ad79878ae6c232bdafd": {
      "model_module": "jupyter-matplotlib",
      "model_module_version": "^0.8.3",
      "model_name": "ToolbarModel",
      "state": {
       "layout": "IPY_MODEL_cba23a7225474f359e7d63fd0d6958a5",
       "toolitems": [
        [
         "Home",
         "Reset original view",
         "home",
         "home"
        ],
        [
         "Back",
         "Back to previous view",
         "arrow-left",
         "back"
        ],
        [
         "Forward",
         "Forward to next view",
         "arrow-right",
         "forward"
        ],
        [
         "Pan",
         "Left button pans, Right button zooms\nx/y fixes axis, CTRL fixes aspect",
         "arrows",
         "pan"
        ],
        [
         "Zoom",
         "Zoom to rectangle\nx/y fixes axis, CTRL fixes aspect",
         "square-o",
         "zoom"
        ],
        [
         "Download",
         "Download plot",
         "floppy-o",
         "save_figure"
        ]
       ]
      }
     },
     "44ebc92f859540b28b5b3cdbe6346c26": {
      "model_module": "@jupyter-widgets/base",
      "model_module_version": "1.2.0",
      "model_name": "LayoutModel",
      "state": {}
     },
     "460a45cdbe8a48afb8be09ab5bd821ea": {
      "model_module": "@jupyter-widgets/base",
      "model_module_version": "1.2.0",
      "model_name": "LayoutModel",
      "state": {}
     },
     "470cbad0e2164095a3f9397e1deea179": {
      "model_module": "@jupyter-widgets/base",
      "model_module_version": "1.2.0",
      "model_name": "LayoutModel",
      "state": {}
     },
     "47f1db0d322147bc81c38ba345cc2240": {
      "model_module": "jupyter-matplotlib",
      "model_module_version": "^0.8.3",
      "model_name": "ToolbarModel",
      "state": {
       "layout": "IPY_MODEL_e2e85fc259a9421f9e79c87c042bf993",
       "toolitems": [
        [
         "Home",
         "Reset original view",
         "home",
         "home"
        ],
        [
         "Back",
         "Back to previous view",
         "arrow-left",
         "back"
        ],
        [
         "Forward",
         "Forward to next view",
         "arrow-right",
         "forward"
        ],
        [
         "Pan",
         "Left button pans, Right button zooms\nx/y fixes axis, CTRL fixes aspect",
         "arrows",
         "pan"
        ],
        [
         "Zoom",
         "Zoom to rectangle\nx/y fixes axis, CTRL fixes aspect",
         "square-o",
         "zoom"
        ],
        [
         "Download",
         "Download plot",
         "floppy-o",
         "save_figure"
        ]
       ]
      }
     },
     "4adb551b797c411fbfb93c6b1f293663": {
      "model_module": "@jupyter-widgets/base",
      "model_module_version": "1.2.0",
      "model_name": "LayoutModel",
      "state": {}
     },
     "5285fcb2049240238c0f9f3bf0b96146": {
      "model_module": "jupyter-matplotlib",
      "model_module_version": "^0.8.3",
      "model_name": "ToolbarModel",
      "state": {
       "layout": "IPY_MODEL_96f8d329e2d34bef9d562759a02f0c47",
       "toolitems": [
        [
         "Home",
         "Reset original view",
         "home",
         "home"
        ],
        [
         "Back",
         "Back to previous view",
         "arrow-left",
         "back"
        ],
        [
         "Forward",
         "Forward to next view",
         "arrow-right",
         "forward"
        ],
        [
         "Pan",
         "Left button pans, Right button zooms\nx/y fixes axis, CTRL fixes aspect",
         "arrows",
         "pan"
        ],
        [
         "Zoom",
         "Zoom to rectangle\nx/y fixes axis, CTRL fixes aspect",
         "square-o",
         "zoom"
        ],
        [
         "Download",
         "Download plot",
         "floppy-o",
         "save_figure"
        ]
       ]
      }
     },
     "54ff8c70d2a14340a6d6e9c070f79bba": {
      "model_module": "jupyter-matplotlib",
      "model_module_version": "^0.8.3",
      "model_name": "ToolbarModel",
      "state": {
       "layout": "IPY_MODEL_992b137a960a4104a9646440bcc96254",
       "toolitems": [
        [
         "Home",
         "Reset original view",
         "home",
         "home"
        ],
        [
         "Back",
         "Back to previous view",
         "arrow-left",
         "back"
        ],
        [
         "Forward",
         "Forward to next view",
         "arrow-right",
         "forward"
        ],
        [
         "Pan",
         "Left button pans, Right button zooms\nx/y fixes axis, CTRL fixes aspect",
         "arrows",
         "pan"
        ],
        [
         "Zoom",
         "Zoom to rectangle\nx/y fixes axis, CTRL fixes aspect",
         "square-o",
         "zoom"
        ],
        [
         "Download",
         "Download plot",
         "floppy-o",
         "save_figure"
        ]
       ]
      }
     },
     "595cfd2380744f4dab074b46b878bc7d": {
      "model_module": "@jupyter-widgets/base",
      "model_module_version": "1.2.0",
      "model_name": "LayoutModel",
      "state": {}
     },
     "5b4f902f39ce4218a1f9252ef6d2397d": {
      "model_module": "@jupyter-widgets/base",
      "model_module_version": "1.2.0",
      "model_name": "LayoutModel",
      "state": {}
     },
     "5ce8bfc45d704b2394cc54d8b92e7c6e": {
      "model_module": "jupyter-matplotlib",
      "model_module_version": "^0.8.3",
      "model_name": "MPLCanvasModel",
      "state": {
       "_cursor": "default",
       "_figure_label": "Figure 1",
       "_height": 480,
       "_image_mode": "diff",
       "_width": 640,
       "layout": "IPY_MODEL_f6700372c2cf40b9b9f77a84f6550fc3",
       "toolbar": "IPY_MODEL_54ff8c70d2a14340a6d6e9c070f79bba",
       "toolbar_position": "left"
      }
     },
     "5df6a985b38b4a93883bda5291888bc0": {
      "model_module": "@jupyter-widgets/base",
      "model_module_version": "1.2.0",
      "model_name": "LayoutModel",
      "state": {}
     },
     "6078f03ef01d40988a78de812ae4f431": {
      "model_module": "@jupyter-widgets/base",
      "model_module_version": "1.2.0",
      "model_name": "LayoutModel",
      "state": {}
     },
     "661f82f53fa14f40be7f17882fa73c23": {
      "model_module": "jupyter-matplotlib",
      "model_module_version": "^0.8.3",
      "model_name": "ToolbarModel",
      "state": {
       "layout": "IPY_MODEL_c4f660bddece489d991435ea45d128ac",
       "toolitems": [
        [
         "Home",
         "Reset original view",
         "home",
         "home"
        ],
        [
         "Back",
         "Back to previous view",
         "arrow-left",
         "back"
        ],
        [
         "Forward",
         "Forward to next view",
         "arrow-right",
         "forward"
        ],
        [
         "Pan",
         "Left button pans, Right button zooms\nx/y fixes axis, CTRL fixes aspect",
         "arrows",
         "pan"
        ],
        [
         "Zoom",
         "Zoom to rectangle\nx/y fixes axis, CTRL fixes aspect",
         "square-o",
         "zoom"
        ],
        [
         "Download",
         "Download plot",
         "floppy-o",
         "save_figure"
        ]
       ]
      }
     },
     "66f238fa90fa405e98abaf0423d1c4a1": {
      "model_module": "jupyter-matplotlib",
      "model_module_version": "^0.8.3",
      "model_name": "ToolbarModel",
      "state": {
       "layout": "IPY_MODEL_470cbad0e2164095a3f9397e1deea179",
       "toolitems": [
        [
         "Home",
         "Reset original view",
         "home",
         "home"
        ],
        [
         "Back",
         "Back to previous view",
         "arrow-left",
         "back"
        ],
        [
         "Forward",
         "Forward to next view",
         "arrow-right",
         "forward"
        ],
        [
         "Pan",
         "Left button pans, Right button zooms\nx/y fixes axis, CTRL fixes aspect",
         "arrows",
         "pan"
        ],
        [
         "Zoom",
         "Zoom to rectangle\nx/y fixes axis, CTRL fixes aspect",
         "square-o",
         "zoom"
        ],
        [
         "Download",
         "Download plot",
         "floppy-o",
         "save_figure"
        ]
       ]
      }
     },
     "687388340d2a44eea2838a8255e07d9f": {
      "model_module": "jupyter-matplotlib",
      "model_module_version": "^0.8.3",
      "model_name": "ToolbarModel",
      "state": {
       "layout": "IPY_MODEL_44ebc92f859540b28b5b3cdbe6346c26",
       "toolitems": [
        [
         "Home",
         "Reset original view",
         "home",
         "home"
        ],
        [
         "Back",
         "Back to previous view",
         "arrow-left",
         "back"
        ],
        [
         "Forward",
         "Forward to next view",
         "arrow-right",
         "forward"
        ],
        [
         "Pan",
         "Left button pans, Right button zooms\nx/y fixes axis, CTRL fixes aspect",
         "arrows",
         "pan"
        ],
        [
         "Zoom",
         "Zoom to rectangle\nx/y fixes axis, CTRL fixes aspect",
         "square-o",
         "zoom"
        ],
        [
         "Download",
         "Download plot",
         "floppy-o",
         "save_figure"
        ]
       ]
      }
     },
     "6a1a276de02c451aadfdd87a6d049745": {
      "model_module": "jupyter-matplotlib",
      "model_module_version": "^0.8.3",
      "model_name": "ToolbarModel",
      "state": {
       "layout": "IPY_MODEL_7a7b571779eb4c22b017aa4924a1a331",
       "toolitems": [
        [
         "Home",
         "Reset original view",
         "home",
         "home"
        ],
        [
         "Back",
         "Back to previous view",
         "arrow-left",
         "back"
        ],
        [
         "Forward",
         "Forward to next view",
         "arrow-right",
         "forward"
        ],
        [
         "Pan",
         "Left button pans, Right button zooms\nx/y fixes axis, CTRL fixes aspect",
         "arrows",
         "pan"
        ],
        [
         "Zoom",
         "Zoom to rectangle\nx/y fixes axis, CTRL fixes aspect",
         "square-o",
         "zoom"
        ],
        [
         "Download",
         "Download plot",
         "floppy-o",
         "save_figure"
        ]
       ]
      }
     },
     "6e0bc44cb8cf4ad086441f889d485eef": {
      "model_module": "@jupyter-widgets/base",
      "model_module_version": "1.2.0",
      "model_name": "LayoutModel",
      "state": {}
     },
     "6e36df5201c94a2b870bbecd86500a45": {
      "model_module": "jupyter-matplotlib",
      "model_module_version": "^0.8.3",
      "model_name": "ToolbarModel",
      "state": {
       "layout": "IPY_MODEL_07df87d79565415a9810dcf23775b757",
       "toolitems": [
        [
         "Home",
         "Reset original view",
         "home",
         "home"
        ],
        [
         "Back",
         "Back to previous view",
         "arrow-left",
         "back"
        ],
        [
         "Forward",
         "Forward to next view",
         "arrow-right",
         "forward"
        ],
        [
         "Pan",
         "Left button pans, Right button zooms\nx/y fixes axis, CTRL fixes aspect",
         "arrows",
         "pan"
        ],
        [
         "Zoom",
         "Zoom to rectangle\nx/y fixes axis, CTRL fixes aspect",
         "square-o",
         "zoom"
        ],
        [
         "Download",
         "Download plot",
         "floppy-o",
         "save_figure"
        ]
       ]
      }
     },
     "70de1d79d47a406180359456deb3f9f4": {
      "model_module": "jupyter-matplotlib",
      "model_module_version": "^0.8.3",
      "model_name": "ToolbarModel",
      "state": {
       "layout": "IPY_MODEL_e0bccd28a318492eab9507f0412b9d9f",
       "toolitems": [
        [
         "Home",
         "Reset original view",
         "home",
         "home"
        ],
        [
         "Back",
         "Back to previous view",
         "arrow-left",
         "back"
        ],
        [
         "Forward",
         "Forward to next view",
         "arrow-right",
         "forward"
        ],
        [
         "Pan",
         "Left button pans, Right button zooms\nx/y fixes axis, CTRL fixes aspect",
         "arrows",
         "pan"
        ],
        [
         "Zoom",
         "Zoom to rectangle\nx/y fixes axis, CTRL fixes aspect",
         "square-o",
         "zoom"
        ],
        [
         "Download",
         "Download plot",
         "floppy-o",
         "save_figure"
        ]
       ]
      }
     },
     "710aad382f5946c89251520bb0021975": {
      "model_module": "jupyter-matplotlib",
      "model_module_version": "^0.8.3",
      "model_name": "MPLCanvasModel",
      "state": {
       "_cursor": "default",
       "_figure_label": "Figure 4",
       "_height": 480,
       "_image_mode": "diff",
       "_message": "x=295. y=0.553",
       "_width": 640,
       "layout": "IPY_MODEL_595cfd2380744f4dab074b46b878bc7d",
       "toolbar": "IPY_MODEL_661f82f53fa14f40be7f17882fa73c23",
       "toolbar_position": "left"
      }
     },
     "7165914164994c75ac785a4f87eeed46": {
      "model_module": "@jupyter-widgets/base",
      "model_module_version": "1.2.0",
      "model_name": "LayoutModel",
      "state": {}
     },
     "7836e60976b84563b5eaeb93743ede48": {
      "model_module": "@jupyter-widgets/base",
      "model_module_version": "1.2.0",
      "model_name": "LayoutModel",
      "state": {}
     },
     "7875927d3e944400b41c929c36f15df6": {
      "model_module": "jupyter-matplotlib",
      "model_module_version": "^0.8.3",
      "model_name": "ToolbarModel",
      "state": {
       "layout": "IPY_MODEL_b3b6f006120842fdbcb2280e3a7cd17c",
       "toolitems": [
        [
         "Home",
         "Reset original view",
         "home",
         "home"
        ],
        [
         "Back",
         "Back to previous view",
         "arrow-left",
         "back"
        ],
        [
         "Forward",
         "Forward to next view",
         "arrow-right",
         "forward"
        ],
        [
         "Pan",
         "Left button pans, Right button zooms\nx/y fixes axis, CTRL fixes aspect",
         "arrows",
         "pan"
        ],
        [
         "Zoom",
         "Zoom to rectangle\nx/y fixes axis, CTRL fixes aspect",
         "square-o",
         "zoom"
        ],
        [
         "Download",
         "Download plot",
         "floppy-o",
         "save_figure"
        ]
       ]
      }
     },
     "78bad9c6223e4f73b2de02ece197294c": {
      "model_module": "@jupyter-widgets/base",
      "model_module_version": "1.2.0",
      "model_name": "LayoutModel",
      "state": {}
     },
     "79dfe3bea64246bea99f532ea0ddeab4": {
      "model_module": "@jupyter-widgets/base",
      "model_module_version": "1.2.0",
      "model_name": "LayoutModel",
      "state": {}
     },
     "7a7b571779eb4c22b017aa4924a1a331": {
      "model_module": "@jupyter-widgets/base",
      "model_module_version": "1.2.0",
      "model_name": "LayoutModel",
      "state": {}
     },
     "845d6b19ab854ce6ae0ce2a760ec72d7": {
      "model_module": "jupyter-matplotlib",
      "model_module_version": "^0.8.3",
      "model_name": "ToolbarModel",
      "state": {
       "layout": "IPY_MODEL_fbb4a3dfc7e14bd8996fcdcb907261d3",
       "toolitems": [
        [
         "Home",
         "Reset original view",
         "home",
         "home"
        ],
        [
         "Back",
         "Back to previous view",
         "arrow-left",
         "back"
        ],
        [
         "Forward",
         "Forward to next view",
         "arrow-right",
         "forward"
        ],
        [
         "Pan",
         "Left button pans, Right button zooms\nx/y fixes axis, CTRL fixes aspect",
         "arrows",
         "pan"
        ],
        [
         "Zoom",
         "Zoom to rectangle\nx/y fixes axis, CTRL fixes aspect",
         "square-o",
         "zoom"
        ],
        [
         "Download",
         "Download plot",
         "floppy-o",
         "save_figure"
        ]
       ]
      }
     },
     "86787e27e3334f608eff2b430bf7a448": {
      "model_module": "jupyter-matplotlib",
      "model_module_version": "^0.8.3",
      "model_name": "ToolbarModel",
      "state": {
       "layout": "IPY_MODEL_99fe12d4531a4ec6a66cf9ce2fc8bd50",
       "toolitems": [
        [
         "Home",
         "Reset original view",
         "home",
         "home"
        ],
        [
         "Back",
         "Back to previous view",
         "arrow-left",
         "back"
        ],
        [
         "Forward",
         "Forward to next view",
         "arrow-right",
         "forward"
        ],
        [
         "Pan",
         "Left button pans, Right button zooms\nx/y fixes axis, CTRL fixes aspect",
         "arrows",
         "pan"
        ],
        [
         "Zoom",
         "Zoom to rectangle\nx/y fixes axis, CTRL fixes aspect",
         "square-o",
         "zoom"
        ],
        [
         "Download",
         "Download plot",
         "floppy-o",
         "save_figure"
        ]
       ]
      }
     },
     "875f6b2a262c4d4088ce41e7a331ffd2": {
      "model_module": "@jupyter-widgets/base",
      "model_module_version": "1.2.0",
      "model_name": "LayoutModel",
      "state": {}
     },
     "8fc1bcae02de4aa5816d17b05bb10c84": {
      "model_module": "jupyter-matplotlib",
      "model_module_version": "^0.8.3",
      "model_name": "ToolbarModel",
      "state": {
       "layout": "IPY_MODEL_2249acf362cd45c5a461fc8089f30cd3",
       "toolitems": [
        [
         "Home",
         "Reset original view",
         "home",
         "home"
        ],
        [
         "Back",
         "Back to previous view",
         "arrow-left",
         "back"
        ],
        [
         "Forward",
         "Forward to next view",
         "arrow-right",
         "forward"
        ],
        [
         "Pan",
         "Left button pans, Right button zooms\nx/y fixes axis, CTRL fixes aspect",
         "arrows",
         "pan"
        ],
        [
         "Zoom",
         "Zoom to rectangle\nx/y fixes axis, CTRL fixes aspect",
         "square-o",
         "zoom"
        ],
        [
         "Download",
         "Download plot",
         "floppy-o",
         "save_figure"
        ]
       ]
      }
     },
     "9047af12825340c1b5f93fcb8a772d06": {
      "model_module": "@jupyter-widgets/base",
      "model_module_version": "1.2.0",
      "model_name": "LayoutModel",
      "state": {}
     },
     "929bcfc7e7a74c47bd425df0429493f7": {
      "model_module": "@jupyter-widgets/base",
      "model_module_version": "1.2.0",
      "model_name": "LayoutModel",
      "state": {}
     },
     "934aa461374243c18e943781b7b239ee": {
      "model_module": "@jupyter-widgets/base",
      "model_module_version": "1.2.0",
      "model_name": "LayoutModel",
      "state": {}
     },
     "96f8d329e2d34bef9d562759a02f0c47": {
      "model_module": "@jupyter-widgets/base",
      "model_module_version": "1.2.0",
      "model_name": "LayoutModel",
      "state": {}
     },
     "992b137a960a4104a9646440bcc96254": {
      "model_module": "@jupyter-widgets/base",
      "model_module_version": "1.2.0",
      "model_name": "LayoutModel",
      "state": {}
     },
     "99fe12d4531a4ec6a66cf9ce2fc8bd50": {
      "model_module": "@jupyter-widgets/base",
      "model_module_version": "1.2.0",
      "model_name": "LayoutModel",
      "state": {}
     },
     "9cd5575289224969b446ea541915cd0e": {
      "model_module": "jupyter-matplotlib",
      "model_module_version": "^0.8.3",
      "model_name": "MPLCanvasModel",
      "state": {
       "_cursor": "default",
       "_figure_label": "Figure 5",
       "_height": 480,
       "_width": 640,
       "layout": "IPY_MODEL_e49eb08d02d0427f822ab88dc6ac514e",
       "toolbar": "IPY_MODEL_e7bc061e55744dbda28955f0c8777845",
       "toolbar_position": "left"
      }
     },
     "a37521f248fc4c8ca0e99b6784afee66": {
      "model_module": "jupyter-matplotlib",
      "model_module_version": "^0.8.3",
      "model_name": "ToolbarModel",
      "state": {
       "layout": "IPY_MODEL_5df6a985b38b4a93883bda5291888bc0",
       "toolitems": [
        [
         "Home",
         "Reset original view",
         "home",
         "home"
        ],
        [
         "Back",
         "Back to previous view",
         "arrow-left",
         "back"
        ],
        [
         "Forward",
         "Forward to next view",
         "arrow-right",
         "forward"
        ],
        [
         "Pan",
         "Left button pans, Right button zooms\nx/y fixes axis, CTRL fixes aspect",
         "arrows",
         "pan"
        ],
        [
         "Zoom",
         "Zoom to rectangle\nx/y fixes axis, CTRL fixes aspect",
         "square-o",
         "zoom"
        ],
        [
         "Download",
         "Download plot",
         "floppy-o",
         "save_figure"
        ]
       ]
      }
     },
     "a59396ceee3f4612b7b8edb1e9f03f0d": {
      "model_module": "@jupyter-widgets/base",
      "model_module_version": "1.2.0",
      "model_name": "LayoutModel",
      "state": {}
     },
     "a70e6be673ca437a8060fbdc8140aba3": {
      "model_module": "jupyter-matplotlib",
      "model_module_version": "^0.8.3",
      "model_name": "ToolbarModel",
      "state": {
       "layout": "IPY_MODEL_b278b8e9ff0248568ae44694b96991a3",
       "toolitems": [
        [
         "Home",
         "Reset original view",
         "home",
         "home"
        ],
        [
         "Back",
         "Back to previous view",
         "arrow-left",
         "back"
        ],
        [
         "Forward",
         "Forward to next view",
         "arrow-right",
         "forward"
        ],
        [
         "Pan",
         "Left button pans, Right button zooms\nx/y fixes axis, CTRL fixes aspect",
         "arrows",
         "pan"
        ],
        [
         "Zoom",
         "Zoom to rectangle\nx/y fixes axis, CTRL fixes aspect",
         "square-o",
         "zoom"
        ],
        [
         "Download",
         "Download plot",
         "floppy-o",
         "save_figure"
        ]
       ]
      }
     },
     "a7a2639b999d4cf5b162636b1e1d78c9": {
      "model_module": "@jupyter-widgets/base",
      "model_module_version": "1.2.0",
      "model_name": "LayoutModel",
      "state": {}
     },
     "aa73d07971f34eaebf78e37c379e5b84": {
      "model_module": "jupyter-matplotlib",
      "model_module_version": "^0.8.3",
      "model_name": "MPLCanvasModel",
      "state": {
       "_cursor": "default",
       "_figure_label": "Figure 6",
       "_height": 480,
       "_width": 640,
       "layout": "IPY_MODEL_23d6826816b2460d89d2a87d9bc2d350",
       "toolbar": "IPY_MODEL_845d6b19ab854ce6ae0ce2a760ec72d7",
       "toolbar_position": "left"
      }
     },
     "af3e015a320b419c9b0c7d7f7246231c": {
      "model_module": "@jupyter-widgets/base",
      "model_module_version": "1.2.0",
      "model_name": "LayoutModel",
      "state": {}
     },
     "b278b8e9ff0248568ae44694b96991a3": {
      "model_module": "@jupyter-widgets/base",
      "model_module_version": "1.2.0",
      "model_name": "LayoutModel",
      "state": {}
     },
     "b3b472f6818b4c3dbdef4e32a7158ecb": {
      "model_module": "@jupyter-widgets/base",
      "model_module_version": "1.2.0",
      "model_name": "LayoutModel",
      "state": {}
     },
     "b3b6f006120842fdbcb2280e3a7cd17c": {
      "model_module": "@jupyter-widgets/base",
      "model_module_version": "1.2.0",
      "model_name": "LayoutModel",
      "state": {}
     },
     "b524c0bd38f44801b76d525e092e05ea": {
      "model_module": "@jupyter-widgets/base",
      "model_module_version": "1.2.0",
      "model_name": "LayoutModel",
      "state": {}
     },
     "b716149f226e40c0ad7f4e8e031d2e22": {
      "model_module": "@jupyter-widgets/base",
      "model_module_version": "1.2.0",
      "model_name": "LayoutModel",
      "state": {}
     },
     "b842d90153c94fac8b2d0ee59a9624ad": {
      "model_module": "@jupyter-widgets/base",
      "model_module_version": "1.2.0",
      "model_name": "LayoutModel",
      "state": {}
     },
     "ba095044c32f415c8a2a17bc9d8485f2": {
      "model_module": "@jupyter-widgets/base",
      "model_module_version": "1.2.0",
      "model_name": "LayoutModel",
      "state": {}
     },
     "be0d59c3d6834fdb9e12d8debae9d45f": {
      "model_module": "@jupyter-widgets/base",
      "model_module_version": "1.2.0",
      "model_name": "LayoutModel",
      "state": {}
     },
     "bf111ca9f3f14d2ba560a5568f9f282f": {
      "model_module": "jupyter-matplotlib",
      "model_module_version": "^0.8.3",
      "model_name": "ToolbarModel",
      "state": {
       "layout": "IPY_MODEL_dcdc2e38edd247a1b7a7c891830c1692",
       "toolitems": [
        [
         "Home",
         "Reset original view",
         "home",
         "home"
        ],
        [
         "Back",
         "Back to previous view",
         "arrow-left",
         "back"
        ],
        [
         "Forward",
         "Forward to next view",
         "arrow-right",
         "forward"
        ],
        [
         "Pan",
         "Left button pans, Right button zooms\nx/y fixes axis, CTRL fixes aspect",
         "arrows",
         "pan"
        ],
        [
         "Zoom",
         "Zoom to rectangle\nx/y fixes axis, CTRL fixes aspect",
         "square-o",
         "zoom"
        ],
        [
         "Download",
         "Download plot",
         "floppy-o",
         "save_figure"
        ]
       ]
      }
     },
     "c0f004c2d6b9403792033e2f75f9b573": {
      "model_module": "jupyter-matplotlib",
      "model_module_version": "^0.8.3",
      "model_name": "ToolbarModel",
      "state": {
       "layout": "IPY_MODEL_1c5b7844527440819f9cfec8f8fe30f9",
       "toolitems": [
        [
         "Home",
         "Reset original view",
         "home",
         "home"
        ],
        [
         "Back",
         "Back to previous view",
         "arrow-left",
         "back"
        ],
        [
         "Forward",
         "Forward to next view",
         "arrow-right",
         "forward"
        ],
        [
         "Pan",
         "Left button pans, Right button zooms\nx/y fixes axis, CTRL fixes aspect",
         "arrows",
         "pan"
        ],
        [
         "Zoom",
         "Zoom to rectangle\nx/y fixes axis, CTRL fixes aspect",
         "square-o",
         "zoom"
        ],
        [
         "Download",
         "Download plot",
         "floppy-o",
         "save_figure"
        ]
       ]
      }
     },
     "c4f660bddece489d991435ea45d128ac": {
      "model_module": "@jupyter-widgets/base",
      "model_module_version": "1.2.0",
      "model_name": "LayoutModel",
      "state": {}
     },
     "c6a033ef4d6e4581914ef6b78d1b300d": {
      "model_module": "@jupyter-widgets/base",
      "model_module_version": "1.2.0",
      "model_name": "LayoutModel",
      "state": {}
     },
     "c9075794394a4bb4ae888d38c8e796a8": {
      "model_module": "@jupyter-widgets/base",
      "model_module_version": "1.2.0",
      "model_name": "LayoutModel",
      "state": {}
     },
     "caaa77e2249b49bbbe8f1396fce428f0": {
      "model_module": "jupyter-matplotlib",
      "model_module_version": "^0.8.3",
      "model_name": "ToolbarModel",
      "state": {
       "layout": "IPY_MODEL_b524c0bd38f44801b76d525e092e05ea",
       "toolitems": [
        [
         "Home",
         "Reset original view",
         "home",
         "home"
        ],
        [
         "Back",
         "Back to previous view",
         "arrow-left",
         "back"
        ],
        [
         "Forward",
         "Forward to next view",
         "arrow-right",
         "forward"
        ],
        [
         "Pan",
         "Left button pans, Right button zooms\nx/y fixes axis, CTRL fixes aspect",
         "arrows",
         "pan"
        ],
        [
         "Zoom",
         "Zoom to rectangle\nx/y fixes axis, CTRL fixes aspect",
         "square-o",
         "zoom"
        ],
        [
         "Download",
         "Download plot",
         "floppy-o",
         "save_figure"
        ]
       ]
      }
     },
     "cba23a7225474f359e7d63fd0d6958a5": {
      "model_module": "@jupyter-widgets/base",
      "model_module_version": "1.2.0",
      "model_name": "LayoutModel",
      "state": {}
     },
     "cd6ad4ac0f9541589bf32a942c195abc": {
      "model_module": "jupyter-matplotlib",
      "model_module_version": "^0.8.3",
      "model_name": "ToolbarModel",
      "state": {
       "layout": "IPY_MODEL_294fb1f5c9874ef68b09d92f53f448b8",
       "toolitems": [
        [
         "Home",
         "Reset original view",
         "home",
         "home"
        ],
        [
         "Back",
         "Back to previous view",
         "arrow-left",
         "back"
        ],
        [
         "Forward",
         "Forward to next view",
         "arrow-right",
         "forward"
        ],
        [
         "Pan",
         "Left button pans, Right button zooms\nx/y fixes axis, CTRL fixes aspect",
         "arrows",
         "pan"
        ],
        [
         "Zoom",
         "Zoom to rectangle\nx/y fixes axis, CTRL fixes aspect",
         "square-o",
         "zoom"
        ],
        [
         "Download",
         "Download plot",
         "floppy-o",
         "save_figure"
        ]
       ]
      }
     },
     "cd74fbe3052b4ae9a06b41025175c3af": {
      "model_module": "jupyter-matplotlib",
      "model_module_version": "^0.8.3",
      "model_name": "ToolbarModel",
      "state": {
       "layout": "IPY_MODEL_b3b472f6818b4c3dbdef4e32a7158ecb",
       "toolitems": [
        [
         "Home",
         "Reset original view",
         "home",
         "home"
        ],
        [
         "Back",
         "Back to previous view",
         "arrow-left",
         "back"
        ],
        [
         "Forward",
         "Forward to next view",
         "arrow-right",
         "forward"
        ],
        [
         "Pan",
         "Left button pans, Right button zooms\nx/y fixes axis, CTRL fixes aspect",
         "arrows",
         "pan"
        ],
        [
         "Zoom",
         "Zoom to rectangle\nx/y fixes axis, CTRL fixes aspect",
         "square-o",
         "zoom"
        ],
        [
         "Download",
         "Download plot",
         "floppy-o",
         "save_figure"
        ]
       ]
      }
     },
     "d62d83355f394691865e13c0c0795e6b": {
      "model_module": "@jupyter-widgets/base",
      "model_module_version": "1.2.0",
      "model_name": "LayoutModel",
      "state": {}
     },
     "dcdc2e38edd247a1b7a7c891830c1692": {
      "model_module": "@jupyter-widgets/base",
      "model_module_version": "1.2.0",
      "model_name": "LayoutModel",
      "state": {}
     },
     "df2e245733a047fab429b3eb235d95f6": {
      "model_module": "@jupyter-widgets/base",
      "model_module_version": "1.2.0",
      "model_name": "LayoutModel",
      "state": {}
     },
     "e0645c50fc614bca9802ff5fc9bd7520": {
      "model_module": "jupyter-matplotlib",
      "model_module_version": "^0.8.3",
      "model_name": "ToolbarModel",
      "state": {
       "layout": "IPY_MODEL_79dfe3bea64246bea99f532ea0ddeab4",
       "toolitems": [
        [
         "Home",
         "Reset original view",
         "home",
         "home"
        ],
        [
         "Back",
         "Back to previous view",
         "arrow-left",
         "back"
        ],
        [
         "Forward",
         "Forward to next view",
         "arrow-right",
         "forward"
        ],
        [
         "Pan",
         "Left button pans, Right button zooms\nx/y fixes axis, CTRL fixes aspect",
         "arrows",
         "pan"
        ],
        [
         "Zoom",
         "Zoom to rectangle\nx/y fixes axis, CTRL fixes aspect",
         "square-o",
         "zoom"
        ],
        [
         "Download",
         "Download plot",
         "floppy-o",
         "save_figure"
        ]
       ]
      }
     },
     "e0bccd28a318492eab9507f0412b9d9f": {
      "model_module": "@jupyter-widgets/base",
      "model_module_version": "1.2.0",
      "model_name": "LayoutModel",
      "state": {}
     },
     "e2e85fc259a9421f9e79c87c042bf993": {
      "model_module": "@jupyter-widgets/base",
      "model_module_version": "1.2.0",
      "model_name": "LayoutModel",
      "state": {}
     },
     "e49eb08d02d0427f822ab88dc6ac514e": {
      "model_module": "@jupyter-widgets/base",
      "model_module_version": "1.2.0",
      "model_name": "LayoutModel",
      "state": {}
     },
     "e7bc061e55744dbda28955f0c8777845": {
      "model_module": "jupyter-matplotlib",
      "model_module_version": "^0.8.3",
      "model_name": "ToolbarModel",
      "state": {
       "layout": "IPY_MODEL_3b39f9ecf5bc4a5e8df40640d179388c",
       "toolitems": [
        [
         "Home",
         "Reset original view",
         "home",
         "home"
        ],
        [
         "Back",
         "Back to previous view",
         "arrow-left",
         "back"
        ],
        [
         "Forward",
         "Forward to next view",
         "arrow-right",
         "forward"
        ],
        [
         "Pan",
         "Left button pans, Right button zooms\nx/y fixes axis, CTRL fixes aspect",
         "arrows",
         "pan"
        ],
        [
         "Zoom",
         "Zoom to rectangle\nx/y fixes axis, CTRL fixes aspect",
         "square-o",
         "zoom"
        ],
        [
         "Download",
         "Download plot",
         "floppy-o",
         "save_figure"
        ]
       ]
      }
     },
     "eee9267df6c54730a00bff73b4f7e15e": {
      "model_module": "@jupyter-widgets/base",
      "model_module_version": "1.2.0",
      "model_name": "LayoutModel",
      "state": {}
     },
     "f6700372c2cf40b9b9f77a84f6550fc3": {
      "model_module": "@jupyter-widgets/base",
      "model_module_version": "1.2.0",
      "model_name": "LayoutModel",
      "state": {}
     },
     "fbb4a3dfc7e14bd8996fcdcb907261d3": {
      "model_module": "@jupyter-widgets/base",
      "model_module_version": "1.2.0",
      "model_name": "LayoutModel",
      "state": {}
     },
     "fcb203804ab74b1f8c33439e63f70625": {
      "model_module": "jupyter-matplotlib",
      "model_module_version": "^0.8.3",
      "model_name": "ToolbarModel",
      "state": {
       "layout": "IPY_MODEL_3d996e6cd7fa450496c9661cfc489ec9",
       "toolitems": [
        [
         "Home",
         "Reset original view",
         "home",
         "home"
        ],
        [
         "Back",
         "Back to previous view",
         "arrow-left",
         "back"
        ],
        [
         "Forward",
         "Forward to next view",
         "arrow-right",
         "forward"
        ],
        [
         "Pan",
         "Left button pans, Right button zooms\nx/y fixes axis, CTRL fixes aspect",
         "arrows",
         "pan"
        ],
        [
         "Zoom",
         "Zoom to rectangle\nx/y fixes axis, CTRL fixes aspect",
         "square-o",
         "zoom"
        ],
        [
         "Download",
         "Download plot",
         "floppy-o",
         "save_figure"
        ]
       ]
      }
     },
     "fd8edbd9d34c4d0ab792931e4ab5fdc5": {
      "model_module": "@jupyter-widgets/base",
      "model_module_version": "1.2.0",
      "model_name": "LayoutModel",
      "state": {}
     }
    },
    "version_major": 2,
    "version_minor": 0
   }
  }
 },
 "nbformat": 4,
 "nbformat_minor": 5
}
