{
 "cells": [
  {
   "cell_type": "markdown",
   "id": "1063e8eb",
   "metadata": {},
   "source": [
    "### Import libraries"
   ]
  },
  {
   "cell_type": "code",
   "execution_count": 1,
   "id": "6d2a20a8",
   "metadata": {},
   "outputs": [
    {
     "name": "stdout",
     "output_type": "stream",
     "text": [
      "Starting\n"
     ]
    }
   ],
   "source": [
    "print(\"Starting\")"
   ]
  },
  {
   "cell_type": "code",
   "execution_count": 2,
   "id": "39a8f274",
   "metadata": {},
   "outputs": [],
   "source": [
    "import awkward as ak\n",
    "from consistent_plots import hist, hist2d\n",
    "import matplotlib as mpl\n",
    "mpl.rcParams['font.size'] = 14\n",
    "import matplotlib.pyplot as plt\n",
    "%matplotlib widget\n",
    "import numpy as np\n",
    "from trsm import TRSM, combos\n",
    "import vector"
   ]
  },
  {
   "cell_type": "code",
   "execution_count": 3,
   "id": "a05ae1ee",
   "metadata": {
    "tags": []
   },
   "outputs": [],
   "source": [
    "# mpl.rcParams.keys()"
   ]
  },
  {
   "cell_type": "code",
   "execution_count": 4,
   "id": "3e5de011",
   "metadata": {},
   "outputs": [],
   "source": [
    "def norm_hist(arr, bins=100):\n",
    "    n, b = np.histogram(arr, bins=bins)\n",
    "    x = (b[:-1] + b[1:]) / 2\n",
    "    \n",
    "    return n/n.max(), b, x"
   ]
  },
  {
   "cell_type": "markdown",
   "id": "72a52194",
   "metadata": {},
   "source": [
    "### Load model"
   ]
  },
  {
   "cell_type": "code",
   "execution_count": 5,
   "id": "ff451a71",
   "metadata": {},
   "outputs": [],
   "source": [
    "from keras.models import model_from_json"
   ]
  },
  {
   "cell_type": "code",
   "execution_count": 6,
   "id": "9163ea13",
   "metadata": {},
   "outputs": [],
   "source": [
    "from pickle import load"
   ]
  },
  {
   "cell_type": "code",
   "execution_count": 7,
   "id": "902a615e",
   "metadata": {},
   "outputs": [],
   "source": [
    "tag = 'lr_0pt0001_beta1_0pt1_beta2_0pt5'"
   ]
  },
  {
   "cell_type": "code",
   "execution_count": 9,
   "id": "9c650ad4",
   "metadata": {},
   "outputs": [],
   "source": [
    "json_file = open(f'../6jet_classifier/models/{tag}/model/model_1.json', 'r')\n",
    "loaded_model_json = json_file.read()\n",
    "json_file.close()\n",
    "loaded_model = model_from_json(loaded_model_json)\n",
    "loaded_model.load_weights(f'../6jet_classifier/models/{tag}/model/model_1.h5')"
   ]
  },
  {
   "cell_type": "code",
   "execution_count": 10,
   "id": "bafe8a8f",
   "metadata": {},
   "outputs": [],
   "source": [
    "scaler = load(open(f'../6jet_classifier/models/{tag}/model/scaler_1.pkl', 'rb'))"
   ]
  },
  {
   "cell_type": "markdown",
   "id": "70da5685",
   "metadata": {},
   "source": [
    "### Open ROOT file"
   ]
  },
  {
   "cell_type": "code",
   "execution_count": 11,
   "id": "24ab244f",
   "metadata": {},
   "outputs": [
    {
     "name": "stdout",
     "output_type": "stream",
     "text": [
      "-- [INFO] -- \u001b[0;38;5;229m/eos/user/s/srosenzw/miniconda3/envs/work/lib/python3.8/runpy.py\u001b[0;38;5;255m -- Opening ROOT file ../signal/skimmed/NMSSM_XYH_YToHH_6b_MX_700_MY_400_testing_set_skimmed.root with columns\n",
      "-- [INFO] -- \u001b[0;38;5;229m/eos/user/s/srosenzw/miniconda3/envs/work/lib/python3.8/runpy.py\u001b[0;38;5;255m -- Tree contains 52891 events.\n",
      "----------------------------------------------------------------------------------------------------\n",
      "                                            TABLE COLUMNS                                           \n",
      "----------------------------------------------------------------------------------------------------\n",
      "jet_pt                            jet_eta                           jet_phi                           \n",
      "jet_m                             jet_btag                          jet_qgl                           \n",
      "jet_idx                           jet_hadronFlav                    jet_partonFlav                    \n",
      "HX_b1_recojet_m                   HX_b1_recojet_pt                  HX_b1_recojet_eta                 \n",
      "HX_b1_recojet_phi                 HX_b1_recojet_ptRegressed         HX_b2_recojet_m                   \n",
      "HX_b2_recojet_pt                  HX_b2_recojet_eta                 HX_b2_recojet_phi                 \n",
      "HX_b2_recojet_ptRegressed         HY1_b1_recojet_m                  HY1_b1_recojet_pt                 \n",
      "HY1_b1_recojet_eta                HY1_b1_recojet_phi                HY1_b1_recojet_ptRegressed        \n",
      "HY1_b2_recojet_m                  HY1_b2_recojet_pt                 HY1_b2_recojet_eta                \n",
      "HY1_b2_recojet_phi                HY1_b2_recojet_ptRegressed        HY2_b1_recojet_m                  \n",
      "HY2_b1_recojet_pt                 HY2_b1_recojet_eta                HY2_b1_recojet_phi                \n",
      "HY2_b1_recojet_ptRegressed        HY2_b2_recojet_m                  HY2_b2_recojet_pt                 \n",
      "HY2_b2_recojet_eta                HY2_b2_recojet_phi                HY2_b2_recojet_ptRegressed        \n",
      "----------------------------------------------------------------------------------------------------\n"
     ]
    }
   ],
   "source": [
    "filename = f'../signal/skimmed/NMSSM_XYH_YToHH_6b_MX_700_MY_400_testing_set_skimmed.root'\n",
    "trsm = TRSM(filename=filename)"
   ]
  },
  {
   "cell_type": "markdown",
   "id": "a337c614",
   "metadata": {},
   "source": [
    "### Load combinations of 7 total jets"
   ]
  },
  {
   "cell_type": "code",
   "execution_count": 12,
   "id": "576dccf0",
   "metadata": {},
   "outputs": [
    {
     "name": "stderr",
     "output_type": "stream",
     "text": [
      "100%|██████████| 52891/52891 [00:26<00:00, 2008.71it/s]\n"
     ]
    },
    {
     "name": "stdout",
     "output_type": "stream",
     "text": [
      "Total events chosen: 8052\n"
     ]
    }
   ],
   "source": [
    "combos7 = combos(trsm, 7)"
   ]
  },
  {
   "cell_type": "code",
   "execution_count": 13,
   "id": "0bf8f94f",
   "metadata": {},
   "outputs": [
    {
     "data": {
      "text/plain": [
       "(56364,)"
      ]
     },
     "execution_count": 13,
     "metadata": {},
     "output_type": "execute_result"
    }
   ],
   "source": [
    "test_features_7 = scaler.transform(combos7.combo_features)\n",
    "scores_7 = loaded_model.predict(test_features_7)[:,0]\n",
    "scores_7.shape"
   ]
  },
  {
   "cell_type": "code",
   "execution_count": 27,
   "id": "81860583",
   "metadata": {},
   "outputs": [],
   "source": [
    "sgnl_scores_7 = scores_7[combos7.sgnl_mask]\n",
    "bkgd_scores_7 = scores_7[~combos7.sgnl_mask]"
   ]
  },
  {
   "cell_type": "code",
   "execution_count": 48,
   "id": "f5e0e201",
   "metadata": {},
   "outputs": [],
   "source": [
    "import awkward as ak"
   ]
  },
  {
   "cell_type": "code",
   "execution_count": 49,
   "id": "9d9a0cbc",
   "metadata": {},
   "outputs": [],
   "source": [
    "bkgd_parton_id = np.array((ak.flatten(combos7.bkgd_dict['partonFlav'])))\n",
    "bkgd_hadron_id = np.array((ak.flatten(combos7.bkgd_dict['hadronFlav'])))"
   ]
  },
  {
   "cell_type": "code",
   "execution_count": 50,
   "id": "ad8b68c5",
   "metadata": {},
   "outputs": [],
   "source": [
    "swap_sgnl_idx = np.array((ak.flatten(combos7.bkgd_dict['ind'])))"
   ]
  },
  {
   "cell_type": "code",
   "execution_count": 51,
   "id": "72a5ba3b",
   "metadata": {},
   "outputs": [
    {
     "data": {
      "text/plain": [
       "array([6, 6, 6, ..., 4, 4, 4])"
      ]
     },
     "execution_count": 51,
     "metadata": {},
     "output_type": "execute_result"
    }
   ],
   "source": [
    "swap_sgnl_idx"
   ]
  },
  {
   "cell_type": "code",
   "execution_count": 53,
   "id": "4ff2a3f0",
   "metadata": {},
   "outputs": [],
   "source": [
    "bkgd_pt = ak.to_numpy(bkgd_pt)"
   ]
  },
  {
   "cell_type": "code",
   "execution_count": 55,
   "id": "98a49e41",
   "metadata": {},
   "outputs": [],
   "source": [
    "sgnl_pt = ak.to_numpy(combos7.swapped_sgnl_pt)"
   ]
  },
  {
   "cell_type": "code",
   "execution_count": 60,
   "id": "e94f434c",
   "metadata": {},
   "outputs": [],
   "source": [
    "bkgd_pt = bkgd_pt.reshape(bkgd_pt.shape[0])\n",
    "sgnl_pt = bkgd_pt.reshape(sgnl_pt.shape[0])"
   ]
  },
  {
   "cell_type": "code",
   "execution_count": 61,
   "id": "f3031a4c",
   "metadata": {},
   "outputs": [
    {
     "data": {
      "application/vnd.jupyter.widget-view+json": {
       "model_id": "bcaf1e499e654e01a27bcb1661203988",
       "version_major": 2,
       "version_minor": 0
      },
      "text/plain": [
       "Canvas(toolbar=Toolbar(toolitems=[('Home', 'Reset original view', 'home', 'home'), ('Back', 'Back to previous …"
      ]
     },
     "metadata": {},
     "output_type": "display_data"
    }
   ],
   "source": [
    "fig, ax = plt.subplots()\n",
    "\n",
    "n, xedges, yedges, im = hist2d(ax, sgnl_pt, bkgd_pt, xbins=np.arange(30,200), ybins=np.arange(30,200))\n",
    "plt.colorbar(im, ax=ax)\n",
    "ax.set_xlabel(\"Assigned Score\")\n",
    "ax.set_ylabel(r\"$p_T [GeV]$ of Incorrect Swapped Jet\")\n",
    "\n",
    "plt.show()"
   ]
  },
  {
   "cell_type": "code",
   "execution_count": 62,
   "id": "8d7425c4",
   "metadata": {},
   "outputs": [
    {
     "data": {
      "application/vnd.jupyter.widget-view+json": {
       "model_id": "3f1c809e20e343cdb87e9a628a369537",
       "version_major": 2,
       "version_minor": 0
      },
      "text/plain": [
       "Canvas(toolbar=Toolbar(toolitems=[('Home', 'Reset original view', 'home', 'home'), ('Back', 'Back to previous …"
      ]
     },
     "metadata": {},
     "output_type": "display_data"
    }
   ],
   "source": [
    "fig, ax = plt.subplots()\n",
    "\n",
    "n, xedges, yedges, im = hist2d(ax, scores_7[~combos7.sgnl_mask], bkgd_pt, ybins=np.arange(30,200))\n",
    "plt.colorbar(im, ax=ax)\n",
    "ax.set_xlabel(\"Assigned Score\")\n",
    "ax.set_ylabel(r\"$p_T [GeV]$ of Incorrect Swapped Jet\")\n",
    "\n",
    "plt.show()"
   ]
  },
  {
   "cell_type": "code",
   "execution_count": 63,
   "id": "6a7a5226",
   "metadata": {},
   "outputs": [
    {
     "data": {
      "application/vnd.jupyter.widget-view+json": {
       "model_id": "f0030e9f9ee747009ac4f16a91a3e4be",
       "version_major": 2,
       "version_minor": 0
      },
      "text/plain": [
       "Canvas(toolbar=Toolbar(toolitems=[('Home', 'Reset original view', 'home', 'home'), ('Back', 'Back to previous …"
      ]
     },
     "metadata": {},
     "output_type": "display_data"
    }
   ],
   "source": [
    "fig, ax = plt.subplots()\n",
    "\n",
    "ax.set_title(r\"$^7C_6$ Background pT\")\n",
    "\n",
    "n_7, b_7, x_7 = norm_hist(bkgd_pt[scores_7[~combos7.sgnl_mask] > 0.8]   , bins=np.linspace(0,600,100))\n",
    "w_n_7, b_7, x_7 = norm_hist(bkgd_pt[scores_7[~combos7.sgnl_mask] <= 0.8], bins=np.linspace(0,600,100))\n",
    "\n",
    "hist(ax, x_7, weights=n_7, bins=b_7, label='Score > 0.8')\n",
    "hist(ax, x_7, weights=w_n_7, bins=b_7, label='Score <= 0.8')\n",
    "ax.legend(fontsize='small', loc=9)\n",
    "\n",
    "ax.set_xlabel('Swapped bkgd pT')\n",
    "ax.set_ylabel('AU')\n",
    "\n",
    "textstr = f'Entries = {len(scores_7)}'\n",
    "props = dict(boxstyle='round', facecolor='white', alpha=1)\n",
    "ax.text(0.8, 1.02, textstr, transform=ax.transAxes, fontsize=9,\n",
    "        verticalalignment='top', bbox=props)\n",
    "\n",
    "plt.show()"
   ]
  },
  {
   "cell_type": "code",
   "execution_count": null,
   "id": "194f0028",
   "metadata": {},
   "outputs": [],
   "source": []
  },
  {
   "cell_type": "code",
   "execution_count": 64,
   "id": "b979adb2",
   "metadata": {},
   "outputs": [
    {
     "data": {
      "application/vnd.jupyter.widget-view+json": {
       "model_id": "5cb401f499064ca192826b599fd8e6c9",
       "version_major": 2,
       "version_minor": 0
      },
      "text/plain": [
       "Canvas(toolbar=Toolbar(toolitems=[('Home', 'Reset original view', 'home', 'home'), ('Back', 'Back to previous …"
      ]
     },
     "metadata": {},
     "output_type": "display_data"
    }
   ],
   "source": [
    "fig, ax = plt.subplots()\n",
    "\n",
    "n, xedges, yedges, im = hist2d(ax, scores_7[~combos7.sgnl_mask], bkgd_parton_id, ybins=np.arange(-5,22))\n",
    "plt.colorbar(im, ax=ax)\n",
    "ax.set_xlabel(\"Assigned Score\")\n",
    "ax.set_ylabel(\"Parton ID of Incorrect Swapped Jet\")\n",
    "\n",
    "plt.show()"
   ]
  },
  {
   "cell_type": "code",
   "execution_count": 65,
   "id": "f218f9c4",
   "metadata": {},
   "outputs": [],
   "source": [
    "d_mask = bkgd_parton_id == 1\n",
    "u_mask = bkgd_parton_id == 2\n",
    "s_mask = bkgd_parton_id == 3\n",
    "c_mask = bkgd_parton_id == 4\n",
    "b_mask = bkgd_parton_id == 5\n",
    "\n",
    "dbar_mask = bkgd_parton_id == -1\n",
    "ubar_mask = bkgd_parton_id == -2\n",
    "sbar_mask = bkgd_parton_id == -3\n",
    "cbar_mask = bkgd_parton_id == -4\n",
    "bbar_mask = bkgd_parton_id == -5\n",
    "\n",
    "g_mask = bkgd_parton_id == 21\n",
    "\n",
    "unknown = bkgd_parton_id == 0"
   ]
  },
  {
   "cell_type": "code",
   "execution_count": 66,
   "id": "04a7f825",
   "metadata": {},
   "outputs": [
    {
     "data": {
      "application/vnd.jupyter.widget-view+json": {
       "model_id": "f34b6717026444f182c9836d3bad3a6d",
       "version_major": 2,
       "version_minor": 0
      },
      "text/plain": [
       "Canvas(toolbar=Toolbar(toolitems=[('Home', 'Reset original view', 'home', 'home'), ('Back', 'Back to previous …"
      ]
     },
     "metadata": {},
     "output_type": "display_data"
    }
   ],
   "source": [
    "fig, axs = plt.subplots(nrows=2, ncols=6, figsize=(15,4))\n",
    "\n",
    "ax = axs[0][0]\n",
    "hist(ax, scores_7[~combos7.sgnl_mask][d_mask])\n",
    "ax.set_title('d')\n",
    "\n",
    "ax = axs[0][1]\n",
    "hist(ax, scores_7[~combos7.sgnl_mask][u_mask])\n",
    "ax.set_title('u')\n",
    "\n",
    "ax = axs[0][2]\n",
    "hist(ax, scores_7[~combos7.sgnl_mask][s_mask])\n",
    "ax.set_title('s')\n",
    "\n",
    "ax = axs[0][3]\n",
    "hist(ax, scores_7[~combos7.sgnl_mask][c_mask])\n",
    "ax.set_title('c')\n",
    "\n",
    "ax = axs[0][4]\n",
    "hist(ax, scores_7[~combos7.sgnl_mask][b_mask])\n",
    "ax.set_title('b')\n",
    "\n",
    "ax = axs[0][5]\n",
    "hist(ax, scores_7[~combos7.sgnl_mask][g_mask])\n",
    "ax.set_title('g')\n",
    "\n",
    "\n",
    "\n",
    "ax = axs[1][0]\n",
    "hist(ax, scores_7[~combos7.sgnl_mask][dbar_mask])\n",
    "ax.set_title('dbar')\n",
    "\n",
    "ax = axs[1][1]\n",
    "hist(ax, scores_7[~combos7.sgnl_mask][ubar_mask])\n",
    "ax.set_title('ubar')\n",
    "\n",
    "ax = axs[1][2]\n",
    "hist(ax, scores_7[~combos7.sgnl_mask][sbar_mask])\n",
    "ax.set_title('sbar')\n",
    "\n",
    "ax = axs[1][3]\n",
    "hist(ax, scores_7[~combos7.sgnl_mask][cbar_mask])\n",
    "ax.set_title('cbar')\n",
    "\n",
    "ax = axs[1][4]\n",
    "hist(ax, scores_7[~combos7.sgnl_mask][bbar_mask])\n",
    "ax.set_title('bbar')\n",
    "\n",
    "ax = axs[1][5]\n",
    "hist(ax, scores_7[~combos7.sgnl_mask][unknown])\n",
    "ax.set_title('unknown')\n",
    "\n",
    "for ax in axs.flat:\n",
    "    ax.set_xlabel(\"Assigned Score\")\n",
    "    ax.set_ylabel(\"Count\")\n",
    "\n",
    "plt.tight_layout()"
   ]
  },
  {
   "cell_type": "code",
   "execution_count": 67,
   "id": "04d82a14",
   "metadata": {},
   "outputs": [
    {
     "name": "stdout",
     "output_type": "stream",
     "text": [
      "0 11\n"
     ]
    }
   ],
   "source": [
    "print(swap_sgnl_idx.min(), swap_sgnl_idx.max())"
   ]
  },
  {
   "cell_type": "code",
   "execution_count": 68,
   "id": "e68c81e6",
   "metadata": {},
   "outputs": [],
   "source": [
    "plt.close('all')"
   ]
  },
  {
   "cell_type": "code",
   "execution_count": 69,
   "id": "79b88013",
   "metadata": {},
   "outputs": [
    {
     "data": {
      "application/vnd.jupyter.widget-view+json": {
       "model_id": "0011033a3c244fa6a4cce61c186d24ea",
       "version_major": 2,
       "version_minor": 0
      },
      "text/plain": [
       "Canvas(toolbar=Toolbar(toolitems=[('Home', 'Reset original view', 'home', 'home'), ('Back', 'Back to previous …"
      ]
     },
     "metadata": {},
     "output_type": "display_data"
    }
   ],
   "source": [
    "fig, ax = plt.subplots()\n",
    "\n",
    "n, x, y, im = hist2d(ax, swap_sgnl_idx, scores_7[~combos7.sgnl_mask], xbins=np.linspace(0,6,13))\n",
    "ax.set_xlim(0,5.5)\n",
    "plt.colorbar(im, ax=ax)\n",
    "\n",
    "ax.set_ylabel(\"Assigned Score\")\n",
    "\n",
    "plt.show()"
   ]
  },
  {
   "cell_type": "code",
   "execution_count": 75,
   "id": "def0a585",
   "metadata": {},
   "outputs": [
    {
     "data": {
      "application/vnd.jupyter.widget-view+json": {
       "model_id": "723c076b89ca45c8bb677826905a1d75",
       "version_major": 2,
       "version_minor": 0
      },
      "text/plain": [
       "Canvas(toolbar=Toolbar(toolitems=[('Home', 'Reset original view', 'home', 'home'), ('Back', 'Back to previous …"
      ]
     },
     "metadata": {},
     "output_type": "display_data"
    },
    {
     "ename": "NameError",
     "evalue": "name 'hadron_id' is not defined",
     "output_type": "error",
     "traceback": [
      "\u001b[0;31m---------------------------------------------------------------------------\u001b[0m",
      "\u001b[0;31mNameError\u001b[0m                                 Traceback (most recent call last)",
      "\u001b[0;32m<ipython-input-75-a14e901e5267>\u001b[0m in \u001b[0;36m<module>\u001b[0;34m\u001b[0m\n\u001b[1;32m      1\u001b[0m \u001b[0mfig\u001b[0m\u001b[0;34m,\u001b[0m \u001b[0max\u001b[0m \u001b[0;34m=\u001b[0m \u001b[0mplt\u001b[0m\u001b[0;34m.\u001b[0m\u001b[0msubplots\u001b[0m\u001b[0;34m(\u001b[0m\u001b[0;34m)\u001b[0m\u001b[0;34m\u001b[0m\u001b[0;34m\u001b[0m\u001b[0m\n\u001b[1;32m      2\u001b[0m \u001b[0;34m\u001b[0m\u001b[0m\n\u001b[0;32m----> 3\u001b[0;31m \u001b[0mhist2d\u001b[0m\u001b[0;34m(\u001b[0m\u001b[0max\u001b[0m\u001b[0;34m,\u001b[0m \u001b[0mscores_7\u001b[0m\u001b[0;34m[\u001b[0m\u001b[0;34m~\u001b[0m\u001b[0mcombos7\u001b[0m\u001b[0;34m.\u001b[0m\u001b[0msgnl_mask\u001b[0m\u001b[0;34m]\u001b[0m\u001b[0;34m,\u001b[0m \u001b[0mhadron_id\u001b[0m\u001b[0;34m)\u001b[0m\u001b[0;34m\u001b[0m\u001b[0;34m\u001b[0m\u001b[0m\n\u001b[0m",
      "\u001b[0;31mNameError\u001b[0m: name 'hadron_id' is not defined"
     ]
    }
   ],
   "source": [
    "fig, ax = plt.subplots()\n",
    "\n",
    "hist2d(ax, scores_7[~combos7.sgnl_mask], hadron_id)"
   ]
  },
  {
   "cell_type": "code",
   "execution_count": null,
   "id": "233a6a6d",
   "metadata": {},
   "outputs": [],
   "source": []
  }
 ],
 "metadata": {
  "kernelspec": {
   "display_name": "Python 3",
   "language": "python",
   "name": "python3"
  },
  "language_info": {
   "codemirror_mode": {
    "name": "ipython",
    "version": 3
   },
   "file_extension": ".py",
   "mimetype": "text/x-python",
   "name": "python",
   "nbconvert_exporter": "python",
   "pygments_lexer": "ipython3",
   "version": "3.8.10"
  }
 },
 "nbformat": 4,
 "nbformat_minor": 5
}
