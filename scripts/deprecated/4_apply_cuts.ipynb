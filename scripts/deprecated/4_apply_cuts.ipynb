{
 "cells": [
  {
   "cell_type": "markdown",
   "id": "0c32111b",
   "metadata": {},
   "source": [
    "# Evaluate Classifier Techniques\n",
    "\n",
    "This notebook compares the efficiency of various techniques:\n",
    "1. Choose the top three scoring pairs (how often are these the three Higgs?)\n",
    "2. Set a cut on score and invariant mass"
   ]
  },
  {
   "cell_type": "markdown",
   "id": "b2f41a9e",
   "metadata": {},
   "source": [
    "## Load Model, Obtain Classifier Scores"
   ]
  },
  {
   "cell_type": "code",
   "execution_count": 1,
   "id": "e1c6055a",
   "metadata": {},
   "outputs": [],
   "source": [
    "from keras.models import model_from_json\n",
    "import numpy as np\n",
    "from uproot3_methods import TLorentzVectorArray"
   ]
  },
  {
   "cell_type": "code",
   "execution_count": 2,
   "id": "3df2d560",
   "metadata": {},
   "outputs": [],
   "source": [
    "## LOAD MODEL\n",
    "model_dir = f'../models/classifier/reco/model/'\n",
    "json_file = open(model_dir + f'model_1.json', 'r')\n",
    "loaded_model_json = json_file.read()\n",
    "json_file.close()\n",
    "model = model_from_json(loaded_model_json)\n",
    "model.load_weights(model_dir + f'model_1.h5')\n",
    "\n",
    "## LOAD INPUTS\n",
    "file = np.load(\"../inputs/reco/nn_input_MX700_MY400_classifier.npz\")\n",
    "nevents = len(np.concatenate((file['test'], file['train'], file['val'])))"
   ]
  },
  {
   "cell_type": "code",
   "execution_count": 3,
   "id": "c9606cf9",
   "metadata": {},
   "outputs": [],
   "source": [
    "x_test = file['x_test'] # normalized test examples\n",
    "X_test = file['X_test'] # unmodified test examples\n",
    "ntest = len(file['test'])\n",
    "\n",
    "scores = model.predict(x_test)\n",
    "scores = scores[:,0]\n",
    "rscores = np.around(scores, decimals=3)\n",
    "\n",
    "thresholds = np.arange(0.0,1.01,0.01)"
   ]
  },
  {
   "cell_type": "markdown",
   "id": "506828ad",
   "metadata": {},
   "source": [
    "## Calculate invariant mass of all pairs, of Y pairs, and X triplets"
   ]
  },
  {
   "cell_type": "code",
   "execution_count": 67,
   "id": "2fa2dd7b",
   "metadata": {},
   "outputs": [],
   "source": [
    "npairs = 15"
   ]
  },
  {
   "cell_type": "code",
   "execution_count": 68,
   "id": "cbe3e7f3",
   "metadata": {},
   "outputs": [],
   "source": [
    "# invariant mass of all pairings\n",
    "pair_inv1 = TLorentzVectorArray.from_ptetaphim(X_test[:,0], X_test[:,1], X_test[:,2], np.repeat(4e-9,len(X_test)))\n",
    "pair_inv2 = TLorentzVectorArray.from_ptetaphim(X_test[:,3], X_test[:,4], X_test[:,5], np.repeat(4e-9,len(X_test)))\n",
    "pair_inv = pair_inv1 + pair_inv2\n",
    "\n",
    "pair_p4 = np.reshape(pair_inv, (ntest,npairs))\n",
    "\n",
    "pair_mass = np.reshape(pair_inv.mass, (ntest, npairs))\n",
    "true_Y = pair_p4[:,1] + pair_p4[:,2]\n",
    "true_X = pair_p4[:,1] + pair_p4[:,2] +  pair_p4[:,0]\n",
    "\n",
    "true_Y_m = np.array(())\n",
    "true_X_m = np.array(())\n",
    "\n",
    "for X, Y in zip(true_X, true_Y):\n",
    "    true_Y_m = np.append(true_Y_m, Y.mass)\n",
    "    true_X_m = np.append(true_X_m, X.mass)"
   ]
  },
  {
   "cell_type": "markdown",
   "id": "0cc6a532",
   "metadata": {},
   "source": [
    "## Cut on discriminator"
   ]
  },
  {
   "cell_type": "code",
   "execution_count": 69,
   "id": "2cb7f9b0",
   "metadata": {},
   "outputs": [],
   "source": [
    "import matplotlib as mpl\n",
    "%matplotlib widget\n",
    "import matplotlib.pyplot as plt"
   ]
  },
  {
   "cell_type": "code",
   "execution_count": 70,
   "id": "c94d3a5f",
   "metadata": {},
   "outputs": [],
   "source": [
    "from matplotlib.gridspec import GridSpec"
   ]
  },
  {
   "cell_type": "code",
   "execution_count": 71,
   "id": "95ed80d4",
   "metadata": {},
   "outputs": [],
   "source": [
    "from consistent_plots import hist"
   ]
  },
  {
   "cell_type": "code",
   "execution_count": 100,
   "id": "62b57038",
   "metadata": {},
   "outputs": [
    {
     "data": {
      "text/plain": [
       "37503"
      ]
     },
     "execution_count": 100,
     "metadata": {},
     "output_type": "execute_result"
    }
   ],
   "source": [
    "score_cut = 0.15\n",
    "# score_cut = 0.52\n",
    "\n",
    "class_cut = scores > score_cut\n",
    "np.sum(class_cut[2::npairs])"
   ]
  },
  {
   "cell_type": "code",
   "execution_count": 101,
   "id": "bc18c213",
   "metadata": {},
   "outputs": [],
   "source": [
    "features_class_cut = X_test[class_cut,:]"
   ]
  },
  {
   "cell_type": "code",
   "execution_count": 102,
   "id": "7cff3f1e",
   "metadata": {},
   "outputs": [],
   "source": [
    "mass_class_cut = pair_inv.mass.ravel()[class_cut]\n",
    "dR_class_cut = X_test[:,-1][class_cut]"
   ]
  },
  {
   "cell_type": "code",
   "execution_count": 124,
   "id": "465f2144",
   "metadata": {},
   "outputs": [
    {
     "data": {
      "application/vnd.jupyter.widget-view+json": {
       "model_id": "f7b73852ae75427397168a07021e833d",
       "version_major": 2,
       "version_minor": 0
      },
      "text/plain": [
       "Canvas(toolbar=Toolbar(toolitems=[('Home', 'Reset original view', 'home', 'home'), ('Back', 'Back to previous …"
      ]
     },
     "metadata": {},
     "output_type": "display_data"
    },
    {
     "data": {
      "text/plain": [
       "Text(0.5, 1.0, 'Angular Separation Between Pairs with discriminator > 0.15')"
      ]
     },
     "execution_count": 124,
     "metadata": {},
     "output_type": "execute_result"
    }
   ],
   "source": [
    "fig, axs = plt.subplots(nrows=1, ncols=2, figsize=(13,5))\n",
    "\n",
    "ax = axs[0]\n",
    "_ = hist(ax, mass_class_cut, bins=np.linspace(0,300,100))\n",
    "ax.set_xlabel(r'pair $m_\\mathrm{inv}$ [GeV]')\n",
    "ax.set_title(f'Invariant Mass of Pairs with discriminator > {score_cut}')\n",
    "\n",
    "ax = axs[1]\n",
    "_ = hist(ax, dR_class_cut, bins=np.linspace(0,4,100))\n",
    "ax.set_xlabel(r'pair $\\Delta R$')\n",
    "ax.set_title(f'Angular Separation Between Pairs with discriminator > {score_cut}')"
   ]
  },
  {
   "cell_type": "code",
   "execution_count": 122,
   "id": "4be512cd",
   "metadata": {},
   "outputs": [
    {
     "data": {
      "application/vnd.jupyter.widget-view+json": {
       "model_id": "6f8a4f0100ee4f99ac35061f0030b2de",
       "version_major": 2,
       "version_minor": 0
      },
      "text/plain": [
       "Canvas(toolbar=Toolbar(toolitems=[('Home', 'Reset original view', 'home', 'home'), ('Back', 'Back to previous …"
      ]
     },
     "metadata": {},
     "output_type": "display_data"
    },
    {
     "data": {
      "text/plain": [
       "<matplotlib.colorbar.Colorbar at 0x7fb43f89a970>"
      ]
     },
     "execution_count": 122,
     "metadata": {},
     "output_type": "execute_result"
    }
   ],
   "source": [
    "plt.close()\n",
    "fig, ax = plt.subplots()\n",
    "\n",
    "s = ax.scatter(pair_inv.mass, X_test[:,-1], s=1, c=scores, cmap='rainbow')\n",
    "ax.set_xlabel(r'$m_\\mathrm{inv}$ [GeV]')\n",
    "ax.set_ylabel(r'$\\Delta R$')\n",
    "ax.set_xlim(0,500)\n",
    "plt.colorbar(s)"
   ]
  },
  {
   "cell_type": "code",
   "execution_count": 105,
   "id": "f2230025",
   "metadata": {},
   "outputs": [],
   "source": [
    "H_mask = np.tile(np.concatenate((np.repeat(True, 3), np.repeat(False, 12))), ntest)"
   ]
  },
  {
   "cell_type": "code",
   "execution_count": 106,
   "id": "2bd1ea36",
   "metadata": {},
   "outputs": [
    {
     "data": {
      "application/vnd.jupyter.widget-view+json": {
       "model_id": "e6b975f9f4af41e2a7b5a270cb6a0076",
       "version_major": 2,
       "version_minor": 0
      },
      "text/plain": [
       "Canvas(toolbar=Toolbar(toolitems=[('Home', 'Reset original view', 'home', 'home'), ('Back', 'Back to previous …"
      ]
     },
     "metadata": {},
     "output_type": "display_data"
    },
    {
     "data": {
      "text/plain": [
       "(0.0, 300.0)"
      ]
     },
     "execution_count": 106,
     "metadata": {},
     "output_type": "execute_result"
    }
   ],
   "source": [
    "plt.close()\n",
    "fig, axs = plt.subplots(nrows=1, ncols=3, figsize=(15,5))\n",
    "\n",
    "ax = axs[0]\n",
    "s = ax.scatter(pair_inv.mass.ravel()[~H_mask], X_test[:,-1][~H_mask], s=1)\n",
    "ax.set_xlabel(r'$m_\\mathrm{inv}$ [GeV]')\n",
    "ax.set_ylabel(r'$\\Delta R$')\n",
    "ax.set_xlim(0,600)\n",
    "\n",
    "ax = axs[1]\n",
    "s = ax.scatter(pair_inv.mass.ravel()[H_mask], X_test[:,-1][H_mask], s=1)\n",
    "ax.set_xlabel(r'$m_\\mathrm{inv}$ [GeV]')\n",
    "ax.set_ylabel(r'$\\Delta R$')\n",
    "ax.set_xlim(0,300)\n",
    "\n",
    "ax = axs[2]\n",
    "s = ax.scatter(pair_inv.mass.ravel()[~H_mask], X_test[:,-1][~H_mask], s=1)\n",
    "s = ax.scatter(pair_inv.mass.ravel()[H_mask], X_test[:,-1][H_mask], s=1)\n",
    "ax.set_xlabel(r'$m_\\mathrm{inv}$ [GeV]')\n",
    "ax.set_ylabel(r'$\\Delta R$')\n",
    "ax.set_xlim(0,300)"
   ]
  },
  {
   "cell_type": "code",
   "execution_count": 107,
   "id": "e9807431",
   "metadata": {},
   "outputs": [],
   "source": [
    "## APPLY MODEL TO INPUTS\n",
    "# pscores = scores binned by pair\n",
    "pscores = []\n",
    "pinvmass = []\n",
    "for i in range(npairs):\n",
    "    pscores.append(scores[np.arange(i, ntest*npairs, npairs)])\n",
    "    pinvmass.append(pair_inv[np.arange(i, ntest*npairs, npairs)])\n",
    "pair_scores = np.array((pscores))\n",
    "pair_mass = np.array((pinvmass))\n",
    "    \n",
    "# escores = scores binned by event\n",
    "escores = []\n",
    "einvmass = []\n",
    "for i in range(0, ntest*npairs, npairs):\n",
    "    escores.append(scores[i:i+npairs])\n",
    "    einvmass.append(pair_inv[i:i+npairs])\n",
    "event_scores = np.array((escores))\n",
    "event_mass = np.array((einvmass))"
   ]
  },
  {
   "cell_type": "code",
   "execution_count": 108,
   "id": "0c13eb86",
   "metadata": {},
   "outputs": [],
   "source": [
    "labels = ['HX',\n",
    "          'H1',\n",
    "          'H2',\n",
    " 'HX b1, H1 b1',\n",
    " 'HX b1, H1 b2',\n",
    " 'HX b1, H2 b1',\n",
    " 'HX b1, H2 b2',\n",
    " 'HX b2, H1 b1',\n",
    " 'HX b2, H1 b2',\n",
    " 'HX b2, H2 b1',\n",
    " 'HX b2, H2 b2',\n",
    " 'H1 b1, H2 b1',\n",
    " 'H1 b1, H2 b2',\n",
    " 'H1 b2, H2 b1',\n",
    " 'H1 b2, H2 b2',]"
   ]
  },
  {
   "cell_type": "code",
   "execution_count": 109,
   "id": "f70859aa",
   "metadata": {},
   "outputs": [],
   "source": [
    "from prettytable import PrettyTable"
   ]
  },
  {
   "cell_type": "code",
   "execution_count": 110,
   "id": "7a64baae",
   "metadata": {},
   "outputs": [
    {
     "data": {
      "text/plain": [
       "3"
      ]
     },
     "execution_count": 110,
     "metadata": {},
     "output_type": "execute_result"
    }
   ],
   "source": [
    "len(pscores[:3])"
   ]
  },
  {
   "cell_type": "code",
   "execution_count": 111,
   "id": "bbb83906",
   "metadata": {},
   "outputs": [],
   "source": [
    "table = PrettyTable()\n",
    "table.field_names = ['Pair', 'Efficiency']\n",
    "\n",
    "for i,label in enumerate(labels):\n",
    "    table.add_row([label, f'{np.around(np.sum(pscores[i] > score_cut)/len(pscores[i])*100, decimals=1)}%'])\n",
    "    if  i == 2:\n",
    "        table.add_row(['Any Higgs', f'{np.around(np.sum(np.any(np.column_stack((pscores[0], pscores[1], pscores[2])) > score_cut, axis=1))/len(pscores[i])*100, decimals=1)}%'])\n",
    "        table.add_row(['All Higgs', f'{np.around(np.sum(np.all(np.column_stack((pscores[0], pscores[1], pscores[2])) > score_cut, axis=1))/len(pscores[i])*100, decimals=1)}%'])"
   ]
  },
  {
   "cell_type": "code",
   "execution_count": 112,
   "id": "1c83c37a",
   "metadata": {},
   "outputs": [
    {
     "name": "stdout",
     "output_type": "stream",
     "text": [
      "+--------------+------------+\n",
      "|     Pair     | Efficiency |\n",
      "+--------------+------------+\n",
      "|      HX      |   96.9%    |\n",
      "|      H1      |   97.8%    |\n",
      "|      H2      |   93.9%    |\n",
      "|  Any Higgs   |   100.0%   |\n",
      "|  All Higgs   |   89.0%    |\n",
      "| HX b1, H1 b1 |    6.1%    |\n",
      "| HX b1, H1 b2 |   32.0%    |\n",
      "| HX b1, H2 b1 |   37.5%    |\n",
      "| HX b1, H2 b2 |   53.9%    |\n",
      "| HX b2, H1 b1 |    7.7%    |\n",
      "| HX b2, H1 b2 |   41.4%    |\n",
      "| HX b2, H2 b1 |   32.1%    |\n",
      "| HX b2, H2 b2 |   57.3%    |\n",
      "| H1 b1, H2 b1 |   21.4%    |\n",
      "| H1 b1, H2 b2 |   52.0%    |\n",
      "| H1 b2, H2 b1 |   29.5%    |\n",
      "| H1 b2, H2 b2 |   59.5%    |\n",
      "+--------------+------------+\n"
     ]
    }
   ],
   "source": [
    "print(table)"
   ]
  },
  {
   "cell_type": "code",
   "execution_count": 113,
   "id": "fc9d55a1",
   "metadata": {},
   "outputs": [],
   "source": [
    "score_block = scores.reshape(ntest, npairs)\n",
    "# np.around(score_block[:3], decimals=3)"
   ]
  },
  {
   "cell_type": "code",
   "execution_count": 114,
   "id": "73899949",
   "metadata": {},
   "outputs": [],
   "source": [
    "sorted_pairs = np.flip(score_block.argsort(), axis=1)"
   ]
  },
  {
   "cell_type": "code",
   "execution_count": 115,
   "id": "ea6ef06c",
   "metadata": {},
   "outputs": [],
   "source": [
    "table = PrettyTable()\n",
    "table.add_column(\"Pair\", ['HX', 'H1', 'H2', 'Any', 'All'])\n",
    "\n",
    "for i in range(3,6):\n",
    "    any_higgs = np.sum(np.any(np.logical_or(np.logical_or(sorted_pairs[:,:i] == 0, sorted_pairs[:,:i] == 1), sorted_pairs[:,:i] == 2), axis=1)/(3*ntest))\n",
    "    all_higgs = np.sum(np.all(np.logical_and(np.logical_and(sorted_pairs[:,:i] == 0, sorted_pairs[:,:i] == 1), sorted_pairs[:,:i] == 2), axis=1)/(3*ntest))\n",
    "    table.add_column(f\"Top {i}\", \n",
    "                     [f'{round(np.sum(sorted_pairs[:,:i] == 0)/ntest*100, 1)}%',\n",
    "                      f'{round(np.sum(sorted_pairs[:,:i] == 1)/ntest*100, 1)}%',\n",
    "                      f'{round(np.sum(sorted_pairs[:,:i] == 2)/ntest*100, 1)}%',\n",
    "                      f'{round(any_higgs, 1)}%',\n",
    "                      f'{round(all_higgs, 1)}%'])"
   ]
  },
  {
   "cell_type": "code",
   "execution_count": 116,
   "id": "f2e082ef",
   "metadata": {},
   "outputs": [
    {
     "name": "stdout",
     "output_type": "stream",
     "text": [
      "+------+-------+-------+-------+\n",
      "| Pair | Top 3 | Top 4 | Top 5 |\n",
      "+------+-------+-------+-------+\n",
      "|  HX  | 74.9% | 85.8% | 91.6% |\n",
      "|  H1  | 82.1% | 89.7% | 93.4% |\n",
      "|  H2  | 37.8% | 56.5% | 72.2% |\n",
      "| Any  |  0.3% |  0.3% |  0.3% |\n",
      "| All  |  0.0% |  0.0% |  0.0% |\n",
      "+------+-------+-------+-------+\n"
     ]
    }
   ],
   "source": [
    "print(table)"
   ]
  },
  {
   "cell_type": "code",
   "execution_count": null,
   "id": "9a287dc4",
   "metadata": {},
   "outputs": [],
   "source": []
  },
  {
   "cell_type": "code",
   "execution_count": null,
   "id": "cc1f75e9",
   "metadata": {},
   "outputs": [],
   "source": []
  },
  {
   "cell_type": "code",
   "execution_count": null,
   "id": "13c6efcc",
   "metadata": {},
   "outputs": [],
   "source": []
  },
  {
   "cell_type": "markdown",
   "id": "79250dbe",
   "metadata": {},
   "source": [
    "## Collect passing masses based on a score cut"
   ]
  },
  {
   "cell_type": "code",
   "execution_count": null,
   "id": "c12299a9",
   "metadata": {},
   "outputs": [],
   "source": []
  },
  {
   "cell_type": "code",
   "execution_count": 117,
   "id": "2e13ed75",
   "metadata": {},
   "outputs": [],
   "source": [
    "passing_Y_mass = np.array(()) # save mY of events in which all three Higgs pass\n",
    "passing_X_mass = np.array(()) # save mX of events in which all three Higgs pass\n",
    "passing_mass = np.array(()) # save mjj of all pairs that pass discriminator cut in all events\n",
    "pass_p4 = []\n",
    "pass_score_events = np.array([], dtype=int)\n",
    "n_pairs_pass = np.array(())\n",
    "\n",
    "for ievt,(mY, mX, mass, evt, evt_p4) in enumerate(zip(true_Y_m, true_X_m, event_mass, escores, pair_p4)):\n",
    "    masked_score = evt > score_cut\n",
    "    n_nH_pairs_pass = np.append(n_pairs_pass, np.sum(masked_score[3:]))\n",
    "    n_pairs_pass = np.append(n_pairs_pass, np.sum(masked_score))\n",
    "    passing_mass = np.append(passing_mass, mass[masked_score])\n",
    "    pass_p4.append(evt_p4[masked_score])\n",
    "    if np.all(masked_score[:3]):\n",
    "        passing_Y_mass = np.append(passing_Y_mass, mY)\n",
    "        passing_X_mass = np.append(passing_X_mass, mX)\n",
    "        pass_score_events = np.append(pass_score_events, int(ievt))"
   ]
  },
  {
   "cell_type": "code",
   "execution_count": 118,
   "id": "83483a83",
   "metadata": {},
   "outputs": [
    {
     "data": {
      "text/plain": [
       "15"
      ]
     },
     "execution_count": 118,
     "metadata": {},
     "output_type": "execute_result"
    }
   ],
   "source": [
    "len(masked_score)"
   ]
  },
  {
   "cell_type": "code",
   "execution_count": 119,
   "id": "dca6f67f",
   "metadata": {},
   "outputs": [
    {
     "data": {
      "application/vnd.jupyter.widget-view+json": {
       "model_id": "cdc8501f56314811b0d1c1a19e3c97df",
       "version_major": 2,
       "version_minor": 0
      },
      "text/plain": [
       "Canvas(toolbar=Toolbar(toolitems=[('Home', 'Reset original view', 'home', 'home'), ('Back', 'Back to previous …"
      ]
     },
     "metadata": {},
     "output_type": "display_data"
    },
    {
     "data": {
      "text/plain": [
       "<matplotlib.legend.Legend at 0x7fb43f716670>"
      ]
     },
     "execution_count": 119,
     "metadata": {},
     "output_type": "execute_result"
    }
   ],
   "source": [
    "plt.close()\n",
    "fig, ax = plt.subplots()\n",
    "n, bins = np.histogram(n_pairs_pass, np.arange(13))\n",
    "n_3H, bins = np.histogram(n_pairs_pass[pass_score_events], np.arange(13))\n",
    "\n",
    "width=0.3\n",
    "\n",
    "ax.bar(bins[:-1]-width/2, n, width=width, label='All events')\n",
    "ax.bar(bins[:-1]+width/2, n_3H, width=width, label='3 Higgs Passing')\n",
    "ax.set_xlabel(f'Number of Pairs That Pass Discriminator Cut (> {score_cut}) Per Event')\n",
    "ax.legend()"
   ]
  },
  {
   "cell_type": "code",
   "execution_count": 120,
   "id": "caa39a28",
   "metadata": {},
   "outputs": [
    {
     "data": {
      "application/vnd.jupyter.widget-view+json": {
       "model_id": "dc472e976e1a48ffa65f637c3da68ad5",
       "version_major": 2,
       "version_minor": 0
      },
      "text/plain": [
       "Canvas(toolbar=Toolbar(toolitems=[('Home', 'Reset original view', 'home', 'home'), ('Back', 'Back to previous …"
      ]
     },
     "metadata": {},
     "output_type": "display_data"
    },
    {
     "data": {
      "text/plain": [
       "Text(0.55, 0.9, 'NN Score > 0.15 Pairs')"
      ]
     },
     "execution_count": 120,
     "metadata": {},
     "output_type": "execute_result"
    }
   ],
   "source": [
    "plt.close()\n",
    "fig, ax = plt.subplots()\n",
    "n, bins = np.histogram(n_pairs_pass, np.arange(17))\n",
    "\n",
    "width=0.5\n",
    "\n",
    "ax.bar(bins[:-1], n, label='All events')\n",
    "ax.set_xlabel(f'Number of Passing Pairs Per Event')\n",
    "nH_avg = np.average(n_pairs_pass)\n",
    "ax.text(0.55,0.85,fr\"Average = {nH_avg:.2f} Pairs\", transform=ax.transAxes)\n",
    "ax.text(0.55,0.9,fr\"NN Score > {score_cut:.2f} Pairs\", transform=ax.transAxes)"
   ]
  },
  {
   "cell_type": "code",
   "execution_count": null,
   "id": "9259ca69",
   "metadata": {},
   "outputs": [],
   "source": []
  },
  {
   "cell_type": "code",
   "execution_count": 93,
   "id": "6f67b62d",
   "metadata": {},
   "outputs": [],
   "source": [
    "# Loop through pass_p4 (collected above) and calculate invariant dimass of passing\n",
    "\n",
    "pass_score_dimass = np.array(())\n",
    "pass_Ymass_events = np.array(())\n",
    "for ievt,evt in enumerate(pass_p4):\n",
    "    for i in range(len(evt)-1):\n",
    "        for j in range(i+1, len(evt)):\n",
    "            p4 = evt[i] + evt[j]\n",
    "            m = p4.mass\n",
    "            if ievt in pass_score_events and m < 450 and m > 300:\n",
    "                pass_score_dimass = np.append(pass_score_dimass, m)\n",
    "                pass_Ymass_events = np.append(pass_Ymass_events, ievt)"
   ]
  },
  {
   "cell_type": "code",
   "execution_count": 94,
   "id": "03b72289",
   "metadata": {},
   "outputs": [],
   "source": [
    "pass_score_trimass = np.array(())\n",
    "for evt in pass_p4:\n",
    "    for i in range(len(evt)-2):\n",
    "        for j in range(i+1, len(evt)-1):\n",
    "            for k in range(j+1, len(evt)):\n",
    "                p4 = evt[i] + evt[j] + evt[k]\n",
    "                m = p4.mass\n",
    "                pass_score_trimass = np.append(pass_score_trimass, m)"
   ]
  },
  {
   "cell_type": "code",
   "execution_count": 95,
   "id": "0f20b01c",
   "metadata": {},
   "outputs": [
    {
     "data": {
      "application/vnd.jupyter.widget-view+json": {
       "model_id": "49f440a9b28d448d89e54db330a553d8",
       "version_major": 2,
       "version_minor": 0
      },
      "text/plain": [
       "Canvas(toolbar=Toolbar(toolitems=[('Home', 'Reset original view', 'home', 'home'), ('Back', 'Back to previous …"
      ]
     },
     "metadata": {},
     "output_type": "display_data"
    },
    {
     "data": {
      "text/plain": [
       "<matplotlib.legend.Legend at 0x7fb51032bd00>"
      ]
     },
     "execution_count": 95,
     "metadata": {},
     "output_type": "execute_result"
    }
   ],
   "source": [
    "plt.close()\n",
    "bins = np.linspace(0,1000,100)\n",
    "fig, ax = plt.subplots()\n",
    "hist(ax, true_Y_m, bins=bins, label='no cut')\n",
    "hist(ax, passing_Y_mass, bins=bins, label=f'score > {score_cut}')\n",
    "ax.set_xlabel(r'$m_Y$ [GeV]')\n",
    "ax.legend()"
   ]
  },
  {
   "cell_type": "code",
   "execution_count": null,
   "id": "09400c3d",
   "metadata": {},
   "outputs": [],
   "source": []
  },
  {
   "cell_type": "code",
   "execution_count": null,
   "id": "fbcd2742",
   "metadata": {},
   "outputs": [],
   "source": []
  }
 ],
 "metadata": {
  "kernelspec": {
   "display_name": "Python 3",
   "language": "python",
   "name": "python3"
  },
  "language_info": {
   "codemirror_mode": {
    "name": "ipython",
    "version": 3
   },
   "file_extension": ".py",
   "mimetype": "text/x-python",
   "name": "python",
   "nbconvert_exporter": "python",
   "pygments_lexer": "ipython3",
   "version": "3.8.8"
  },
  "toc-autonumbering": false,
  "toc-showcode": true,
  "toc-showmarkdowntxt": false
 },
 "nbformat": 4,
 "nbformat_minor": 5
}
