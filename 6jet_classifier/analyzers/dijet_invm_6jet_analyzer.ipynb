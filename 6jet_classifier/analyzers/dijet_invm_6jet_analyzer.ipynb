{
 "cells": [
  {
   "cell_type": "code",
   "execution_count": 1,
   "metadata": {},
   "outputs": [],
   "source": [
    "%load_ext autoreload"
   ]
  },
  {
   "cell_type": "code",
   "execution_count": 2,
   "metadata": {},
   "outputs": [],
   "source": [
    "%autoreload 2"
   ]
  },
  {
   "cell_type": "code",
   "execution_count": 3,
   "metadata": {},
   "outputs": [],
   "source": [
    "%matplotlib widget"
   ]
  },
  {
   "cell_type": "code",
   "execution_count": 4,
   "metadata": {},
   "outputs": [],
   "source": [
    "from trsm import TRSM, combos"
   ]
  },
  {
   "cell_type": "code",
   "execution_count": 5,
   "metadata": {},
   "outputs": [],
   "source": [
    "import awkward as ak"
   ]
  },
  {
   "cell_type": "code",
   "execution_count": 6,
   "metadata": {},
   "outputs": [
    {
     "name": "stdout",
     "output_type": "stream",
     "text": [
      "-- [INFO] -- \u001b[0;38;5;229m/eos/user/s/srosenzw/miniconda3/envs/work/lib/python3.8/runpy.py\u001b[0;38;5;255m -- Opening ROOT file ../../signal/skimmed/NMSSM_XYH_YToHH_6b_MX_700_MY_400_testing_set_skimmed.root with columns\n",
      "-- [INFO] -- \u001b[0;38;5;229m/eos/user/s/srosenzw/miniconda3/envs/work/lib/python3.8/runpy.py\u001b[0;38;5;255m -- Tree contains 52891 events.\n",
      "----------------------------------------------------------------------------------------------------\n",
      "                                            TABLE COLUMNS                                           \n",
      "----------------------------------------------------------------------------------------------------\n",
      "jet_pt                            jet_eta                           jet_phi                           \n",
      "jet_m                             jet_btag                          jet_qgl                           \n",
      "jet_idx                           jet_hadronFlav                    jet_partonFlav                    \n",
      "HX_b1_recojet_m                   HX_b1_recojet_pt                  HX_b1_recojet_eta                 \n",
      "HX_b1_recojet_phi                 HX_b1_recojet_ptRegressed         HX_b2_recojet_m                   \n",
      "HX_b2_recojet_pt                  HX_b2_recojet_eta                 HX_b2_recojet_phi                 \n",
      "HX_b2_recojet_ptRegressed         HY1_b1_recojet_m                  HY1_b1_recojet_pt                 \n",
      "HY1_b1_recojet_eta                HY1_b1_recojet_phi                HY1_b1_recojet_ptRegressed        \n",
      "HY1_b2_recojet_m                  HY1_b2_recojet_pt                 HY1_b2_recojet_eta                \n",
      "HY1_b2_recojet_phi                HY1_b2_recojet_ptRegressed        HY2_b1_recojet_m                  \n",
      "HY2_b1_recojet_pt                 HY2_b1_recojet_eta                HY2_b1_recojet_phi                \n",
      "HY2_b1_recojet_ptRegressed        HY2_b2_recojet_m                  HY2_b2_recojet_pt                 \n",
      "HY2_b2_recojet_eta                HY2_b2_recojet_phi                HY2_b2_recojet_ptRegressed        \n",
      "----------------------------------------------------------------------------------------------------\n"
     ]
    }
   ],
   "source": [
    "filename = f'../../signal/skimmed/NMSSM_XYH_YToHH_6b_MX_700_MY_400_testing_set_skimmed.root'\n",
    "trsm = TRSM(filename=filename)"
   ]
  },
  {
   "cell_type": "code",
   "execution_count": 41,
   "metadata": {},
   "outputs": [
    {
     "name": "stderr",
     "output_type": "stream",
     "text": [
      "100%|██████████| 52891/52891 [00:33<00:00, 1565.74it/s]\n"
     ]
    },
    {
     "name": "stdout",
     "output_type": "stream",
     "text": [
      "Total events chosen: 8052\n"
     ]
    }
   ],
   "source": [
    "combos7 = combos(trsm, 7)"
   ]
  },
  {
   "cell_type": "code",
   "execution_count": 43,
   "metadata": {},
   "outputs": [
    {
     "data": {
      "text/plain": [
       "<MomentumArray4D [{pt: 97.9, eta: -0.241, ... m: 17.3}] type='8052 * Momentum4D[...'>"
      ]
     },
     "execution_count": 43,
     "metadata": {},
     "output_type": "execute_result"
    }
   ],
   "source": [
    "combos7.HX_b1_p4[combos7.combo_mask]"
   ]
  },
  {
   "cell_type": "code",
   "execution_count": 9,
   "metadata": {},
   "outputs": [],
   "source": [
    "HX_b1_mask = ak.to_numpy(ak.flatten(combos7.swapped_out_H == 0))\n",
    "HX_b2_mask = ak.to_numpy(ak.flatten(combos7.swapped_out_H == 1))\n",
    "H1_b1_mask = ak.to_numpy(ak.flatten(combos7.swapped_out_H == 2))\n",
    "H1_b2_mask = ak.to_numpy(ak.flatten(combos7.swapped_out_H == 3))\n",
    "H2_b1_mask = ak.to_numpy(ak.flatten(combos7.swapped_out_H == 4))\n",
    "H2_b2_mask = ak.to_numpy(ak.flatten(combos7.swapped_out_H == 5))"
   ]
  },
  {
   "cell_type": "code",
   "execution_count": 10,
   "metadata": {},
   "outputs": [],
   "source": [
    "from keras.models import model_from_json\n",
    "from pickle import load"
   ]
  },
  {
   "cell_type": "code",
   "execution_count": 11,
   "metadata": {},
   "outputs": [],
   "source": [
    "tag = '5hidden_10_15_25_15_10'"
   ]
  },
  {
   "cell_type": "code",
   "execution_count": 12,
   "metadata": {},
   "outputs": [],
   "source": [
    "json_file = open(f'../models/{tag}/model/model_1.json', 'r')\n",
    "loaded_model_json = json_file.read()\n",
    "json_file.close()\n",
    "loaded_model = model_from_json(loaded_model_json)\n",
    "loaded_model.load_weights(f'../models/{tag}/model/model_1.h5')\n",
    "scaler = load(open(f'../models/{tag}/model/scaler_1.pkl', 'rb'))"
   ]
  },
  {
   "cell_type": "code",
   "execution_count": 13,
   "metadata": {},
   "outputs": [
    {
     "data": {
      "text/plain": [
       "(56364,)"
      ]
     },
     "execution_count": 13,
     "metadata": {},
     "output_type": "execute_result"
    }
   ],
   "source": [
    "test_features_7 = scaler.transform(combos7.combo_features)\n",
    "scores_7 = loaded_model.predict(test_features_7)[:,0]\n",
    "scores_7.shape"
   ]
  },
  {
   "cell_type": "code",
   "execution_count": 14,
   "metadata": {},
   "outputs": [],
   "source": [
    "sgnl_scores_7 = scores_7[combos7.sgnl_mask]\n",
    "bkgd_scores_7 = scores_7[~combos7.sgnl_mask]"
   ]
  },
  {
   "cell_type": "code",
   "execution_count": 15,
   "metadata": {},
   "outputs": [],
   "source": [
    "import awkward as ak\n",
    "import numpy as np"
   ]
  },
  {
   "cell_type": "code",
   "execution_count": 16,
   "metadata": {},
   "outputs": [],
   "source": [
    "combo_mask = combos7.combo_mask\n",
    "HX_p4 = ak.to_numpy(combos7.HX_p4.m)[combo_mask]\n",
    "H1_p4 = ak.to_numpy(combos7.H1_p4.m)[combo_mask]\n",
    "H2_p4 = ak.to_numpy(combos7.H2_p4.m)[combo_mask]\n",
    "\n",
    "correct_H = np.concatenate((HX_p4, H1_p4, H2_p4))\n",
    "incorrect_H = ak.to_numpy(ak.flatten(combos7.incorrect_H_p4.m))\n",
    "\n",
    "correct_H = correct_H.reshape(correct_H.shape[0],)\n",
    "incorrect_H = incorrect_H.reshape(incorrect_H.shape[0],)"
   ]
  },
  {
   "cell_type": "code",
   "execution_count": 17,
   "metadata": {},
   "outputs": [
    {
     "data": {
      "text/plain": [
       "array([ 1.00625000e+02,  9.73125000e+01,  8.66875000e+01,  8.60000000e+01,\n",
       "        7.61250000e+01,  5.38750000e+01,  4.29382324e-01, -6.96411133e-01,\n",
       "        9.41406250e-01,  5.15869141e-01, -2.40814209e-01, -1.04980469e+00,\n",
       "       -2.85498047e+00, -1.36181641e+00,  4.90966797e-01,  2.43701172e+00,\n",
       "        6.85729980e-02,  2.89599609e+00,  5.78125000e-01,  9.99511719e-01,\n",
       "        9.49707031e-01,  5.07324219e-01,  5.65917969e-01,  4.86083984e-01,\n",
       "        1.08426492e+02,  9.76433094e+01,  7.83632129e+01,  9.04464862e+01,\n",
       "        7.09784337e+01,  5.92654496e+01])"
      ]
     },
     "execution_count": 17,
     "metadata": {},
     "output_type": "execute_result"
    }
   ],
   "source": [
    "combos7.combo_features[0]"
   ]
  },
  {
   "cell_type": "code",
   "execution_count": 18,
   "metadata": {},
   "outputs": [],
   "source": [
    "import matplotlib.pyplot as plt\n",
    "from consistent_plots import hist, hist2d"
   ]
  },
  {
   "cell_type": "code",
   "execution_count": 19,
   "metadata": {},
   "outputs": [],
   "source": [
    "def norm_hist(arr, bins=100):\n",
    "    n, b = np.histogram(arr, bins=bins)\n",
    "    x = (b[:-1] + b[1:]) / 2\n",
    "    \n",
    "    return n/n.max(), b, x"
   ]
  },
  {
   "cell_type": "code",
   "execution_count": 20,
   "metadata": {},
   "outputs": [
    {
     "data": {
      "application/vnd.jupyter.widget-view+json": {
       "model_id": "e1458bd9bef44a18b9840d9f0c4c600f",
       "version_major": 2,
       "version_minor": 0
      },
      "text/plain": [
       "Canvas(toolbar=Toolbar(toolitems=[('Home', 'Reset original view', 'home', 'home'), ('Back', 'Back to previous …"
      ]
     },
     "metadata": {},
     "output_type": "display_data"
    }
   ],
   "source": [
    "fig, ax = plt.subplots()\n",
    "\n",
    "ax.set_title(r\"$^7C_6$ Combinations Normalized\")\n",
    "\n",
    "n7_1, b7, x7 = norm_hist(incorrect_H, bins=np.linspace(0,1000,100))\n",
    "n7_2, b7, x7 = norm_hist(correct_H, bins=np.linspace(0,1000,100))\n",
    "\n",
    "hist(ax, x7, weights=n7_1, bins=b7, label='Incorrect')\n",
    "hist(ax, x7, weights=n7_2, bins=b7, label='Correct')\n",
    "ax.legend(fontsize='small', loc=9)\n",
    "\n",
    "ax.set_xlabel(r'Dijet Invariant Mass [GeV]')\n",
    "ax.set_ylabel('AU')\n",
    "\n",
    "plt.show()"
   ]
  },
  {
   "cell_type": "code",
   "execution_count": 21,
   "metadata": {},
   "outputs": [
    {
     "data": {
      "application/vnd.jupyter.widget-view+json": {
       "model_id": "c26f231ecdab4631b9682050e236a68e",
       "version_major": 2,
       "version_minor": 0
      },
      "text/plain": [
       "Canvas(toolbar=Toolbar(toolitems=[('Home', 'Reset original view', 'home', 'home'), ('Back', 'Back to previous …"
      ]
     },
     "metadata": {},
     "output_type": "display_data"
    }
   ],
   "source": [
    "fig, ax = plt.subplots()\n",
    "\n",
    "ax.set_title(r\"$^7C_6$ Combinations Normalized\")\n",
    "\n",
    "n7_0, b7, x7 = norm_hist(incorrect_H[HX_b1_mask], bins=np.linspace(0,600,100))\n",
    "n7_1, b7, x7 = norm_hist(incorrect_H[HX_b2_mask], bins=np.linspace(0,600,100))\n",
    "n7_2, b7, x7 = norm_hist(HX_p4, bins=np.linspace(0,600,100))\n",
    "\n",
    "hist(ax, x7, weights=n7_0, bins=b7, label='HX b1')\n",
    "hist(ax, x7, weights=n7_1, bins=b7, label='HX b2')\n",
    "hist(ax, x7, weights=n7_2, bins=b7, label='True HX')\n",
    "ax.legend(fontsize='small', loc=9)\n",
    "\n",
    "ax.set_xlabel(r'Dijet Invariant Mass [GeV]')\n",
    "ax.set_ylabel('AU')\n",
    "\n",
    "plt.show()"
   ]
  },
  {
   "cell_type": "code",
   "execution_count": 22,
   "metadata": {},
   "outputs": [
    {
     "data": {
      "application/vnd.jupyter.widget-view+json": {
       "model_id": "764d0cb543604ea4a984a8c71baf45d2",
       "version_major": 2,
       "version_minor": 0
      },
      "text/plain": [
       "Canvas(toolbar=Toolbar(toolitems=[('Home', 'Reset original view', 'home', 'home'), ('Back', 'Back to previous …"
      ]
     },
     "metadata": {},
     "output_type": "display_data"
    }
   ],
   "source": [
    "fig, ax = plt.subplots()\n",
    "\n",
    "ax.set_title(r\"$^7C_6$ Combinations Normalized\")\n",
    "\n",
    "n7_0, b7, x7 = norm_hist(incorrect_H[H1_b1_mask], bins=np.linspace(0,600,100))\n",
    "n7_1, b7, x7 = norm_hist(incorrect_H[H1_b2_mask], bins=np.linspace(0,600,100))\n",
    "n7_2, b7, x7 = norm_hist(H1_p4, bins=np.linspace(0,600,100))\n",
    "\n",
    "hist(ax, x7, weights=n7_0, bins=b7, label='H1 b1')\n",
    "hist(ax, x7, weights=n7_1, bins=b7, label='H1 b2')\n",
    "hist(ax, x7, weights=n7_2, bins=b7, label='True H1')\n",
    "ax.legend(fontsize='small', loc=9)\n",
    "\n",
    "ax.set_xlabel(r'Dijet Invariant Mass [GeV]')\n",
    "ax.set_ylabel('AU')\n",
    "\n",
    "plt.show()"
   ]
  },
  {
   "cell_type": "code",
   "execution_count": 23,
   "metadata": {},
   "outputs": [
    {
     "data": {
      "application/vnd.jupyter.widget-view+json": {
       "model_id": "8f51bd13139f496fbd3ee7608d20b5e9",
       "version_major": 2,
       "version_minor": 0
      },
      "text/plain": [
       "Canvas(toolbar=Toolbar(toolitems=[('Home', 'Reset original view', 'home', 'home'), ('Back', 'Back to previous …"
      ]
     },
     "metadata": {},
     "output_type": "display_data"
    }
   ],
   "source": [
    "fig, ax = plt.subplots()\n",
    "\n",
    "ax.set_title(r\"$^7C_6$ Combinations Normalized\")\n",
    "\n",
    "n7_0, b7, x7 = norm_hist(incorrect_H[H2_b1_mask], bins=np.linspace(0,600,100))\n",
    "n7_1, b7, x7 = norm_hist(incorrect_H[H2_b2_mask], bins=np.linspace(0,600,100))\n",
    "n7_2, b7, x7 = norm_hist(H2_p4, bins=np.linspace(0,600,100))\n",
    "\n",
    "hist(ax, x7, weights=n7_0, bins=b7, label='H2 b1')\n",
    "hist(ax, x7, weights=n7_1, bins=b7, label='H2 b2')\n",
    "hist(ax, x7, weights=n7_2, bins=b7, label='True H2')\n",
    "ax.legend(fontsize='small', loc=9)\n",
    "\n",
    "ax.set_xlabel(r'Dijet Invariant Mass [GeV]')\n",
    "ax.set_ylabel('AU')\n",
    "\n",
    "plt.show()"
   ]
  },
  {
   "cell_type": "code",
   "execution_count": 24,
   "metadata": {},
   "outputs": [
    {
     "data": {
      "application/vnd.jupyter.widget-view+json": {
       "model_id": "38b32b6529664140b7a1df4649cff499",
       "version_major": 2,
       "version_minor": 0
      },
      "text/plain": [
       "Canvas(toolbar=Toolbar(toolitems=[('Home', 'Reset original view', 'home', 'home'), ('Back', 'Back to previous …"
      ]
     },
     "metadata": {},
     "output_type": "display_data"
    }
   ],
   "source": [
    "fig, axs = plt.subplots(nrows=1, ncols=2, figsize=(10,3))\n",
    "\n",
    "ax = axs[0]\n",
    "ax.set_title(r\"$^7C_6$ Combinations Normalized\")\n",
    "\n",
    "n7_1, b7, x7 = norm_hist(incorrect_H[scores_7[~combos7.sgnl_mask] <= 0.8], bins=np.linspace(0,1000,100))\n",
    "n7_2, b7, x7 = norm_hist(incorrect_H[scores_7[~combos7.sgnl_mask] > 0.8], bins=np.linspace(0,1000,100))\n",
    "\n",
    "hist(ax, x7, weights=n7_1, bins=b7, label='Low score')\n",
    "hist(ax, x7, weights=n7_2, bins=b7, label='High Score')\n",
    "ax.legend(fontsize='small', loc=9)\n",
    "\n",
    "ax.set_xlabel('Incorrect Higgs mass')\n",
    "ax.set_ylabel('AU')\n",
    "\n",
    "ax = axs[1]\n",
    "ax.set_title(r\"$^7C_6$ Combinations\")\n",
    "\n",
    "n7_1, b7 = np.histogram(incorrect_H[scores_7[~combos7.sgnl_mask] <= 0.8], bins=np.linspace(0,1000,100))\n",
    "n7_2, b7 = np.histogram(incorrect_H[scores_7[~combos7.sgnl_mask] > 0.8], bins=np.linspace(0,1000,100))\n",
    "\n",
    "hist(ax, x7, weights=n7_1, bins=b7, label='Low score')\n",
    "hist(ax, x7, weights=n7_2, bins=b7, label='High Score')\n",
    "ax.legend(fontsize='small', loc=9)\n",
    "\n",
    "ax.set_xlabel('Incorrect Higgs mass')\n",
    "ax.set_ylabel('AU')\n",
    "\n",
    "plt.show()"
   ]
  },
  {
   "cell_type": "code",
   "execution_count": 25,
   "metadata": {},
   "outputs": [
    {
     "data": {
      "application/vnd.jupyter.widget-view+json": {
       "model_id": "c69f723ef24e44fe96f51898155e1ba7",
       "version_major": 2,
       "version_minor": 0
      },
      "text/plain": [
       "Canvas(toolbar=Toolbar(toolitems=[('Home', 'Reset original view', 'home', 'home'), ('Back', 'Back to previous …"
      ]
     },
     "metadata": {},
     "output_type": "display_data"
    }
   ],
   "source": [
    "fig, ax = plt.subplots()\n",
    "\n",
    "n, x, y, im = hist2d(ax, incorrect_H, scores_7[~combos7.sgnl_mask], xbins=np.linspace(0,500,100))\n",
    "plt.colorbar(im, ax=ax)\n",
    "\n",
    "ax.set_ylabel(\"Assigned Score\")\n",
    "\n",
    "plt.show()"
   ]
  },
  {
   "cell_type": "code",
   "execution_count": null,
   "metadata": {},
   "outputs": [],
   "source": []
  },
  {
   "cell_type": "code",
   "execution_count": 26,
   "metadata": {},
   "outputs": [
    {
     "data": {
      "application/vnd.jupyter.widget-view+json": {
       "model_id": "0b5f101ed5644e889eca9b13e9794423",
       "version_major": 2,
       "version_minor": 0
      },
      "text/plain": [
       "Canvas(toolbar=Toolbar(toolitems=[('Home', 'Reset original view', 'home', 'home'), ('Back', 'Back to previous …"
      ]
     },
     "metadata": {},
     "output_type": "display_data"
    }
   ],
   "source": [
    "fig, ax = plt.subplots()\n",
    "\n",
    "ax.set_title(r\"$^7C_6$ Combinations Normalized\")\n",
    "\n",
    "n7_0, b7, x7 = norm_hist(bkgd_scores_7[HX_b1_mask], bins=np.linspace(0,1.01,100))\n",
    "n7_1, b7, x7 = norm_hist(bkgd_scores_7[HX_b2_mask], bins=np.linspace(0,1.01,100))\n",
    "\n",
    "hist(ax, x7, weights=n7_0, bins=b7, label='HX b1')\n",
    "hist(ax, x7, weights=n7_1, bins=b7, label='HX b2')\n",
    "# hist(ax, x7, weights=n7_2, bins=b7, label='True H2')\n",
    "ax.legend(fontsize='small', loc=9)\n",
    "\n",
    "ax.set_xlabel(r'Assigned Score')\n",
    "ax.set_ylabel('AU')\n",
    "\n",
    "plt.show()"
   ]
  },
  {
   "cell_type": "code",
   "execution_count": 27,
   "metadata": {},
   "outputs": [
    {
     "data": {
      "application/vnd.jupyter.widget-view+json": {
       "model_id": "a2e5836d66944690a7c659834aaa16e8",
       "version_major": 2,
       "version_minor": 0
      },
      "text/plain": [
       "Canvas(toolbar=Toolbar(toolitems=[('Home', 'Reset original view', 'home', 'home'), ('Back', 'Back to previous …"
      ]
     },
     "metadata": {},
     "output_type": "display_data"
    }
   ],
   "source": [
    "fig, ax = plt.subplots()\n",
    "\n",
    "ax.set_title(r\"$^7C_6$ Combinations Normalized\")\n",
    "\n",
    "n7_0, b7, x7 = norm_hist(bkgd_scores_7[H1_b1_mask], bins=np.linspace(0,1.01,100))\n",
    "n7_1, b7, x7 = norm_hist(bkgd_scores_7[H1_b2_mask], bins=np.linspace(0,1.01,100))\n",
    "\n",
    "hist(ax, x7, weights=n7_0, bins=b7, label='H1 b1')\n",
    "hist(ax, x7, weights=n7_1, bins=b7, label='H1 b2')\n",
    "# hist(ax, x7, weights=n7_2, bins=b7, label='True H2')\n",
    "ax.legend(fontsize='small', loc=9)\n",
    "\n",
    "ax.set_xlabel(r'Assigned Score')\n",
    "ax.set_ylabel('AU')\n",
    "\n",
    "plt.show()"
   ]
  },
  {
   "cell_type": "code",
   "execution_count": 28,
   "metadata": {},
   "outputs": [
    {
     "data": {
      "application/vnd.jupyter.widget-view+json": {
       "model_id": "17d8ab48c2634bab945ffb49fea70d4e",
       "version_major": 2,
       "version_minor": 0
      },
      "text/plain": [
       "Canvas(toolbar=Toolbar(toolitems=[('Home', 'Reset original view', 'home', 'home'), ('Back', 'Back to previous …"
      ]
     },
     "metadata": {},
     "output_type": "display_data"
    }
   ],
   "source": [
    "fig, ax = plt.subplots()\n",
    "\n",
    "ax.set_title(r\"$^7C_6$ Combinations Normalized\")\n",
    "\n",
    "n7_0, b7, x7 = norm_hist(bkgd_scores_7[H2_b1_mask], bins=np.linspace(0,1.01,100))\n",
    "n7_1, b7, x7 = norm_hist(bkgd_scores_7[H2_b2_mask], bins=np.linspace(0,1.01,100))\n",
    "\n",
    "hist(ax, x7, weights=n7_0, bins=b7, label='H2 b1')\n",
    "hist(ax, x7, weights=n7_1, bins=b7, label='H2 b2')\n",
    "# hist(ax, x7, weights=n7_2, bins=b7, label='True H2')\n",
    "ax.legend(fontsize='small', loc=9)\n",
    "\n",
    "ax.set_xlabel(r'Assigned Score')\n",
    "ax.set_ylabel('AU')\n",
    "\n",
    "plt.show()"
   ]
  },
  {
   "cell_type": "code",
   "execution_count": null,
   "metadata": {},
   "outputs": [],
   "source": []
  },
  {
   "cell_type": "code",
   "execution_count": null,
   "metadata": {},
   "outputs": [],
   "source": []
  }
 ],
 "metadata": {
  "interpreter": {
   "hash": "1b7750746940cad55290eceb0294b409311577204cbc8d296288c7b6047f6ec1"
  },
  "kernelspec": {
   "display_name": "Python 3",
   "language": "python",
   "name": "python3"
  },
  "language_info": {
   "codemirror_mode": {
    "name": "ipython",
    "version": 3
   },
   "file_extension": ".py",
   "mimetype": "text/x-python",
   "name": "python",
   "nbconvert_exporter": "python",
   "pygments_lexer": "ipython3",
   "version": "3.8.10"
  },
  "widgets": {
   "application/vnd.jupyter.widget-state+json": {
    "state": {
     "0b5f101ed5644e889eca9b13e9794423": {
      "model_module": "jupyter-matplotlib",
      "model_module_version": "^0.8.3",
      "model_name": "MPLCanvasModel",
      "state": {
       "_cursor": "default",
       "_figure_label": "Figure 7",
       "_height": 480,
       "_width": 640,
       "layout": "IPY_MODEL_8cab54a85a4d4faea5326abe0c0d756d",
       "toolbar": "IPY_MODEL_44f02633cdce4467a3566efaea785dc6",
       "toolbar_position": "left"
      }
     },
     "17d8ab48c2634bab945ffb49fea70d4e": {
      "model_module": "jupyter-matplotlib",
      "model_module_version": "^0.8.3",
      "model_name": "MPLCanvasModel",
      "state": {
       "_cursor": "default",
       "_figure_label": "Figure 9",
       "_height": 480,
       "_width": 640,
       "layout": "IPY_MODEL_bdb9bec9c3574abc90a7e1b3b2906189",
       "toolbar": "IPY_MODEL_8ad90c3b36f74a8f9a6d6453b924c2ae",
       "toolbar_position": "left"
      }
     },
     "2b3bb56269e648f6929e29276130a273": {
      "model_module": "@jupyter-widgets/base",
      "model_module_version": "1.2.0",
      "model_name": "LayoutModel",
      "state": {}
     },
     "38b32b6529664140b7a1df4649cff499": {
      "model_module": "jupyter-matplotlib",
      "model_module_version": "^0.8.3",
      "model_name": "MPLCanvasModel",
      "state": {
       "_cursor": "default",
       "_figure_label": "Figure 5",
       "_height": 300,
       "_width": 1000,
       "layout": "IPY_MODEL_c7966f18a0644b7ca1ffc86ded6a4a69",
       "toolbar": "IPY_MODEL_4de595dbca6542748be03fd284448e6e",
       "toolbar_position": "left"
      }
     },
     "3ecf100df66b46b0aee72d97899fdebc": {
      "model_module": "@jupyter-widgets/base",
      "model_module_version": "1.2.0",
      "model_name": "LayoutModel",
      "state": {}
     },
     "44f02633cdce4467a3566efaea785dc6": {
      "model_module": "jupyter-matplotlib",
      "model_module_version": "^0.8.3",
      "model_name": "ToolbarModel",
      "state": {
       "layout": "IPY_MODEL_4708917f2c16480eaf669b77455ae388",
       "toolitems": [
        [
         "Home",
         "Reset original view",
         "home",
         "home"
        ],
        [
         "Back",
         "Back to previous view",
         "arrow-left",
         "back"
        ],
        [
         "Forward",
         "Forward to next view",
         "arrow-right",
         "forward"
        ],
        [
         "Pan",
         "Left button pans, Right button zooms\nx/y fixes axis, CTRL fixes aspect",
         "arrows",
         "pan"
        ],
        [
         "Zoom",
         "Zoom to rectangle\nx/y fixes axis, CTRL fixes aspect",
         "square-o",
         "zoom"
        ],
        [
         "Download",
         "Download plot",
         "floppy-o",
         "save_figure"
        ]
       ]
      }
     },
     "4708917f2c16480eaf669b77455ae388": {
      "model_module": "@jupyter-widgets/base",
      "model_module_version": "1.2.0",
      "model_name": "LayoutModel",
      "state": {}
     },
     "4de595dbca6542748be03fd284448e6e": {
      "model_module": "jupyter-matplotlib",
      "model_module_version": "^0.8.3",
      "model_name": "ToolbarModel",
      "state": {
       "layout": "IPY_MODEL_f83bfc5964b04d9eb669b28d5a18cf9c",
       "toolitems": [
        [
         "Home",
         "Reset original view",
         "home",
         "home"
        ],
        [
         "Back",
         "Back to previous view",
         "arrow-left",
         "back"
        ],
        [
         "Forward",
         "Forward to next view",
         "arrow-right",
         "forward"
        ],
        [
         "Pan",
         "Left button pans, Right button zooms\nx/y fixes axis, CTRL fixes aspect",
         "arrows",
         "pan"
        ],
        [
         "Zoom",
         "Zoom to rectangle\nx/y fixes axis, CTRL fixes aspect",
         "square-o",
         "zoom"
        ],
        [
         "Download",
         "Download plot",
         "floppy-o",
         "save_figure"
        ]
       ]
      }
     },
     "5909ada2f06340618d8d004343aa4b81": {
      "model_module": "@jupyter-widgets/base",
      "model_module_version": "1.2.0",
      "model_name": "LayoutModel",
      "state": {}
     },
     "5928064ca9d54e83961d3e1a8c590641": {
      "model_module": "@jupyter-widgets/base",
      "model_module_version": "1.2.0",
      "model_name": "LayoutModel",
      "state": {}
     },
     "5c29582153654d409e0c68c3044d317d": {
      "model_module": "@jupyter-widgets/base",
      "model_module_version": "1.2.0",
      "model_name": "LayoutModel",
      "state": {}
     },
     "6026d7e9684546dc92a823a3764f42a6": {
      "model_module": "@jupyter-widgets/base",
      "model_module_version": "1.2.0",
      "model_name": "LayoutModel",
      "state": {}
     },
     "71de28fca0814ff396eef170b9c640a2": {
      "model_module": "jupyter-matplotlib",
      "model_module_version": "^0.8.3",
      "model_name": "ToolbarModel",
      "state": {
       "layout": "IPY_MODEL_b79761a1c3024f159fc3824d4139f559",
       "toolitems": [
        [
         "Home",
         "Reset original view",
         "home",
         "home"
        ],
        [
         "Back",
         "Back to previous view",
         "arrow-left",
         "back"
        ],
        [
         "Forward",
         "Forward to next view",
         "arrow-right",
         "forward"
        ],
        [
         "Pan",
         "Left button pans, Right button zooms\nx/y fixes axis, CTRL fixes aspect",
         "arrows",
         "pan"
        ],
        [
         "Zoom",
         "Zoom to rectangle\nx/y fixes axis, CTRL fixes aspect",
         "square-o",
         "zoom"
        ],
        [
         "Download",
         "Download plot",
         "floppy-o",
         "save_figure"
        ]
       ]
      }
     },
     "764d0cb543604ea4a984a8c71baf45d2": {
      "model_module": "jupyter-matplotlib",
      "model_module_version": "^0.8.3",
      "model_name": "MPLCanvasModel",
      "state": {
       "_cursor": "default",
       "_figure_label": "Figure 3",
       "_height": 480,
       "_width": 640,
       "layout": "IPY_MODEL_3ecf100df66b46b0aee72d97899fdebc",
       "toolbar": "IPY_MODEL_7b4b9e2767434cf9a168ac755067c54f",
       "toolbar_position": "left"
      }
     },
     "7b4b9e2767434cf9a168ac755067c54f": {
      "model_module": "jupyter-matplotlib",
      "model_module_version": "^0.8.3",
      "model_name": "ToolbarModel",
      "state": {
       "layout": "IPY_MODEL_aae82190e6b7471d9693963ff09a2258",
       "toolitems": [
        [
         "Home",
         "Reset original view",
         "home",
         "home"
        ],
        [
         "Back",
         "Back to previous view",
         "arrow-left",
         "back"
        ],
        [
         "Forward",
         "Forward to next view",
         "arrow-right",
         "forward"
        ],
        [
         "Pan",
         "Left button pans, Right button zooms\nx/y fixes axis, CTRL fixes aspect",
         "arrows",
         "pan"
        ],
        [
         "Zoom",
         "Zoom to rectangle\nx/y fixes axis, CTRL fixes aspect",
         "square-o",
         "zoom"
        ],
        [
         "Download",
         "Download plot",
         "floppy-o",
         "save_figure"
        ]
       ]
      }
     },
     "7d1ae31fb7ed4840a9adc81481c8227c": {
      "model_module": "@jupyter-widgets/base",
      "model_module_version": "1.2.0",
      "model_name": "LayoutModel",
      "state": {}
     },
     "8ad90c3b36f74a8f9a6d6453b924c2ae": {
      "model_module": "jupyter-matplotlib",
      "model_module_version": "^0.8.3",
      "model_name": "ToolbarModel",
      "state": {
       "layout": "IPY_MODEL_dae021911f0f47b29aaf231ead7c5bd9",
       "toolitems": [
        [
         "Home",
         "Reset original view",
         "home",
         "home"
        ],
        [
         "Back",
         "Back to previous view",
         "arrow-left",
         "back"
        ],
        [
         "Forward",
         "Forward to next view",
         "arrow-right",
         "forward"
        ],
        [
         "Pan",
         "Left button pans, Right button zooms\nx/y fixes axis, CTRL fixes aspect",
         "arrows",
         "pan"
        ],
        [
         "Zoom",
         "Zoom to rectangle\nx/y fixes axis, CTRL fixes aspect",
         "square-o",
         "zoom"
        ],
        [
         "Download",
         "Download plot",
         "floppy-o",
         "save_figure"
        ]
       ]
      }
     },
     "8cab54a85a4d4faea5326abe0c0d756d": {
      "model_module": "@jupyter-widgets/base",
      "model_module_version": "1.2.0",
      "model_name": "LayoutModel",
      "state": {}
     },
     "8f51bd13139f496fbd3ee7608d20b5e9": {
      "model_module": "jupyter-matplotlib",
      "model_module_version": "^0.8.3",
      "model_name": "MPLCanvasModel",
      "state": {
       "_cursor": "default",
       "_figure_label": "Figure 4",
       "_height": 480,
       "_width": 640,
       "layout": "IPY_MODEL_b4781982b8084d3a9ad779c983cff627",
       "toolbar": "IPY_MODEL_be8b34d6838741bbad6348c5a11a7476",
       "toolbar_position": "left"
      }
     },
     "a2e5836d66944690a7c659834aaa16e8": {
      "model_module": "jupyter-matplotlib",
      "model_module_version": "^0.8.3",
      "model_name": "MPLCanvasModel",
      "state": {
       "_cursor": "default",
       "_figure_label": "Figure 8",
       "_height": 480,
       "_width": 640,
       "layout": "IPY_MODEL_fb12c0858f764d0c96e1a25f557bae5b",
       "toolbar": "IPY_MODEL_71de28fca0814ff396eef170b9c640a2",
       "toolbar_position": "left"
      }
     },
     "aae82190e6b7471d9693963ff09a2258": {
      "model_module": "@jupyter-widgets/base",
      "model_module_version": "1.2.0",
      "model_name": "LayoutModel",
      "state": {}
     },
     "b4781982b8084d3a9ad779c983cff627": {
      "model_module": "@jupyter-widgets/base",
      "model_module_version": "1.2.0",
      "model_name": "LayoutModel",
      "state": {}
     },
     "b79761a1c3024f159fc3824d4139f559": {
      "model_module": "@jupyter-widgets/base",
      "model_module_version": "1.2.0",
      "model_name": "LayoutModel",
      "state": {}
     },
     "bd75599f5685461d8c84344fe2b0c9a2": {
      "model_module": "@jupyter-widgets/base",
      "model_module_version": "1.2.0",
      "model_name": "LayoutModel",
      "state": {}
     },
     "bdb9bec9c3574abc90a7e1b3b2906189": {
      "model_module": "@jupyter-widgets/base",
      "model_module_version": "1.2.0",
      "model_name": "LayoutModel",
      "state": {}
     },
     "be8b34d6838741bbad6348c5a11a7476": {
      "model_module": "jupyter-matplotlib",
      "model_module_version": "^0.8.3",
      "model_name": "ToolbarModel",
      "state": {
       "layout": "IPY_MODEL_7d1ae31fb7ed4840a9adc81481c8227c",
       "toolitems": [
        [
         "Home",
         "Reset original view",
         "home",
         "home"
        ],
        [
         "Back",
         "Back to previous view",
         "arrow-left",
         "back"
        ],
        [
         "Forward",
         "Forward to next view",
         "arrow-right",
         "forward"
        ],
        [
         "Pan",
         "Left button pans, Right button zooms\nx/y fixes axis, CTRL fixes aspect",
         "arrows",
         "pan"
        ],
        [
         "Zoom",
         "Zoom to rectangle\nx/y fixes axis, CTRL fixes aspect",
         "square-o",
         "zoom"
        ],
        [
         "Download",
         "Download plot",
         "floppy-o",
         "save_figure"
        ]
       ]
      }
     },
     "c26f231ecdab4631b9682050e236a68e": {
      "model_module": "jupyter-matplotlib",
      "model_module_version": "^0.8.3",
      "model_name": "MPLCanvasModel",
      "state": {
       "_cursor": "default",
       "_figure_label": "Figure 2",
       "_height": 480,
       "_width": 640,
       "layout": "IPY_MODEL_5928064ca9d54e83961d3e1a8c590641",
       "toolbar": "IPY_MODEL_e629eae11a1945a9ac477700f643f377",
       "toolbar_position": "left"
      }
     },
     "c69f723ef24e44fe96f51898155e1ba7": {
      "model_module": "jupyter-matplotlib",
      "model_module_version": "^0.8.3",
      "model_name": "MPLCanvasModel",
      "state": {
       "_cursor": "default",
       "_figure_label": "Figure 6",
       "_height": 480,
       "_width": 640,
       "layout": "IPY_MODEL_5c29582153654d409e0c68c3044d317d",
       "toolbar": "IPY_MODEL_e428f7d2b34b4ddbab359ae456dee554",
       "toolbar_position": "left"
      }
     },
     "c7966f18a0644b7ca1ffc86ded6a4a69": {
      "model_module": "@jupyter-widgets/base",
      "model_module_version": "1.2.0",
      "model_name": "LayoutModel",
      "state": {}
     },
     "ce9a80c967804655987acd7dbcc827b0": {
      "model_module": "jupyter-matplotlib",
      "model_module_version": "^0.8.3",
      "model_name": "ToolbarModel",
      "state": {
       "layout": "IPY_MODEL_2b3bb56269e648f6929e29276130a273",
       "toolitems": [
        [
         "Home",
         "Reset original view",
         "home",
         "home"
        ],
        [
         "Back",
         "Back to previous view",
         "arrow-left",
         "back"
        ],
        [
         "Forward",
         "Forward to next view",
         "arrow-right",
         "forward"
        ],
        [
         "Pan",
         "Left button pans, Right button zooms\nx/y fixes axis, CTRL fixes aspect",
         "arrows",
         "pan"
        ],
        [
         "Zoom",
         "Zoom to rectangle\nx/y fixes axis, CTRL fixes aspect",
         "square-o",
         "zoom"
        ],
        [
         "Download",
         "Download plot",
         "floppy-o",
         "save_figure"
        ]
       ]
      }
     },
     "dae021911f0f47b29aaf231ead7c5bd9": {
      "model_module": "@jupyter-widgets/base",
      "model_module_version": "1.2.0",
      "model_name": "LayoutModel",
      "state": {}
     },
     "e1458bd9bef44a18b9840d9f0c4c600f": {
      "model_module": "jupyter-matplotlib",
      "model_module_version": "^0.8.3",
      "model_name": "MPLCanvasModel",
      "state": {
       "_cursor": "default",
       "_figure_label": "Figure 1",
       "_height": 480,
       "_width": 640,
       "layout": "IPY_MODEL_6026d7e9684546dc92a823a3764f42a6",
       "toolbar": "IPY_MODEL_ce9a80c967804655987acd7dbcc827b0",
       "toolbar_position": "left"
      }
     },
     "e428f7d2b34b4ddbab359ae456dee554": {
      "model_module": "jupyter-matplotlib",
      "model_module_version": "^0.8.3",
      "model_name": "ToolbarModel",
      "state": {
       "layout": "IPY_MODEL_bd75599f5685461d8c84344fe2b0c9a2",
       "toolitems": [
        [
         "Home",
         "Reset original view",
         "home",
         "home"
        ],
        [
         "Back",
         "Back to previous view",
         "arrow-left",
         "back"
        ],
        [
         "Forward",
         "Forward to next view",
         "arrow-right",
         "forward"
        ],
        [
         "Pan",
         "Left button pans, Right button zooms\nx/y fixes axis, CTRL fixes aspect",
         "arrows",
         "pan"
        ],
        [
         "Zoom",
         "Zoom to rectangle\nx/y fixes axis, CTRL fixes aspect",
         "square-o",
         "zoom"
        ],
        [
         "Download",
         "Download plot",
         "floppy-o",
         "save_figure"
        ]
       ]
      }
     },
     "e629eae11a1945a9ac477700f643f377": {
      "model_module": "jupyter-matplotlib",
      "model_module_version": "^0.8.3",
      "model_name": "ToolbarModel",
      "state": {
       "layout": "IPY_MODEL_5909ada2f06340618d8d004343aa4b81",
       "toolitems": [
        [
         "Home",
         "Reset original view",
         "home",
         "home"
        ],
        [
         "Back",
         "Back to previous view",
         "arrow-left",
         "back"
        ],
        [
         "Forward",
         "Forward to next view",
         "arrow-right",
         "forward"
        ],
        [
         "Pan",
         "Left button pans, Right button zooms\nx/y fixes axis, CTRL fixes aspect",
         "arrows",
         "pan"
        ],
        [
         "Zoom",
         "Zoom to rectangle\nx/y fixes axis, CTRL fixes aspect",
         "square-o",
         "zoom"
        ],
        [
         "Download",
         "Download plot",
         "floppy-o",
         "save_figure"
        ]
       ]
      }
     },
     "f83bfc5964b04d9eb669b28d5a18cf9c": {
      "model_module": "@jupyter-widgets/base",
      "model_module_version": "1.2.0",
      "model_name": "LayoutModel",
      "state": {}
     },
     "fb12c0858f764d0c96e1a25f557bae5b": {
      "model_module": "@jupyter-widgets/base",
      "model_module_version": "1.2.0",
      "model_name": "LayoutModel",
      "state": {}
     }
    },
    "version_major": 2,
    "version_minor": 0
   }
  }
 },
 "nbformat": 4,
 "nbformat_minor": 4
}
