{
 "cells": [
  {
   "cell_type": "markdown",
   "id": "d3df1e83",
   "metadata": {},
   "source": [
    "### Import libraries"
   ]
  },
  {
   "cell_type": "code",
   "execution_count": 1,
   "id": "3a21176f",
   "metadata": {},
   "outputs": [
    {
     "name": "stdout",
     "output_type": "stream",
     "text": [
      "Starting\n"
     ]
    }
   ],
   "source": [
    "print(\"Starting\")"
   ]
  },
  {
   "cell_type": "code",
   "execution_count": 2,
   "id": "02691f42",
   "metadata": {},
   "outputs": [],
   "source": [
    "import awkward as ak\n",
    "from consistent_plots import hist, hist2d\n",
    "import matplotlib as mpl\n",
    "mpl.style.use('../../presentation.mplstyle')\n",
    "mpl.rcParams['font.size'] = 14\n",
    "import matplotlib.pyplot as plt\n",
    "%matplotlib widget\n",
    "import numpy as np\n",
    "from trsm import TRSM, combos\n",
    "import vector"
   ]
  },
  {
   "cell_type": "code",
   "execution_count": 3,
   "id": "f709aec1",
   "metadata": {
    "tags": []
   },
   "outputs": [],
   "source": [
    "# mpl.rcParams.keys()"
   ]
  },
  {
   "cell_type": "code",
   "execution_count": 4,
   "id": "ac2dc26d",
   "metadata": {},
   "outputs": [],
   "source": [
    "def norm_hist(arr, bins=100):\n",
    "    n, b = np.histogram(arr, bins=bins)\n",
    "    x = (b[:-1] + b[1:]) / 2\n",
    "    \n",
    "    return n/n.max(), b, x"
   ]
  },
  {
   "cell_type": "markdown",
   "id": "1f3bcec9",
   "metadata": {},
   "source": [
    "### Load model"
   ]
  },
  {
   "cell_type": "code",
   "execution_count": 5,
   "id": "c3cc95ee",
   "metadata": {},
   "outputs": [],
   "source": [
    "from keras.models import model_from_json"
   ]
  },
  {
   "cell_type": "code",
   "execution_count": 6,
   "id": "52c819b1",
   "metadata": {},
   "outputs": [],
   "source": [
    "from pickle import load"
   ]
  },
  {
   "cell_type": "code",
   "execution_count": 7,
   "id": "f5dfed2a",
   "metadata": {},
   "outputs": [],
   "source": [
    "tag = 'lr_0pt0001_beta1_0pt1_beta2_0pt5'"
   ]
  },
  {
   "cell_type": "code",
   "execution_count": 8,
   "id": "ddd9681a",
   "metadata": {},
   "outputs": [],
   "source": [
    "json_file = open(f'../models/{tag}/model/model_1.json', 'r')\n",
    "loaded_model_json = json_file.read()\n",
    "json_file.close()\n",
    "loaded_model = model_from_json(loaded_model_json)\n",
    "loaded_model.load_weights(f'../models/{tag}/model/model_1.h5')"
   ]
  },
  {
   "cell_type": "code",
   "execution_count": 9,
   "id": "f30dd278",
   "metadata": {},
   "outputs": [],
   "source": [
    "scaler = load(open(f'../models/{tag}/model/scaler_1.pkl', 'rb'))"
   ]
  },
  {
   "cell_type": "markdown",
   "id": "dd2b014a",
   "metadata": {},
   "source": [
    "### Open ROOT file"
   ]
  },
  {
   "cell_type": "code",
   "execution_count": 10,
   "id": "5c022001",
   "metadata": {},
   "outputs": [
    {
     "name": "stdout",
     "output_type": "stream",
     "text": [
      "-- [INFO] -- \u001b[0;38;5;229m/eos/user/s/srosenzw/miniconda3/envs/work/lib/python3.8/runpy.py\u001b[0;38;5;255m -- Opening ROOT file ../../signal/skimmed/NMSSM_XYH_YToHH_6b_MX_700_MY_400_testing_set_skimmed.root with columns\n",
      "-- [INFO] -- \u001b[0;38;5;229m/eos/user/s/srosenzw/miniconda3/envs/work/lib/python3.8/runpy.py\u001b[0;38;5;255m -- Tree contains 52891 events.\n",
      "----------------------------------------------------------------------------------------------------\n",
      "                                            TABLE COLUMNS                                           \n",
      "----------------------------------------------------------------------------------------------------\n",
      "jet_pt                            jet_eta                           jet_phi                           \n",
      "jet_m                             jet_btag                          jet_qgl                           \n",
      "jet_idx                           jet_hadronFlav                    jet_partonFlav                    \n",
      "HX_b1_recojet_m                   HX_b1_recojet_pt                  HX_b1_recojet_eta                 \n",
      "HX_b1_recojet_phi                 HX_b1_recojet_ptRegressed         HX_b2_recojet_m                   \n",
      "HX_b2_recojet_pt                  HX_b2_recojet_eta                 HX_b2_recojet_phi                 \n",
      "HX_b2_recojet_ptRegressed         HY1_b1_recojet_m                  HY1_b1_recojet_pt                 \n",
      "HY1_b1_recojet_eta                HY1_b1_recojet_phi                HY1_b1_recojet_ptRegressed        \n",
      "HY1_b2_recojet_m                  HY1_b2_recojet_pt                 HY1_b2_recojet_eta                \n",
      "HY1_b2_recojet_phi                HY1_b2_recojet_ptRegressed        HY2_b1_recojet_m                  \n",
      "HY2_b1_recojet_pt                 HY2_b1_recojet_eta                HY2_b1_recojet_phi                \n",
      "HY2_b1_recojet_ptRegressed        HY2_b2_recojet_m                  HY2_b2_recojet_pt                 \n",
      "HY2_b2_recojet_eta                HY2_b2_recojet_phi                HY2_b2_recojet_ptRegressed        \n",
      "----------------------------------------------------------------------------------------------------\n"
     ]
    }
   ],
   "source": [
    "filename = f'../../signal/skimmed/NMSSM_XYH_YToHH_6b_MX_700_MY_400_testing_set_skimmed.root'\n",
    "trsm = TRSM(filename=filename)"
   ]
  },
  {
   "cell_type": "markdown",
   "id": "24d275c7",
   "metadata": {},
   "source": [
    "### Load combinations of 7 total jets"
   ]
  },
  {
   "cell_type": "code",
   "execution_count": 11,
   "id": "6cbc489a",
   "metadata": {},
   "outputs": [
    {
     "name": "stderr",
     "output_type": "stream",
     "text": [
      "100%|██████████| 52891/52891 [00:25<00:00, 2046.58it/s]\n"
     ]
    },
    {
     "name": "stdout",
     "output_type": "stream",
     "text": [
      "Total events chosen: 8052\n"
     ]
    }
   ],
   "source": [
    "combos7 = combos(trsm, 7)"
   ]
  },
  {
   "cell_type": "code",
   "execution_count": 12,
   "id": "a7d2d48a",
   "metadata": {},
   "outputs": [
    {
     "data": {
      "text/plain": [
       "(56364,)"
      ]
     },
     "execution_count": 12,
     "metadata": {},
     "output_type": "execute_result"
    }
   ],
   "source": [
    "test_features_7 = scaler.transform(combos7.combo_features)\n",
    "scores_7 = loaded_model.predict(test_features_7)[:,0]\n",
    "scores_7.shape"
   ]
  },
  {
   "cell_type": "code",
   "execution_count": 13,
   "id": "3af38353",
   "metadata": {},
   "outputs": [],
   "source": [
    "sgnl_scores_7 = scores_7[combos7.sgnl_mask]\n",
    "bkgd_scores_7 = scores_7[~combos7.sgnl_mask]"
   ]
  },
  {
   "cell_type": "code",
   "execution_count": 14,
   "id": "0dff7225",
   "metadata": {},
   "outputs": [],
   "source": [
    "import awkward as ak"
   ]
  },
  {
   "cell_type": "code",
   "execution_count": 15,
   "id": "fa765b94",
   "metadata": {},
   "outputs": [],
   "source": [
    "bkgd_parton_id = np.array((ak.flatten(combos7.bkgd_dict['partonFlav'])))\n",
    "bkgd_hadron_id = np.array((ak.flatten(combos7.bkgd_dict['hadronFlav'])))"
   ]
  },
  {
   "cell_type": "code",
   "execution_count": 16,
   "id": "2a0dc3ce",
   "metadata": {},
   "outputs": [],
   "source": [
    "swap_sgnl_idx = np.array((ak.flatten(combos7.bkgd_dict['ind'])))"
   ]
  },
  {
   "cell_type": "code",
   "execution_count": 17,
   "id": "a3fae0c8",
   "metadata": {},
   "outputs": [],
   "source": [
    "bkgd_pt = combos7.swapped_bkgd_pt\n",
    "bkgd_pt = ak.to_numpy(bkgd_pt)"
   ]
  },
  {
   "cell_type": "code",
   "execution_count": 18,
   "id": "73566aed",
   "metadata": {},
   "outputs": [],
   "source": [
    "sgnl_pt = ak.to_numpy(combos7.swapped_sgnl_pt)"
   ]
  },
  {
   "cell_type": "code",
   "execution_count": 19,
   "id": "91fc1a3b",
   "metadata": {},
   "outputs": [],
   "source": [
    "bkgd_pt = bkgd_pt.reshape(bkgd_pt.shape[0])\n",
    "sgnl_pt = sgnl_pt.reshape(sgnl_pt.shape[0])"
   ]
  },
  {
   "cell_type": "code",
   "execution_count": 20,
   "id": "99ea0c44",
   "metadata": {},
   "outputs": [],
   "source": [
    "sgnl_p4 = combos7.incorrect_sgnl_p4\n",
    "bkgd_p4 = combos7.incorrect_bkgd_p4"
   ]
  },
  {
   "cell_type": "code",
   "execution_count": 21,
   "id": "e8667fc6",
   "metadata": {},
   "outputs": [],
   "source": [
    "dR_incorrect = ak.to_numpy(combos7.incorrect_sgnl_p4.deltaR(combos7.incorrect_bkgd_p4))\n",
    "dR_incorrect = dR_incorrect.reshape(dR_incorrect.shape[0])"
   ]
  },
  {
   "cell_type": "code",
   "execution_count": 22,
   "id": "0a508411",
   "metadata": {},
   "outputs": [
    {
     "data": {
      "text/plain": [
       "0.08507203179334327"
      ]
     },
     "execution_count": 22,
     "metadata": {},
     "output_type": "execute_result"
    }
   ],
   "source": [
    "sum(dR_incorrect < 0.05) / len(dR_incorrect)"
   ]
  },
  {
   "cell_type": "code",
   "execution_count": 23,
   "id": "459b08e0",
   "metadata": {},
   "outputs": [
    {
     "data": {
      "text/plain": [
       "0.14285714285714285"
      ]
     },
     "execution_count": 23,
     "metadata": {},
     "output_type": "execute_result"
    }
   ],
   "source": [
    "1/7"
   ]
  },
  {
   "cell_type": "code",
   "execution_count": 24,
   "id": "2795cf8e",
   "metadata": {},
   "outputs": [
    {
     "name": "stdout",
     "output_type": "stream",
     "text": [
      "[[[97.3]], [[86.7]], [[101]], [[86]], ... [[156]], [[156]], [[68.9]], [[62.5]]]\n",
      "[[[-0.696]], [[0.941]], [[0.429]], [[0.516, ... [[0.0573]], [[-1.1]], [[0.0445]]]\n",
      "[[[-1.36]], [[0.491]], [[-2.85]], [[2.44, ... [[-2.26]], [[-2.86]], [[1.01]]]\n",
      "[[[15.4]], [[16.6]], [[13.2]], [[21.4]], ... [[37.1]], [[37.1]], [[16.4]], [[14.3]]]\n"
     ]
    }
   ],
   "source": [
    "print(sgnl_p4.pt[dR_incorrect  > 0.05])\n",
    "print(sgnl_p4.eta[dR_incorrect > 0.05])\n",
    "print(sgnl_p4.phi[dR_incorrect > 0.05])\n",
    "print(sgnl_p4.m[dR_incorrect   > 0.05])"
   ]
  },
  {
   "cell_type": "code",
   "execution_count": 25,
   "id": "0da4f4b0",
   "metadata": {},
   "outputs": [
    {
     "name": "stdout",
     "output_type": "stream",
     "text": [
      "[[39.6], [39.6], [39.6], [39.6], [39.6], ... [39.2], [39.2], [39.2], [39.2], [39.2]]\n",
      "[[0.19], [0.19], [0.19], [0.19], ... [-0.457], [-0.457], [-0.457], [-0.457]]\n",
      "[[-0.368], [-0.368], [-0.368], [-0.368], ... [2.74], [2.74], [2.74], [2.74]]\n",
      "[[7.28], [7.28], [7.28], [7.28], [7.28], ... [8.2], [8.2], [8.2], [8.2], [8.2]]\n"
     ]
    }
   ],
   "source": [
    "print(bkgd_p4.pt[dR_incorrect  > 0.05])\n",
    "print(bkgd_p4.eta[dR_incorrect > 0.05])\n",
    "print(bkgd_p4.phi[dR_incorrect > 0.05])\n",
    "print(bkgd_p4.m[dR_incorrect   > 0.05])"
   ]
  },
  {
   "cell_type": "code",
   "execution_count": 26,
   "id": "2bbf0ce3",
   "metadata": {},
   "outputs": [
    {
     "name": "stdout",
     "output_type": "stream",
     "text": [
      "[[[425]], [[425]], [[236]], [[49]], [[50.9, ... [[263]], [[218]], [[60]], [[60]]]\n",
      "[[[-0.203]], [[-0.203]], [[-1.66]], ... [[-1.67]], [[-1.41]], [[-1.41]]]\n",
      "[[[-1.68]], [[-1.68]], [[-2.81]], [[0.518, ... [[-1.35]], [[-1.72]], [[-1.72]]]\n",
      "[[[33]], [[33]], [[23.6]], [[10.3]], ... [[30]], [[21.6]], [[12.1]], [[12.1]]]\n"
     ]
    }
   ],
   "source": [
    "print(sgnl_p4.pt[dR_incorrect < 0.05])\n",
    "print(sgnl_p4.eta[dR_incorrect < 0.05])\n",
    "print(sgnl_p4.phi[dR_incorrect < 0.05])\n",
    "print(sgnl_p4.m[dR_incorrect < 0.05])"
   ]
  },
  {
   "cell_type": "code",
   "execution_count": 27,
   "id": "ee400bf8",
   "metadata": {},
   "outputs": [
    {
     "name": "stdout",
     "output_type": "stream",
     "text": [
      "[[425], [425], [236], [49], [50.9], [49.6, ... [263], [263], [218], [60], [60]]\n",
      "[[-0.203], [-0.203], [-1.66], [-0.719], ... [-0.618], [-1.67], [-1.41], [-1.41]]\n",
      "[[-1.68], [-1.68], [-2.81], [0.518], [1.7, ... [1.6], [-1.35], [-1.72], [-1.72]]\n",
      "[[33], [33], [23.6], [10.3], [6.72], ... [30], [30], [21.6], [12.1], [12.1]]\n"
     ]
    }
   ],
   "source": [
    "print(bkgd_p4.pt[dR_incorrect < 0.05])\n",
    "print(bkgd_p4.eta[dR_incorrect < 0.05])\n",
    "print(bkgd_p4.phi[dR_incorrect < 0.05])\n",
    "print(bkgd_p4.m[dR_incorrect < 0.05])"
   ]
  },
  {
   "cell_type": "code",
   "execution_count": 28,
   "id": "0215d08c",
   "metadata": {},
   "outputs": [
    {
     "data": {
      "application/vnd.jupyter.widget-view+json": {
       "model_id": "f26f0ee086524c1ea9249ea767ab9291",
       "version_major": 2,
       "version_minor": 0
      },
      "text/plain": [
       "Canvas(toolbar=Toolbar(toolitems=[('Home', 'Reset original view', 'home', 'home'), ('Back', 'Back to previous …"
      ]
     },
     "metadata": {},
     "output_type": "display_data"
    },
    {
     "data": {
      "text/plain": [
       "array([0.        , 0.38137943, 0.4358622 , 0.49034498, 0.54482775,\n",
       "       0.59931053, 0.6537933 , 0.70827608, 0.76275885, 0.81724163,\n",
       "       0.8717244 , 0.92620718, 0.98068995, 1.03517273, 1.0896555 ,\n",
       "       1.14413828, 1.19862105, 1.25310383, 1.3075866 , 1.36206938,\n",
       "       1.41655215, 1.47103493, 1.52551771, 1.58000048, 1.63448326,\n",
       "       1.68896603, 1.74344881, 1.79793158, 1.85241436, 1.90689713,\n",
       "       1.96137991, 2.01586268, 2.07034546, 2.12482823, 2.17931101,\n",
       "       2.23379378, 2.28827656, 2.34275933, 2.39724211, 2.45172488,\n",
       "       2.50620766, 2.56069043, 2.61517321, 2.66965598, 2.72413876,\n",
       "       2.77862153, 2.83310431, 2.88758708, 2.94206986, 2.99655264,\n",
       "       3.05103541, 3.10551819, 3.16000096, 3.21448374, 3.26896651,\n",
       "       3.32344929, 3.37793206, 3.43241484, 3.48689761, 3.54138039,\n",
       "       3.59586316, 3.65034594, 3.70482871, 3.75931149, 3.81379426,\n",
       "       3.86827704, 3.92275981, 3.97724259, 4.03172536, 4.08620814,\n",
       "       4.14069091, 4.19517369, 4.24965646, 4.30413924, 4.35862201,\n",
       "       4.41310479, 4.46758757, 4.52207034, 4.57655312, 4.63103589,\n",
       "       4.68551867, 4.74000144, 4.79448422, 4.84896699, 4.90344977,\n",
       "       4.95793254, 5.01241532, 5.06689809, 5.12138087, 5.17586364,\n",
       "       5.23034642, 5.28482919, 5.33931197, 5.39379474])"
      ]
     },
     "execution_count": 28,
     "metadata": {},
     "output_type": "execute_result"
    }
   ],
   "source": [
    "fig, ax = plt.subplots()\n",
    "\n",
    "n, b, x = hist(ax, dR_incorrect)\n",
    "ax.set_xlabel(r'$\\Delta R$ Between Swapped Jets')\n",
    "\n",
    "b[:-1][n>0]"
   ]
  },
  {
   "cell_type": "code",
   "execution_count": 29,
   "id": "e9948419",
   "metadata": {},
   "outputs": [
    {
     "data": {
      "application/vnd.jupyter.widget-view+json": {
       "model_id": "4a6f968d1faf46f59d7fd07b0259903b",
       "version_major": 2,
       "version_minor": 0
      },
      "text/plain": [
       "Canvas(toolbar=Toolbar(toolitems=[('Home', 'Reset original view', 'home', 'home'), ('Back', 'Back to previous …"
      ]
     },
     "metadata": {},
     "output_type": "display_data"
    }
   ],
   "source": [
    "fig, ax = plt.subplots()\n",
    "\n",
    "n, x, y, im = hist2d(ax, dR_incorrect, scores_7[~combos7.sgnl_mask], xbins=np.linspace(0,6,100), ybins=np.linspace(0,1.01,100))\n",
    "ax.set_xlim(0,5.5)\n",
    "plt.colorbar(im, ax=ax)\n",
    "\n",
    "ax.set_xlabel(r\"$\\Delta R$ Between Swapped Jets\")\n",
    "ax.set_ylabel(\"Assigned Score\")\n",
    "\n",
    "plt.show()"
   ]
  },
  {
   "cell_type": "code",
   "execution_count": 30,
   "id": "ea71a38e",
   "metadata": {},
   "outputs": [
    {
     "data": {
      "application/vnd.jupyter.widget-view+json": {
       "model_id": "ba3a3eebb51a4edfb7eba8e720d2814a",
       "version_major": 2,
       "version_minor": 0
      },
      "text/plain": [
       "Canvas(toolbar=Toolbar(toolitems=[('Home', 'Reset original view', 'home', 'home'), ('Back', 'Back to previous …"
      ]
     },
     "metadata": {},
     "output_type": "display_data"
    }
   ],
   "source": [
    "fig, ax = plt.subplots()\n",
    "\n",
    "n, xedges, yedges, im = hist2d(ax, sgnl_pt, bkgd_pt, xbins=np.arange(30,200), ybins=np.arange(30,200))\n",
    "plt.colorbar(im, ax=ax)\n",
    "ax.set_xlabel(r\"Signal jet $p_T$ [GeV]\")\n",
    "ax.set_ylabel(r\"Swapped jet $p_T$ [GeV]\")\n",
    "\n",
    "plt.tight_layout()\n",
    "plt.show()"
   ]
  },
  {
   "cell_type": "code",
   "execution_count": 31,
   "id": "ccd92f0c",
   "metadata": {},
   "outputs": [
    {
     "data": {
      "application/vnd.jupyter.widget-view+json": {
       "model_id": "d91c12e89e71410fa6979a3e0a2ce278",
       "version_major": 2,
       "version_minor": 0
      },
      "text/plain": [
       "Canvas(toolbar=Toolbar(toolitems=[('Home', 'Reset original view', 'home', 'home'), ('Back', 'Back to previous …"
      ]
     },
     "metadata": {},
     "output_type": "display_data"
    }
   ],
   "source": [
    "fig, ax = plt.subplots()\n",
    "\n",
    "sc = ax.scatter(sgnl_pt, bkgd_pt, c=bkgd_scores_7, cmap='rainbow', alpha=0.75, s=1, vmin=0.0, vmax=1.0)\n",
    "plt.colorbar(sc)\n",
    "ax.set_xlabel(r\"Signal jet $p_T$ [GeV]\")\n",
    "ax.set_xlim(0,500)\n",
    "ax.set_ylabel(r\"Swapped jet $p_T$ [GeV]\")\n",
    "ax.set_ylim(0,800)\n",
    "\n",
    "plt.tight_layout()\n",
    "plt.show()"
   ]
  },
  {
   "cell_type": "code",
   "execution_count": 32,
   "id": "a70c979d",
   "metadata": {},
   "outputs": [
    {
     "data": {
      "application/vnd.jupyter.widget-view+json": {
       "model_id": "a3999971783c459884de6c1c48df5477",
       "version_major": 2,
       "version_minor": 0
      },
      "text/plain": [
       "Canvas(toolbar=Toolbar(toolitems=[('Home', 'Reset original view', 'home', 'home'), ('Back', 'Back to previous …"
      ]
     },
     "metadata": {},
     "output_type": "display_data"
    }
   ],
   "source": [
    "fig, ax = plt.subplots()\n",
    "\n",
    "high_mask = bkgd_scores_7 > 0.8\n",
    "low_mask = bkgd_scores_7 <= 0.8\n",
    "\n",
    "sc = ax.scatter(sgnl_pt[low_mask], bkgd_pt[low_mask], alpha=0.75, s=1, label=r'score $\\leq$ 0.8')\n",
    "sc = ax.scatter(sgnl_pt[high_mask], bkgd_pt[high_mask], alpha=0.75, s=1, label=r'score $>$ 0.8')\n",
    "ax.set_xlabel(r\"Signal jet $p_T$ [GeV]\")\n",
    "ax.set_xlim(0,500)\n",
    "ax.set_ylabel(r\"Swapped jet $p_T$ [GeV]\")\n",
    "ax.set_ylim(0,800)\n",
    "ax.legend()\n",
    "\n",
    "plt.tight_layout()\n",
    "plt.show()"
   ]
  },
  {
   "cell_type": "code",
   "execution_count": 33,
   "id": "b07561bb",
   "metadata": {},
   "outputs": [
    {
     "data": {
      "application/vnd.jupyter.widget-view+json": {
       "model_id": "acafc663b5c4438fa558881503d8f6ca",
       "version_major": 2,
       "version_minor": 0
      },
      "text/plain": [
       "Canvas(toolbar=Toolbar(toolitems=[('Home', 'Reset original view', 'home', 'home'), ('Back', 'Back to previous …"
      ]
     },
     "metadata": {},
     "output_type": "display_data"
    }
   ],
   "source": [
    "fig, ax = plt.subplots()\n",
    "\n",
    "n, xedges, yedges, im = hist2d(ax, scores_7[~combos7.sgnl_mask], bkgd_pt, ybins=np.arange(30,200))\n",
    "plt.colorbar(im, ax=ax)\n",
    "ax.set_xlabel(\"Assigned Score\")\n",
    "ax.set_ylabel(r\"$p_T [GeV]$ of Incorrect Swapped Jet\")\n",
    "\n",
    "plt.show()"
   ]
  },
  {
   "cell_type": "code",
   "execution_count": 34,
   "id": "87f81bc1",
   "metadata": {},
   "outputs": [
    {
     "data": {
      "application/vnd.jupyter.widget-view+json": {
       "model_id": "1996dd30efd34be199cdb3e6b0bc589b",
       "version_major": 2,
       "version_minor": 0
      },
      "text/plain": [
       "Canvas(toolbar=Toolbar(toolitems=[('Home', 'Reset original view', 'home', 'home'), ('Back', 'Back to previous …"
      ]
     },
     "metadata": {},
     "output_type": "display_data"
    }
   ],
   "source": [
    "fig, ax = plt.subplots()\n",
    "\n",
    "ax.set_title(r\"$^7C_6$ Background pT\")\n",
    "\n",
    "n_7, b_7, x_7 = norm_hist(bkgd_pt[scores_7[~combos7.sgnl_mask] > 0.8]   , bins=np.linspace(0,600,100))\n",
    "w_n_7, b_7, x_7 = norm_hist(bkgd_pt[scores_7[~combos7.sgnl_mask] <= 0.8], bins=np.linspace(0,600,100))\n",
    "\n",
    "hist(ax, x_7, weights=n_7, bins=b_7, label='Score > 0.8')\n",
    "hist(ax, x_7, weights=w_n_7, bins=b_7, label='Score <= 0.8')\n",
    "ax.legend(fontsize='small', loc=9)\n",
    "\n",
    "ax.set_xlabel('Swapped bkgd pT')\n",
    "ax.set_ylabel('AU')\n",
    "\n",
    "textstr = f'Entries = {len(scores_7)}'\n",
    "props = dict(boxstyle='round', facecolor='white', alpha=1)\n",
    "ax.text(0.8, 1.02, textstr, transform=ax.transAxes, fontsize=9,\n",
    "        verticalalignment='top', bbox=props)\n",
    "\n",
    "plt.show()"
   ]
  },
  {
   "cell_type": "code",
   "execution_count": null,
   "id": "7a7606ba",
   "metadata": {},
   "outputs": [],
   "source": []
  },
  {
   "cell_type": "code",
   "execution_count": 35,
   "id": "77c9c601",
   "metadata": {},
   "outputs": [
    {
     "data": {
      "application/vnd.jupyter.widget-view+json": {
       "model_id": "4e9e2ad4d5944048b6bd27f63fd489f0",
       "version_major": 2,
       "version_minor": 0
      },
      "text/plain": [
       "Canvas(toolbar=Toolbar(toolitems=[('Home', 'Reset original view', 'home', 'home'), ('Back', 'Back to previous …"
      ]
     },
     "metadata": {},
     "output_type": "display_data"
    }
   ],
   "source": [
    "fig, ax = plt.subplots()\n",
    "\n",
    "n, xedges, yedges, im = hist2d(ax, scores_7[~combos7.sgnl_mask], bkgd_parton_id, ybins=np.arange(-5,22))\n",
    "plt.colorbar(im, ax=ax)\n",
    "ax.set_xlabel(\"Assigned Score\")\n",
    "ax.set_ylabel(\"Parton ID of Incorrect Swapped Jet\")\n",
    "\n",
    "plt.show()"
   ]
  },
  {
   "cell_type": "code",
   "execution_count": 36,
   "id": "1ad99519",
   "metadata": {},
   "outputs": [],
   "source": [
    "d_mask = bkgd_parton_id == 1\n",
    "u_mask = bkgd_parton_id == 2\n",
    "s_mask = bkgd_parton_id == 3\n",
    "c_mask = bkgd_parton_id == 4\n",
    "b_mask = bkgd_parton_id == 5\n",
    "\n",
    "dbar_mask = bkgd_parton_id == -1\n",
    "ubar_mask = bkgd_parton_id == -2\n",
    "sbar_mask = bkgd_parton_id == -3\n",
    "cbar_mask = bkgd_parton_id == -4\n",
    "bbar_mask = bkgd_parton_id == -5\n",
    "\n",
    "g_mask = bkgd_parton_id == 21\n",
    "\n",
    "unknown = bkgd_parton_id == 0"
   ]
  },
  {
   "cell_type": "code",
   "execution_count": 37,
   "id": "8eaadcc4",
   "metadata": {},
   "outputs": [
    {
     "data": {
      "application/vnd.jupyter.widget-view+json": {
       "model_id": "13c067d440e348b2b4fe352cf41bbcb7",
       "version_major": 2,
       "version_minor": 0
      },
      "text/plain": [
       "Canvas(toolbar=Toolbar(toolitems=[('Home', 'Reset original view', 'home', 'home'), ('Back', 'Back to previous …"
      ]
     },
     "metadata": {},
     "output_type": "display_data"
    }
   ],
   "source": [
    "fig, axs = plt.subplots(nrows=2, ncols=6, figsize=(15,4))\n",
    "\n",
    "ax = axs[0][0]\n",
    "hist(ax, scores_7[~combos7.sgnl_mask][d_mask])\n",
    "ax.set_title('d')\n",
    "\n",
    "ax = axs[0][1]\n",
    "hist(ax, scores_7[~combos7.sgnl_mask][u_mask])\n",
    "ax.set_title('u')\n",
    "\n",
    "ax = axs[0][2]\n",
    "hist(ax, scores_7[~combos7.sgnl_mask][s_mask])\n",
    "ax.set_title('s')\n",
    "\n",
    "ax = axs[0][3]\n",
    "hist(ax, scores_7[~combos7.sgnl_mask][c_mask])\n",
    "ax.set_title('c')\n",
    "\n",
    "ax = axs[0][4]\n",
    "hist(ax, scores_7[~combos7.sgnl_mask][b_mask])\n",
    "ax.set_title('b')\n",
    "\n",
    "ax = axs[0][5]\n",
    "hist(ax, scores_7[~combos7.sgnl_mask][g_mask])\n",
    "ax.set_title('g')\n",
    "\n",
    "\n",
    "\n",
    "ax = axs[1][0]\n",
    "hist(ax, scores_7[~combos7.sgnl_mask][dbar_mask])\n",
    "ax.set_title('dbar')\n",
    "\n",
    "ax = axs[1][1]\n",
    "hist(ax, scores_7[~combos7.sgnl_mask][ubar_mask])\n",
    "ax.set_title('ubar')\n",
    "\n",
    "ax = axs[1][2]\n",
    "hist(ax, scores_7[~combos7.sgnl_mask][sbar_mask])\n",
    "ax.set_title('sbar')\n",
    "\n",
    "ax = axs[1][3]\n",
    "hist(ax, scores_7[~combos7.sgnl_mask][cbar_mask])\n",
    "ax.set_title('cbar')\n",
    "\n",
    "ax = axs[1][4]\n",
    "hist(ax, scores_7[~combos7.sgnl_mask][bbar_mask])\n",
    "ax.set_title('bbar')\n",
    "\n",
    "ax = axs[1][5]\n",
    "hist(ax, scores_7[~combos7.sgnl_mask][unknown])\n",
    "ax.set_title('unknown')\n",
    "\n",
    "for ax in axs.flat:\n",
    "    ax.set_xlabel(\"Assigned Score\")\n",
    "    ax.set_ylabel(\"Count\")\n",
    "\n",
    "plt.tight_layout()"
   ]
  },
  {
   "cell_type": "code",
   "execution_count": 38,
   "id": "961cd523",
   "metadata": {},
   "outputs": [
    {
     "name": "stdout",
     "output_type": "stream",
     "text": [
      "0 11\n"
     ]
    }
   ],
   "source": [
    "print(swap_sgnl_idx.min(), swap_sgnl_idx.max())"
   ]
  },
  {
   "cell_type": "code",
   "execution_count": 68,
   "id": "13186846",
   "metadata": {},
   "outputs": [],
   "source": [
    "plt.close('all')"
   ]
  },
  {
   "cell_type": "code",
   "execution_count": 69,
   "id": "d46dfdfe",
   "metadata": {},
   "outputs": [
    {
     "data": {
      "application/vnd.jupyter.widget-view+json": {
       "model_id": "0011033a3c244fa6a4cce61c186d24ea",
       "version_major": 2,
       "version_minor": 0
      },
      "text/plain": [
       "Canvas(toolbar=Toolbar(toolitems=[('Home', 'Reset original view', 'home', 'home'), ('Back', 'Back to previous …"
      ]
     },
     "metadata": {},
     "output_type": "display_data"
    }
   ],
   "source": [
    "fig, ax = plt.subplots()\n",
    "\n",
    "n, x, y, im = hist2d(ax, swap_sgnl_idx, scores_7[~combos7.sgnl_mask], xbins=np.linspace(0,6,13))\n",
    "ax.set_xlim(0,5.5)\n",
    "plt.colorbar(im, ax=ax)\n",
    "\n",
    "ax.set_ylabel(\"Assigned Score\")\n",
    "\n",
    "plt.show()"
   ]
  },
  {
   "cell_type": "code",
   "execution_count": 75,
   "id": "81db45a3",
   "metadata": {},
   "outputs": [
    {
     "data": {
      "application/vnd.jupyter.widget-view+json": {
       "model_id": "723c076b89ca45c8bb677826905a1d75",
       "version_major": 2,
       "version_minor": 0
      },
      "text/plain": [
       "Canvas(toolbar=Toolbar(toolitems=[('Home', 'Reset original view', 'home', 'home'), ('Back', 'Back to previous …"
      ]
     },
     "metadata": {},
     "output_type": "display_data"
    },
    {
     "ename": "NameError",
     "evalue": "name 'hadron_id' is not defined",
     "output_type": "error",
     "traceback": [
      "\u001b[0;31m---------------------------------------------------------------------------\u001b[0m",
      "\u001b[0;31mNameError\u001b[0m                                 Traceback (most recent call last)",
      "\u001b[0;32m<ipython-input-75-a14e901e5267>\u001b[0m in \u001b[0;36m<module>\u001b[0;34m\u001b[0m\n\u001b[1;32m      1\u001b[0m \u001b[0mfig\u001b[0m\u001b[0;34m,\u001b[0m \u001b[0max\u001b[0m \u001b[0;34m=\u001b[0m \u001b[0mplt\u001b[0m\u001b[0;34m.\u001b[0m\u001b[0msubplots\u001b[0m\u001b[0;34m(\u001b[0m\u001b[0;34m)\u001b[0m\u001b[0;34m\u001b[0m\u001b[0;34m\u001b[0m\u001b[0m\n\u001b[1;32m      2\u001b[0m \u001b[0;34m\u001b[0m\u001b[0m\n\u001b[0;32m----> 3\u001b[0;31m \u001b[0mhist2d\u001b[0m\u001b[0;34m(\u001b[0m\u001b[0max\u001b[0m\u001b[0;34m,\u001b[0m \u001b[0mscores_7\u001b[0m\u001b[0;34m[\u001b[0m\u001b[0;34m~\u001b[0m\u001b[0mcombos7\u001b[0m\u001b[0;34m.\u001b[0m\u001b[0msgnl_mask\u001b[0m\u001b[0;34m]\u001b[0m\u001b[0;34m,\u001b[0m \u001b[0mhadron_id\u001b[0m\u001b[0;34m)\u001b[0m\u001b[0;34m\u001b[0m\u001b[0;34m\u001b[0m\u001b[0m\n\u001b[0m",
      "\u001b[0;31mNameError\u001b[0m: name 'hadron_id' is not defined"
     ]
    }
   ],
   "source": [
    "fig, ax = plt.subplots()\n",
    "\n",
    "hist2d(ax, scores_7[~combos7.sgnl_mask], hadron_id)"
   ]
  },
  {
   "cell_type": "code",
   "execution_count": null,
   "id": "019fa1ea",
   "metadata": {},
   "outputs": [],
   "source": []
  }
 ],
 "metadata": {
  "kernelspec": {
   "display_name": "Python 3",
   "language": "python",
   "name": "python3"
  },
  "language_info": {
   "codemirror_mode": {
    "name": "ipython",
    "version": 3
   },
   "file_extension": ".py",
   "mimetype": "text/x-python",
   "name": "python",
   "nbconvert_exporter": "python",
   "pygments_lexer": "ipython3",
   "version": "3.8.10"
  }
 },
 "nbformat": 4,
 "nbformat_minor": 5
}
